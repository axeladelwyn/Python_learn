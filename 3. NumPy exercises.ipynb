{
  "cells": [
    {
      "cell_type": "markdown",
      "metadata": {
        "id": "nkVuAJr8tj7N"
      },
      "source": [
        "![rmotr](https://user-images.githubusercontent.com/7065401/52071918-bda15380-2562-11e9-828c-7f95297e4a82.png)\n",
        "<hr style=\"margin-bottom: 40px;\">\n",
        "\n",
        "# NumPy exercises\n"
      ]
    },
    {
      "cell_type": "code",
      "execution_count": 2,
      "metadata": {
        "colab": {
          "base_uri": "https://localhost:8080/"
        },
        "id": "Y3Y5d25rtj7P",
        "outputId": "9942e666-7f30-4a98-ec57-4421d2172c10"
      },
      "outputs": [
        {
          "output_type": "stream",
          "name": "stdout",
          "text": [
            "1.26.4\n"
          ]
        }
      ],
      "source": [
        "# Import the numpy package under the name np\n",
        "import numpy as np\n",
        "\n",
        "# Print the numpy version and the configuration\n",
        "print(np.__version__)"
      ]
    },
    {
      "cell_type": "markdown",
      "metadata": {
        "id": "2zrpxOb_tj7Q"
      },
      "source": [
        "![purple-divider](https://user-images.githubusercontent.com/7065401/52071927-c1cd7100-2562-11e9-908a-dde91ba14e59.png)\n",
        "\n",
        "## Array creation"
      ]
    },
    {
      "cell_type": "markdown",
      "metadata": {
        "id": "S-db2F2otj7Q"
      },
      "source": [
        "### Create a numpy array of size 10, filled with zeros."
      ]
    },
    {
      "cell_type": "code",
      "execution_count": 3,
      "metadata": {
        "colab": {
          "base_uri": "https://localhost:8080/"
        },
        "id": "h9VCUG7Gtj7Q",
        "outputId": "d320784a-7773-4cf2-988a-597f025b7fbd"
      },
      "outputs": [
        {
          "output_type": "execute_result",
          "data": {
            "text/plain": [
              "array([0., 0., 0., 0., 0., 0., 0., 0., 0., 0.])"
            ]
          },
          "metadata": {},
          "execution_count": 3
        }
      ],
      "source": [
        "# your code goes here\n",
        "np.zeros(10)"
      ]
    },
    {
      "cell_type": "code",
      "execution_count": 4,
      "metadata": {
        "cell_type": "solution",
        "colab": {
          "base_uri": "https://localhost:8080/"
        },
        "id": "Dmu-kbYltj7R",
        "outputId": "f0b1a4e7-0c7b-4aed-a9de-015da0c48ec9"
      },
      "outputs": [
        {
          "output_type": "execute_result",
          "data": {
            "text/plain": [
              "array([0., 0., 0., 0., 0., 0., 0., 0., 0., 0.])"
            ]
          },
          "metadata": {},
          "execution_count": 4
        }
      ],
      "source": [
        "#np.array([0] * 10)\n",
        "np.zeros(10)"
      ]
    },
    {
      "cell_type": "markdown",
      "metadata": {
        "id": "62zpnDv4tj7R"
      },
      "source": [
        "![green-divider](https://user-images.githubusercontent.com/7065401/52071924-c003ad80-2562-11e9-8297-1c6595f8a7ff.png)\n",
        "\n",
        "### Create a numpy array with values ranging from 10 to 49"
      ]
    },
    {
      "cell_type": "code",
      "execution_count": 5,
      "metadata": {
        "colab": {
          "base_uri": "https://localhost:8080/"
        },
        "id": "9zYuv5EZtj7S",
        "outputId": "7dd4a9b5-1e2f-4b78-e32c-9e84009b9ab0"
      },
      "outputs": [
        {
          "output_type": "execute_result",
          "data": {
            "text/plain": [
              "array([10, 11, 12, 13, 14, 15, 16, 17, 18, 19, 20, 21, 22, 23, 24, 25, 26,\n",
              "       27, 28, 29, 30, 31, 32, 33, 34, 35, 36, 37, 38, 39, 40, 41, 42, 43,\n",
              "       44, 45, 46, 47, 48, 49])"
            ]
          },
          "metadata": {},
          "execution_count": 5
        }
      ],
      "source": [
        "# your code goes here\n",
        "np.arange(10,50)"
      ]
    },
    {
      "cell_type": "code",
      "execution_count": 6,
      "metadata": {
        "cell_type": "solution",
        "colab": {
          "base_uri": "https://localhost:8080/"
        },
        "id": "Iz1qHvpWtj7S",
        "outputId": "5cdb900b-cf31-4308-a414-0d8e76c8d190"
      },
      "outputs": [
        {
          "output_type": "execute_result",
          "data": {
            "text/plain": [
              "array([10, 11, 12, 13, 14, 15, 16, 17, 18, 19, 20, 21, 22, 23, 24, 25, 26,\n",
              "       27, 28, 29, 30, 31, 32, 33, 34, 35, 36, 37, 38, 39, 40, 41, 42, 43,\n",
              "       44, 45, 46, 47, 48, 49])"
            ]
          },
          "metadata": {},
          "execution_count": 6
        }
      ],
      "source": [
        "np.arange(10,50)"
      ]
    },
    {
      "cell_type": "markdown",
      "metadata": {
        "id": "C7WoRSaotj7T"
      },
      "source": [
        "![green-divider](https://user-images.githubusercontent.com/7065401/52071924-c003ad80-2562-11e9-8297-1c6595f8a7ff.png)\n",
        "\n",
        "### Create a numpy matrix of 2*2 integers, filled with ones."
      ]
    },
    {
      "cell_type": "code",
      "execution_count": 7,
      "metadata": {
        "colab": {
          "base_uri": "https://localhost:8080/"
        },
        "id": "7rDWT9iDtj7T",
        "outputId": "e128f1ae-d1b5-4f51-82ee-74f64da3a727"
      },
      "outputs": [
        {
          "output_type": "execute_result",
          "data": {
            "text/plain": [
              "array([[1, 1],\n",
              "       [1, 1]])"
            ]
          },
          "metadata": {},
          "execution_count": 7
        }
      ],
      "source": [
        "# your code goes here\n",
        "np.ones([2,2], dtype=int)"
      ]
    },
    {
      "cell_type": "code",
      "source": [
        "np.eye(5,5)"
      ],
      "metadata": {
        "colab": {
          "base_uri": "https://localhost:8080/"
        },
        "id": "b9cAxw205DWE",
        "outputId": "bcf351cd-65e4-489e-99dd-88c933bddcd2"
      },
      "execution_count": 8,
      "outputs": [
        {
          "output_type": "execute_result",
          "data": {
            "text/plain": [
              "array([[1., 0., 0., 0., 0.],\n",
              "       [0., 1., 0., 0., 0.],\n",
              "       [0., 0., 1., 0., 0.],\n",
              "       [0., 0., 0., 1., 0.],\n",
              "       [0., 0., 0., 0., 1.]])"
            ]
          },
          "metadata": {},
          "execution_count": 8
        }
      ]
    },
    {
      "cell_type": "code",
      "execution_count": 9,
      "metadata": {
        "cell_type": "solution",
        "colab": {
          "base_uri": "https://localhost:8080/"
        },
        "id": "yA91IvPgtj7T",
        "outputId": "894bdfc8-770b-4914-87d3-1b6d2dcbb151"
      },
      "outputs": [
        {
          "output_type": "execute_result",
          "data": {
            "text/plain": [
              "array([[1, 1],\n",
              "       [1, 1]])"
            ]
          },
          "metadata": {},
          "execution_count": 9
        }
      ],
      "source": [
        "np.ones([2,2], dtype=int)"
      ]
    },
    {
      "cell_type": "markdown",
      "metadata": {
        "id": "8sJdtNg2tj7U"
      },
      "source": [
        "![green-divider](https://user-images.githubusercontent.com/7065401/52071924-c003ad80-2562-11e9-8297-1c6595f8a7ff.png)\n",
        "\n",
        "### Create a numpy matrix of 3*2 float numbers, filled with ones."
      ]
    },
    {
      "cell_type": "code",
      "execution_count": 10,
      "metadata": {
        "colab": {
          "base_uri": "https://localhost:8080/"
        },
        "id": "3fyLPKZBtj7U",
        "outputId": "71b6617c-5400-4e41-ff3b-b505722e7e63"
      },
      "outputs": [
        {
          "output_type": "execute_result",
          "data": {
            "text/plain": [
              "array([[1., 1.],\n",
              "       [1., 1.]])"
            ]
          },
          "metadata": {},
          "execution_count": 10
        }
      ],
      "source": [
        "np.ones([2,2], dtype=float)# your code goes here\n"
      ]
    },
    {
      "cell_type": "code",
      "execution_count": 11,
      "metadata": {
        "cell_type": "solution",
        "colab": {
          "base_uri": "https://localhost:8080/"
        },
        "id": "nrRuIs38tj7U",
        "outputId": "ea16beda-be76-4da3-d131-15db98590f45"
      },
      "outputs": [
        {
          "output_type": "execute_result",
          "data": {
            "text/plain": [
              "array([[1., 1.],\n",
              "       [1., 1.],\n",
              "       [1., 1.]])"
            ]
          },
          "metadata": {},
          "execution_count": 11
        }
      ],
      "source": [
        "np.ones([3,2], dtype=float)"
      ]
    },
    {
      "cell_type": "markdown",
      "metadata": {
        "id": "QWifT03Vtj7U"
      },
      "source": [
        "![green-divider](https://user-images.githubusercontent.com/7065401/52071924-c003ad80-2562-11e9-8297-1c6595f8a7ff.png)\n",
        "\n",
        "### Given the X numpy array, create a new numpy array with the same shape and type as X, filled with ones."
      ]
    },
    {
      "cell_type": "code",
      "execution_count": 12,
      "metadata": {
        "colab": {
          "base_uri": "https://localhost:8080/"
        },
        "id": "eXXxHQA6tj7V",
        "outputId": "236a3f95-2409-4692-cd3e-678f7dee6fa8"
      },
      "outputs": [
        {
          "output_type": "execute_result",
          "data": {
            "text/plain": [
              "array([1, 1, 1, 1])"
            ]
          },
          "metadata": {},
          "execution_count": 12
        }
      ],
      "source": [
        "# your code goes here\n",
        "X = np.arange(4, dtype=int)\n",
        "np.ones_like(X)"
      ]
    },
    {
      "cell_type": "code",
      "execution_count": 13,
      "metadata": {
        "cell_type": "solution",
        "colab": {
          "base_uri": "https://localhost:8080/"
        },
        "id": "Zns8UllStj7V",
        "outputId": "fd703a7d-63e2-43a1-fee3-a3d19e86b868"
      },
      "outputs": [
        {
          "output_type": "execute_result",
          "data": {
            "text/plain": [
              "array([1, 1, 1, 1])"
            ]
          },
          "metadata": {},
          "execution_count": 13
        }
      ],
      "source": [
        "X = np.arange(4, dtype=int)\n",
        "\n",
        "np.ones_like(X)"
      ]
    },
    {
      "cell_type": "markdown",
      "metadata": {
        "id": "zUd98HHNtj7V"
      },
      "source": [
        "![green-divider](https://user-images.githubusercontent.com/7065401/52071924-c003ad80-2562-11e9-8297-1c6595f8a7ff.png)\n",
        "\n",
        "### Given the X numpy matrix, create a new numpy matrix with the same shape and type as X, filled with zeros."
      ]
    },
    {
      "cell_type": "code",
      "execution_count": 14,
      "metadata": {
        "colab": {
          "base_uri": "https://localhost:8080/"
        },
        "id": "7XEziA8rtj7V",
        "outputId": "4cb71fc8-9825-483c-c1ca-7dca710214d9"
      },
      "outputs": [
        {
          "output_type": "stream",
          "name": "stdout",
          "text": [
            "[[0 0 0]\n",
            " [0 0 0]]\n"
          ]
        }
      ],
      "source": [
        "# your code goes here\n",
        "# make an element that is similar to X but zeroes\n",
        "X = np.array([[1,2,3], [4,5,6]], dtype=int)\n",
        "zeros_X = np.zeros_like(X)\n",
        "print(zeros_X)\n"
      ]
    },
    {
      "cell_type": "code",
      "execution_count": 15,
      "metadata": {
        "cell_type": "solution",
        "colab": {
          "base_uri": "https://localhost:8080/"
        },
        "id": "Gtg0d0t5tj7W",
        "outputId": "88c9123e-4f5d-440e-9201-6be7bf01e700"
      },
      "outputs": [
        {
          "output_type": "execute_result",
          "data": {
            "text/plain": [
              "array([[0, 0, 0],\n",
              "       [0, 0, 0]])"
            ]
          },
          "metadata": {},
          "execution_count": 15
        }
      ],
      "source": [
        "X = np.array([[1,2,3], [4,5,6]], dtype=int)\n",
        "np.zeros_like(X)"
      ]
    },
    {
      "cell_type": "markdown",
      "metadata": {
        "id": "viD-HAzYtj7W"
      },
      "source": [
        "![green-divider](https://user-images.githubusercontent.com/7065401/52071924-c003ad80-2562-11e9-8297-1c6595f8a7ff.png)\n",
        "\n",
        "### Create a numpy matrix of 4*4 integers, filled with fives."
      ]
    },
    {
      "cell_type": "code",
      "execution_count": 16,
      "metadata": {
        "colab": {
          "base_uri": "https://localhost:8080/"
        },
        "id": "iEPaGFrBtj7W",
        "outputId": "b42e4bf3-910b-4b9f-cd9f-bbcf8bbc46bf"
      },
      "outputs": [
        {
          "output_type": "execute_result",
          "data": {
            "text/plain": [
              "array([[5, 5, 5, 5],\n",
              "       [5, 5, 5, 5],\n",
              "       [5, 5, 5, 5],\n",
              "       [5, 5, 5, 5]])"
            ]
          },
          "metadata": {},
          "execution_count": 16
        }
      ],
      "source": [
        "# your code goes here\n",
        "# [4,4] is the column and the row * 5 means the value will be 5 because 1 * 5 is 5\n",
        "np.ones([4,4], dtype=int) * 5"
      ]
    },
    {
      "cell_type": "code",
      "execution_count": 17,
      "metadata": {
        "cell_type": "solution",
        "colab": {
          "base_uri": "https://localhost:8080/"
        },
        "id": "xSbjTdgutj7W",
        "outputId": "f67e85b1-22f1-4f40-8274-ce1b94b3d384"
      },
      "outputs": [
        {
          "output_type": "execute_result",
          "data": {
            "text/plain": [
              "array([[5, 5, 5, 5],\n",
              "       [5, 5, 5, 5],\n",
              "       [5, 5, 5, 5],\n",
              "       [5, 5, 5, 5]])"
            ]
          },
          "metadata": {},
          "execution_count": 17
        }
      ],
      "source": [
        "np.ones([4,4], dtype=int) * 5"
      ]
    },
    {
      "cell_type": "markdown",
      "metadata": {
        "id": "zxc_WIlJtj7X"
      },
      "source": [
        "![green-divider](https://user-images.githubusercontent.com/7065401/52071924-c003ad80-2562-11e9-8297-1c6595f8a7ff.png)\n",
        "\n",
        "### Given the X numpy matrix, create a new numpy matrix with the same shape and type as X, filled with sevens."
      ]
    },
    {
      "cell_type": "code",
      "execution_count": 18,
      "metadata": {
        "colab": {
          "base_uri": "https://localhost:8080/"
        },
        "id": "4BfwQOC8tj7X",
        "outputId": "3ab3d22c-6600-4d64-c37e-362bf9aabb03"
      },
      "outputs": [
        {
          "output_type": "execute_result",
          "data": {
            "text/plain": [
              "array([[7, 7, 7],\n",
              "       [7, 7, 7]])"
            ]
          },
          "metadata": {},
          "execution_count": 18
        }
      ],
      "source": [
        "# your code goes here\n",
        "X = np.array([[1,2,3], [4,5,6]], dtype=int)\n",
        "np.ones_like(X, dtype=int) * 7"
      ]
    },
    {
      "cell_type": "code",
      "execution_count": 19,
      "metadata": {
        "cell_type": "solution",
        "colab": {
          "base_uri": "https://localhost:8080/"
        },
        "id": "klfNwfrUtj7X",
        "outputId": "2bfa6d40-0698-49bc-fd5a-e4de134b6d27"
      },
      "outputs": [
        {
          "output_type": "execute_result",
          "data": {
            "text/plain": [
              "array([[7, 7],\n",
              "       [7, 7]])"
            ]
          },
          "metadata": {},
          "execution_count": 19
        }
      ],
      "source": [
        "X = np.array([[2,3], [6,2]], dtype=int)\n",
        "np.ones_like(X) * 7"
      ]
    },
    {
      "cell_type": "markdown",
      "metadata": {
        "id": "oRo9_RZXtj7X"
      },
      "source": [
        "![green-divider](https://user-images.githubusercontent.com/7065401/52071924-c003ad80-2562-11e9-8297-1c6595f8a7ff.png)\n",
        "\n",
        "### Create a 3*3 identity numpy matrix with ones on the diagonal and zeros elsewhere."
      ]
    },
    {
      "cell_type": "code",
      "execution_count": 20,
      "metadata": {
        "colab": {
          "base_uri": "https://localhost:8080/"
        },
        "id": "1eGqeeJmtj7Y",
        "outputId": "0c6f87c3-89b0-4bee-d88c-4e04dfd402c0"
      },
      "outputs": [
        {
          "output_type": "execute_result",
          "data": {
            "text/plain": [
              "array([[1, 0, 0],\n",
              "       [0, 1, 0],\n",
              "       [0, 0, 1]])"
            ]
          },
          "metadata": {},
          "execution_count": 20
        }
      ],
      "source": [
        "# your code goes here\n",
        "np.identity(3)\n",
        "np.eye(3, 3, dtype = int)"
      ]
    },
    {
      "cell_type": "code",
      "execution_count": 21,
      "metadata": {
        "cell_type": "solution",
        "colab": {
          "base_uri": "https://localhost:8080/"
        },
        "id": "TxYOkaFDtj7Y",
        "outputId": "4af0f92e-db5d-44b6-baa1-32344890552f"
      },
      "outputs": [
        {
          "output_type": "execute_result",
          "data": {
            "text/plain": [
              "array([[1., 0., 0.],\n",
              "       [0., 1., 0.],\n",
              "       [0., 0., 1.]])"
            ]
          },
          "metadata": {},
          "execution_count": 21
        }
      ],
      "source": [
        "\n",
        "#np.eye(3)\n",
        "np.identity(3)"
      ]
    },
    {
      "cell_type": "markdown",
      "metadata": {
        "id": "4sLw8h5ftj7Y"
      },
      "source": [
        "![green-divider](https://user-images.githubusercontent.com/7065401/52071924-c003ad80-2562-11e9-8297-1c6595f8a7ff.png)\n",
        "\n",
        "### Create a numpy array, filled with 3 random integer values between 1 and 10."
      ]
    },
    {
      "cell_type": "code",
      "execution_count": 22,
      "metadata": {
        "colab": {
          "base_uri": "https://localhost:8080/"
        },
        "id": "bJ8CzKE9tj7Z",
        "outputId": "ab6ce87d-e6f4-4626-99fe-6f2ebbfbac33"
      },
      "outputs": [
        {
          "output_type": "stream",
          "name": "stdout",
          "text": [
            "\u001b[1;30;43mStreaming output truncated to the last 5000 lines.\u001b[0m\n",
            "[6 4 6]\n",
            "429\n",
            "[10  4  4]\n",
            "430\n",
            "[2 4 7]\n",
            "430\n",
            "[1 4 7]\n",
            "431\n",
            "[10  4  7]\n",
            "432\n",
            "[8 5 7]\n",
            "432\n",
            "[6 7 4]\n",
            "433\n",
            "[1 9 4]\n",
            "434\n",
            "[7 1 3]\n",
            "435\n",
            "[10  3  5]\n",
            "436\n",
            "[ 1  9 10]\n",
            "437\n",
            "[ 8  9 10]\n",
            "438\n",
            "[10  1  1]\n",
            "439\n",
            "[10  3  9]\n",
            "440\n",
            "[9 8 2]\n",
            "441\n",
            "[10  9  5]\n",
            "442\n",
            "[9 4 5]\n",
            "443\n",
            "[10  4  2]\n",
            "444\n",
            "[1 5 1]\n",
            "445\n",
            "[9 7 2]\n",
            "446\n",
            "[3 7 2]\n",
            "447\n",
            "[ 9 10  2]\n",
            "448\n",
            "[3 1 3]\n",
            "449\n",
            "[9 7 8]\n",
            "450\n",
            "[6 9 3]\n",
            "451\n",
            "[ 7  1 10]\n",
            "452\n",
            "[4 3 6]\n",
            "453\n",
            "[4 1 4]\n",
            "454\n",
            "[10 10  7]\n",
            "455\n",
            "[5 8 2]\n",
            "456\n",
            "[7 6 7]\n",
            "457\n",
            "[10  6  5]\n",
            "458\n",
            "[ 4 10 10]\n",
            "459\n",
            "[ 4  2 10]\n",
            "460\n",
            "[2 7 4]\n",
            "461\n",
            "[ 2  3 10]\n",
            "462\n",
            "[1 7 1]\n",
            "463\n",
            "[5 7 9]\n",
            "464\n",
            "[8 8 4]\n",
            "465\n",
            "[10  4  8]\n",
            "466\n",
            "[1 3 2]\n",
            "467\n",
            "[9 4 3]\n",
            "468\n",
            "[1 1 1]\n",
            "469\n",
            "[8 1 2]\n",
            "470\n",
            "[8 1 8]\n",
            "471\n",
            "[ 5 10  2]\n",
            "472\n",
            "[ 1 10  7]\n",
            "473\n",
            "[ 5  2 10]\n",
            "474\n",
            "[10  5  9]\n",
            "475\n",
            "[7 5 2]\n",
            "476\n",
            "[10  2  4]\n",
            "477\n",
            "[ 6  7 10]\n",
            "478\n",
            "[7 8 2]\n",
            "479\n",
            "[5 6 4]\n",
            "480\n",
            "[1 5 6]\n",
            "480\n",
            "[8 1 2]\n",
            "481\n",
            "[ 8  6 10]\n",
            "481\n",
            "[ 3 10  6]\n",
            "482\n",
            "[8 8 1]\n",
            "483\n",
            "[6 9 4]\n",
            "484\n",
            "[4 9 8]\n",
            "485\n",
            "[3 7 2]\n",
            "485\n",
            "[10  8  7]\n",
            "486\n",
            "[9 1 8]\n",
            "487\n",
            "[8 3 2]\n",
            "488\n",
            "[7 5 6]\n",
            "488\n",
            "[4 6 4]\n",
            "489\n",
            "[5 4 6]\n",
            "489\n",
            "[1 7 4]\n",
            "490\n",
            "[2 3 2]\n",
            "491\n",
            "[3 8 8]\n",
            "492\n",
            "[9 3 4]\n",
            "493\n",
            "[1 1 8]\n",
            "494\n",
            "[2 6 9]\n",
            "495\n",
            "[ 2 10  5]\n",
            "496\n",
            "[6 4 6]\n",
            "497\n",
            "[10  2  5]\n",
            "498\n",
            "[4 5 8]\n",
            "499\n",
            "[2 3 7]\n",
            "500\n",
            "[4 9 6]\n",
            "501\n",
            "[10 10  1]\n",
            "501\n",
            "[9 8 7]\n",
            "502\n",
            "[8 2 7]\n",
            "503\n",
            "[ 3 10  1]\n",
            "504\n",
            "[10  5  3]\n",
            "505\n",
            "[7 8 1]\n",
            "505\n",
            "[8 7 4]\n",
            "506\n",
            "[1 9 3]\n",
            "506\n",
            "[3 8 9]\n",
            "507\n",
            "[7 6 5]\n",
            "508\n",
            "[10 10  9]\n",
            "509\n",
            "[5 9 7]\n",
            "510\n",
            "[5 7 5]\n",
            "511\n",
            "[7 7 8]\n",
            "512\n",
            "[4 3 4]\n",
            "512\n",
            "[10  7  5]\n",
            "513\n",
            "[5 1 7]\n",
            "514\n",
            "[4 7 2]\n",
            "515\n",
            "[ 6 10  1]\n",
            "516\n",
            "[2 7 5]\n",
            "517\n",
            "[8 9 3]\n",
            "518\n",
            "[2 6 6]\n",
            "519\n",
            "[8 6 9]\n",
            "520\n",
            "[ 8 10  9]\n",
            "520\n",
            "[8 7 7]\n",
            "521\n",
            "[1 1 5]\n",
            "522\n",
            "[1 3 7]\n",
            "523\n",
            "[5 2 9]\n",
            "524\n",
            "[10  6  3]\n",
            "525\n",
            "[5 9 3]\n",
            "526\n",
            "[4 5 9]\n",
            "527\n",
            "[1 5 7]\n",
            "528\n",
            "[1 5 7]\n",
            "529\n",
            "[1 1 1]\n",
            "530\n",
            "[2 8 9]\n",
            "531\n",
            "[1 4 5]\n",
            "532\n",
            "[3 4 2]\n",
            "533\n",
            "[2 8 4]\n",
            "534\n",
            "[9 4 8]\n",
            "535\n",
            "[ 8 10  9]\n",
            "536\n",
            "[3 1 4]\n",
            "536\n",
            "[ 6  2 10]\n",
            "537\n",
            "[4 2 9]\n",
            "538\n",
            "[2 1 7]\n",
            "539\n",
            "[7 9 9]\n",
            "540\n",
            "[ 2  2 10]\n",
            "541\n",
            "[5 5 7]\n",
            "542\n",
            "[ 6 10  8]\n",
            "543\n",
            "[2 7 2]\n",
            "544\n",
            "[1 5 4]\n",
            "545\n",
            "[9 8 9]\n",
            "545\n",
            "[6 6 5]\n",
            "546\n",
            "[ 7 10  3]\n",
            "547\n",
            "[8 3 9]\n",
            "548\n",
            "[6 8 9]\n",
            "549\n",
            "[4 4 4]\n",
            "550\n",
            "[2 9 5]\n",
            "551\n",
            "[6 8 4]\n",
            "552\n",
            "[8 1 1]\n",
            "553\n",
            "[7 5 1]\n",
            "554\n",
            "[4 8 6]\n",
            "555\n",
            "[7 5 8]\n",
            "556\n",
            "[2 3 8]\n",
            "557\n",
            "[7 2 9]\n",
            "558\n",
            "[6 1 9]\n",
            "559\n",
            "[3 9 8]\n",
            "559\n",
            "[ 5  2 10]\n",
            "560\n",
            "[3 8 6]\n",
            "561\n",
            "[8 1 1]\n",
            "562\n",
            "[8 9 2]\n",
            "563\n",
            "[7 6 7]\n",
            "564\n",
            "[10  7  3]\n",
            "565\n",
            "[9 5 1]\n",
            "566\n",
            "[ 2  5 10]\n",
            "567\n",
            "[9 1 3]\n",
            "568\n",
            "[9 1 3]\n",
            "569\n",
            "[9 4 5]\n",
            "570\n",
            "[9 4 1]\n",
            "571\n",
            "[1 3 4]\n",
            "572\n",
            "[ 6  8 10]\n",
            "573\n",
            "[ 3 10  9]\n",
            "574\n",
            "[1 4 3]\n",
            "575\n",
            "[10  2  6]\n",
            "576\n",
            "[1 4 5]\n",
            "577\n",
            "[10  5  5]\n",
            "578\n",
            "[7 9 8]\n",
            "579\n",
            "[5 5 5]\n",
            "580\n",
            "[2 7 8]\n",
            "581\n",
            "[5 4 3]\n",
            "582\n",
            "[10  8  7]\n",
            "583\n",
            "[10  3  9]\n",
            "584\n",
            "[10  9  2]\n",
            "585\n",
            "[4 7 9]\n",
            "586\n",
            "[4 2 1]\n",
            "587\n",
            "[5 4 7]\n",
            "588\n",
            "[2 8 7]\n",
            "589\n",
            "[10  7  4]\n",
            "590\n",
            "[ 9 10  3]\n",
            "591\n",
            "[9 7 2]\n",
            "592\n",
            "[1 4 5]\n",
            "592\n",
            "[ 2  9 10]\n",
            "593\n",
            "[ 4  6 10]\n",
            "594\n",
            "[7 4 8]\n",
            "595\n",
            "[8 6 5]\n",
            "596\n",
            "[3 5 8]\n",
            "597\n",
            "[ 3  4 10]\n",
            "598\n",
            "[9 4 1]\n",
            "599\n",
            "[8 4 2]\n",
            "600\n",
            "[9 5 8]\n",
            "601\n",
            "[3 4 6]\n",
            "602\n",
            "[9 7 3]\n",
            "603\n",
            "[9 6 1]\n",
            "604\n",
            "[ 3 10  5]\n",
            "605\n",
            "[4 6 9]\n",
            "606\n",
            "[9 1 1]\n",
            "607\n",
            "[6 8 6]\n",
            "608\n",
            "[2 1 2]\n",
            "609\n",
            "[5 6 3]\n",
            "610\n",
            "[7 8 5]\n",
            "611\n",
            "[ 7 10  2]\n",
            "612\n",
            "[9 5 6]\n",
            "612\n",
            "[1 1 9]\n",
            "612\n",
            "[4 3 6]\n",
            "613\n",
            "[9 5 1]\n",
            "613\n",
            "[3 1 6]\n",
            "614\n",
            "[9 4 8]\n",
            "615\n",
            "[2 4 5]\n",
            "616\n",
            "[ 3  1 10]\n",
            "617\n",
            "[4 1 1]\n",
            "617\n",
            "[7 9 8]\n",
            "618\n",
            "[6 4 2]\n",
            "619\n",
            "[4 4 5]\n",
            "620\n",
            "[9 4 1]\n",
            "620\n",
            "[9 2 1]\n",
            "621\n",
            "[ 6 10  4]\n",
            "622\n",
            "[10  8 10]\n",
            "623\n",
            "[ 9  6 10]\n",
            "624\n",
            "[4 1 6]\n",
            "625\n",
            "[10  2  3]\n",
            "626\n",
            "[2 2 5]\n",
            "627\n",
            "[3 8 3]\n",
            "628\n",
            "[ 3 10  4]\n",
            "629\n",
            "[8 7 6]\n",
            "630\n",
            "[10  9  6]\n",
            "631\n",
            "[10  4  4]\n",
            "632\n",
            "[4 9 3]\n",
            "633\n",
            "[1 2 8]\n",
            "634\n",
            "[6 9 4]\n",
            "634\n",
            "[10  7 10]\n",
            "635\n",
            "[7 7 4]\n",
            "636\n",
            "[4 3 8]\n",
            "637\n",
            "[3 2 8]\n",
            "638\n",
            "[2 6 3]\n",
            "639\n",
            "[4 7 1]\n",
            "640\n",
            "[6 9 7]\n",
            "641\n",
            "[9 7 5]\n",
            "642\n",
            "[9 2 8]\n",
            "643\n",
            "[ 8 10  5]\n",
            "644\n",
            "[6 7 8]\n",
            "645\n",
            "[7 2 7]\n",
            "646\n",
            "[1 7 2]\n",
            "647\n",
            "[ 2 10  1]\n",
            "648\n",
            "[ 2  4 10]\n",
            "649\n",
            "[4 1 4]\n",
            "650\n",
            "[10  3  8]\n",
            "651\n",
            "[1 4 6]\n",
            "652\n",
            "[10  4  3]\n",
            "653\n",
            "[3 8 2]\n",
            "654\n",
            "[8 3 8]\n",
            "654\n",
            "[10 10  6]\n",
            "655\n",
            "[5 9 4]\n",
            "656\n",
            "[3 6 7]\n",
            "657\n",
            "[2 1 5]\n",
            "658\n",
            "[10  2  5]\n",
            "659\n",
            "[10  3  7]\n",
            "660\n",
            "[3 6 4]\n",
            "660\n",
            "[4 9 4]\n",
            "661\n",
            "[ 2  8 10]\n",
            "662\n",
            "[3 6 1]\n",
            "663\n",
            "[9 4 3]\n",
            "664\n",
            "[2 2 4]\n",
            "665\n",
            "[3 9 5]\n",
            "666\n",
            "[5 6 2]\n",
            "667\n",
            "[ 8  3 10]\n",
            "668\n",
            "[6 8 2]\n",
            "669\n",
            "[3 4 8]\n",
            "670\n",
            "[2 2 7]\n",
            "671\n",
            "[5 8 9]\n",
            "672\n",
            "[ 6 10  7]\n",
            "673\n",
            "[9 9 6]\n",
            "673\n",
            "[9 9 1]\n",
            "674\n",
            "[ 4 10  9]\n",
            "675\n",
            "[5 3 2]\n",
            "676\n",
            "[ 1 10  3]\n",
            "677\n",
            "[4 9 6]\n",
            "678\n",
            "[4 2 6]\n",
            "679\n",
            "[6 8 7]\n",
            "680\n",
            "[ 5 10  9]\n",
            "681\n",
            "[4 3 8]\n",
            "682\n",
            "[2 1 7]\n",
            "683\n",
            "[6 9 5]\n",
            "684\n",
            "[3 1 6]\n",
            "685\n",
            "[7 2 7]\n",
            "686\n",
            "[9 5 7]\n",
            "687\n",
            "[10  1  8]\n",
            "688\n",
            "[6 4 5]\n",
            "689\n",
            "[2 7 7]\n",
            "690\n",
            "[2 5 3]\n",
            "691\n",
            "[10  4  6]\n",
            "692\n",
            "[9 5 8]\n",
            "693\n",
            "[4 7 4]\n",
            "694\n",
            "[4 2 7]\n",
            "695\n",
            "[2 6 8]\n",
            "696\n",
            "[ 1 10  3]\n",
            "697\n",
            "[7 1 6]\n",
            "698\n",
            "[3 7 5]\n",
            "699\n",
            "[10  5  5]\n",
            "700\n",
            "[6 2 6]\n",
            "701\n",
            "[6 6 1]\n",
            "702\n",
            "[3 7 4]\n",
            "703\n",
            "[1 3 4]\n",
            "704\n",
            "[7 9 1]\n",
            "705\n",
            "[4 6 5]\n",
            "706\n",
            "[ 6  1 10]\n",
            "707\n",
            "[1 1 8]\n",
            "708\n",
            "[2 6 6]\n",
            "709\n",
            "[2 5 1]\n",
            "710\n",
            "[ 9  5 10]\n",
            "711\n",
            "[3 7 3]\n",
            "712\n",
            "[4 6 3]\n",
            "713\n",
            "[ 1  6 10]\n",
            "714\n",
            "[6 3 5]\n",
            "715\n",
            "[8 5 4]\n",
            "716\n",
            "[1 4 3]\n",
            "717\n",
            "[2 6 3]\n",
            "718\n",
            "[10  6  8]\n",
            "719\n",
            "[3 5 9]\n",
            "720\n",
            "[ 8 10 10]\n",
            "721\n",
            "[9 1 8]\n",
            "722\n",
            "[5 3 1]\n",
            "723\n",
            "[8 6 2]\n",
            "724\n",
            "[8 9 1]\n",
            "725\n",
            "[ 2 10  1]\n",
            "726\n",
            "[5 3 9]\n",
            "727\n",
            "[8 6 2]\n",
            "728\n",
            "[3 2 3]\n",
            "729\n",
            "[2 9 9]\n",
            "729\n",
            "[10  7 10]\n",
            "730\n",
            "[7 2 1]\n",
            "731\n",
            "[10  3  5]\n",
            "732\n",
            "[ 2  1 10]\n",
            "733\n",
            "[10 10  6]\n",
            "734\n",
            "[3 4 9]\n",
            "734\n",
            "[5 9 2]\n",
            "734\n",
            "[1 1 9]\n",
            "735\n",
            "[8 1 8]\n",
            "735\n",
            "[1 2 7]\n",
            "736\n",
            "[9 8 5]\n",
            "737\n",
            "[2 1 6]\n",
            "738\n",
            "[1 1 5]\n",
            "739\n",
            "[1 8 5]\n",
            "740\n",
            "[4 8 8]\n",
            "740\n",
            "[3 9 3]\n",
            "741\n",
            "[9 4 3]\n",
            "742\n",
            "[1 5 8]\n",
            "743\n",
            "[ 6  3 10]\n",
            "744\n",
            "[7 1 4]\n",
            "745\n",
            "[9 2 1]\n",
            "746\n",
            "[5 9 2]\n",
            "747\n",
            "[10 10 10]\n",
            "748\n",
            "[9 4 7]\n",
            "749\n",
            "[4 6 8]\n",
            "749\n",
            "[10 10  2]\n",
            "750\n",
            "[10  6  3]\n",
            "750\n",
            "[7 5 5]\n",
            "751\n",
            "[7 2 7]\n",
            "752\n",
            "[8 9 6]\n",
            "753\n",
            "[5 9 1]\n",
            "754\n",
            "[9 8 7]\n",
            "755\n",
            "[ 8  3 10]\n",
            "756\n",
            "[5 6 8]\n",
            "756\n",
            "[10  7  7]\n",
            "757\n",
            "[5 4 5]\n",
            "758\n",
            "[ 3 10  1]\n",
            "759\n",
            "[1 4 8]\n",
            "759\n",
            "[3 4 5]\n",
            "759\n",
            "[9 5 4]\n",
            "760\n",
            "[3 1 4]\n",
            "761\n",
            "[10  6  8]\n",
            "761\n",
            "[1 7 4]\n",
            "762\n",
            "[ 6 10  1]\n",
            "763\n",
            "[1 9 6]\n",
            "763\n",
            "[ 6 10  5]\n",
            "764\n",
            "[2 6 8]\n",
            "765\n",
            "[3 1 4]\n",
            "766\n",
            "[3 7 2]\n",
            "767\n",
            "[10  7  6]\n",
            "768\n",
            "[4 3 9]\n",
            "769\n",
            "[1 3 6]\n",
            "770\n",
            "[7 5 6]\n",
            "771\n",
            "[6 2 6]\n",
            "772\n",
            "[4 9 8]\n",
            "772\n",
            "[10  6  2]\n",
            "773\n",
            "[7 7 1]\n",
            "774\n",
            "[9 1 4]\n",
            "775\n",
            "[3 9 7]\n",
            "775\n",
            "[10  8  7]\n",
            "776\n",
            "[6 7 9]\n",
            "777\n",
            "[3 4 7]\n",
            "778\n",
            "[9 6 3]\n",
            "779\n",
            "[3 4 6]\n",
            "779\n",
            "[8 8 5]\n",
            "780\n",
            "[6 3 8]\n",
            "781\n",
            "[10  7  6]\n",
            "781\n",
            "[3 2 3]\n",
            "782\n",
            "[9 1 4]\n",
            "783\n",
            "[2 5 2]\n",
            "784\n",
            "[ 8 10  6]\n",
            "785\n",
            "[ 7 10  3]\n",
            "785\n",
            "[ 3 10  7]\n",
            "786\n",
            "[2 3 6]\n",
            "787\n",
            "[6 4 9]\n",
            "788\n",
            "[4 7 9]\n",
            "788\n",
            "[9 7 5]\n",
            "789\n",
            "[ 2  7 10]\n",
            "790\n",
            "[7 5 9]\n",
            "791\n",
            "[4 5 1]\n",
            "792\n",
            "[9 4 8]\n",
            "793\n",
            "[4 7 9]\n",
            "794\n",
            "[ 2 10  2]\n",
            "795\n",
            "[1 4 5]\n",
            "796\n",
            "[7 8 4]\n",
            "797\n",
            "[6 4 1]\n",
            "798\n",
            "[10  3  3]\n",
            "799\n",
            "[1 5 9]\n",
            "800\n",
            "[ 6  4 10]\n",
            "801\n",
            "[7 4 2]\n",
            "802\n",
            "[8 5 8]\n",
            "802\n",
            "[2 4 9]\n",
            "802\n",
            "[8 7 4]\n",
            "802\n",
            "[4 3 2]\n",
            "803\n",
            "[3 6 4]\n",
            "804\n",
            "[3 9 2]\n",
            "805\n",
            "[7 4 5]\n",
            "806\n",
            "[7 9 3]\n",
            "806\n",
            "[9 5 5]\n",
            "807\n",
            "[2 3 9]\n",
            "808\n",
            "[10  1  4]\n",
            "809\n",
            "[3 7 1]\n",
            "810\n",
            "[5 3 4]\n",
            "811\n",
            "[1 5 6]\n",
            "812\n",
            "[5 9 6]\n",
            "813\n",
            "[6 2 8]\n",
            "814\n",
            "[ 7 10  8]\n",
            "815\n",
            "[2 5 6]\n",
            "816\n",
            "[6 2 2]\n",
            "817\n",
            "[1 2 5]\n",
            "818\n",
            "[1 5 8]\n",
            "819\n",
            "[3 7 5]\n",
            "820\n",
            "[ 4 10  5]\n",
            "820\n",
            "[2 9 7]\n",
            "821\n",
            "[6 5 6]\n",
            "822\n",
            "[5 2 9]\n",
            "823\n",
            "[4 6 9]\n",
            "824\n",
            "[9 7 6]\n",
            "825\n",
            "[ 3  7 10]\n",
            "826\n",
            "[ 7 10  5]\n",
            "827\n",
            "[ 3  6 10]\n",
            "828\n",
            "[10  5  4]\n",
            "829\n",
            "[6 7 2]\n",
            "830\n",
            "[6 2 5]\n",
            "831\n",
            "[9 6 9]\n",
            "832\n",
            "[10  1  9]\n",
            "833\n",
            "[2 1 7]\n",
            "834\n",
            "[2 4 4]\n",
            "835\n",
            "[3 4 5]\n",
            "836\n",
            "[2 4 9]\n",
            "837\n",
            "[7 3 2]\n",
            "838\n",
            "[1 8 1]\n",
            "839\n",
            "[9 6 2]\n",
            "840\n",
            "[ 2  8 10]\n",
            "841\n",
            "[4 5 5]\n",
            "842\n",
            "[2 5 7]\n",
            "843\n",
            "[1 8 7]\n",
            "844\n",
            "[ 8 10  4]\n",
            "845\n",
            "[6 1 3]\n",
            "846\n",
            "[ 7  8 10]\n",
            "847\n",
            "[10  6  4]\n",
            "848\n",
            "[ 2  7 10]\n",
            "849\n",
            "[9 1 2]\n",
            "850\n",
            "[4 8 2]\n",
            "851\n",
            "[7 9 1]\n",
            "852\n",
            "[7 3 3]\n",
            "853\n",
            "[10 10  7]\n",
            "854\n",
            "[2 8 4]\n",
            "855\n",
            "[9 6 2]\n",
            "856\n",
            "[6 2 1]\n",
            "857\n",
            "[10  3  9]\n",
            "858\n",
            "[8 1 5]\n",
            "859\n",
            "[6 7 1]\n",
            "860\n",
            "[6 1 6]\n",
            "861\n",
            "[9 3 6]\n",
            "861\n",
            "[9 8 3]\n",
            "862\n",
            "[ 2 10  3]\n",
            "863\n",
            "[9 6 4]\n",
            "863\n",
            "[ 8  5 10]\n",
            "864\n",
            "[10 10  2]\n",
            "864\n",
            "[ 6  2 10]\n",
            "864\n",
            "[ 2  5 10]\n",
            "865\n",
            "[2 9 4]\n",
            "866\n",
            "[9 8 2]\n",
            "867\n",
            "[4 7 5]\n",
            "868\n",
            "[1 2 8]\n",
            "869\n",
            "[ 4 10  8]\n",
            "870\n",
            "[8 4 2]\n",
            "871\n",
            "[7 8 9]\n",
            "872\n",
            "[ 6  1 10]\n",
            "873\n",
            "[7 1 6]\n",
            "874\n",
            "[7 1 5]\n",
            "875\n",
            "[10  3 10]\n",
            "876\n",
            "[5 2 1]\n",
            "877\n",
            "[3 2 7]\n",
            "878\n",
            "[10  2  7]\n",
            "879\n",
            "[5 3 7]\n",
            "880\n",
            "[10 10 10]\n",
            "881\n",
            "[5 9 7]\n",
            "882\n",
            "[ 4  6 10]\n",
            "883\n",
            "[ 6 10  3]\n",
            "884\n",
            "[4 6 7]\n",
            "885\n",
            "[6 7 5]\n",
            "885\n",
            "[6 2 5]\n",
            "886\n",
            "[8 8 3]\n",
            "887\n",
            "[3 4 4]\n",
            "888\n",
            "[ 2  7 10]\n",
            "889\n",
            "[ 5  4 10]\n",
            "889\n",
            "[2 4 2]\n",
            "890\n",
            "[1 3 8]\n",
            "891\n",
            "[ 7 10  9]\n",
            "892\n",
            "[ 2 10  1]\n",
            "892\n",
            "[ 3  2 10]\n",
            "893\n",
            "[ 7 10  3]\n",
            "894\n",
            "[4 6 4]\n",
            "895\n",
            "[8 2 4]\n",
            "895\n",
            "[2 6 4]\n",
            "896\n",
            "[6 6 7]\n",
            "897\n",
            "[2 8 7]\n",
            "898\n",
            "[5 5 5]\n",
            "899\n",
            "[4 7 2]\n",
            "900\n",
            "[7 2 7]\n",
            "901\n",
            "[ 1 10  1]\n",
            "902\n",
            "[ 3  6 10]\n",
            "903\n",
            "[ 4 10  8]\n",
            "904\n",
            "[10  6  2]\n",
            "905\n",
            "[1 5 1]\n",
            "906\n",
            "[1 3 7]\n",
            "907\n",
            "[10  2  1]\n",
            "907\n",
            "[4 8 8]\n",
            "908\n",
            "[5 1 5]\n",
            "909\n",
            "[ 5 10  3]\n",
            "910\n",
            "[9 9 4]\n",
            "911\n",
            "[ 8  8 10]\n",
            "912\n",
            "[ 1 10  7]\n",
            "912\n",
            "[7 3 9]\n",
            "913\n",
            "[6 9 9]\n",
            "914\n",
            "[2 7 7]\n",
            "915\n",
            "[ 9 10  2]\n",
            "916\n",
            "[6 1 7]\n",
            "917\n",
            "[3 4 5]\n",
            "918\n",
            "[4 5 8]\n",
            "918\n",
            "[1 9 7]\n",
            "919\n",
            "[1 5 9]\n",
            "919\n",
            "[3 8 3]\n",
            "920\n",
            "[ 3  4 10]\n",
            "921\n",
            "[1 5 3]\n",
            "922\n",
            "[9 6 1]\n",
            "923\n",
            "[ 8 10  9]\n",
            "923\n",
            "[8 5 2]\n",
            "924\n",
            "[9 4 8]\n",
            "925\n",
            "[2 6 7]\n",
            "926\n",
            "[7 1 7]\n",
            "927\n",
            "[2 7 9]\n",
            "928\n",
            "[10  6  9]\n",
            "929\n",
            "[10  9 10]\n",
            "930\n",
            "[5 1 6]\n",
            "930\n",
            "[4 9 7]\n",
            "931\n",
            "[3 2 3]\n",
            "932\n",
            "[2 7 7]\n",
            "933\n",
            "[10  7  2]\n",
            "934\n",
            "[1 2 2]\n",
            "934\n",
            "[ 8  7 10]\n",
            "935\n",
            "[1 3 7]\n",
            "936\n",
            "[7 8 6]\n",
            "937\n",
            "[5 9 9]\n",
            "937\n",
            "[1 3 3]\n",
            "938\n",
            "[ 1 10  6]\n",
            "939\n",
            "[3 9 8]\n",
            "940\n",
            "[6 7 7]\n",
            "940\n",
            "[9 1 7]\n",
            "941\n",
            "[7 7 1]\n",
            "942\n",
            "[2 4 8]\n",
            "943\n",
            "[6 7 8]\n",
            "944\n",
            "[ 5 10  2]\n",
            "945\n",
            "[10 10  5]\n",
            "946\n",
            "[6 1 7]\n",
            "946\n",
            "[ 2 10  3]\n",
            "947\n",
            "[ 6  1 10]\n",
            "948\n",
            "[2 5 8]\n",
            "949\n",
            "[6 3 6]\n",
            "950\n",
            "[5 9 7]\n",
            "951\n",
            "[4 1 4]\n",
            "952\n",
            "[9 7 3]\n",
            "953\n",
            "[10  8  1]\n",
            "954\n",
            "[6 7 4]\n",
            "955\n",
            "[1 1 1]\n",
            "956\n",
            "[6 2 4]\n",
            "957\n",
            "[8 3 9]\n",
            "958\n",
            "[2 8 1]\n",
            "958\n",
            "[1 1 2]\n",
            "959\n",
            "[5 9 8]\n",
            "960\n",
            "[ 2  5 10]\n",
            "961\n",
            "[1 1 1]\n",
            "962\n",
            "[8 5 2]\n",
            "962\n",
            "[5 5 4]\n",
            "963\n",
            "[8 7 3]\n",
            "964\n",
            "[ 1 10  6]\n",
            "964\n",
            "[5 6 7]\n",
            "964\n",
            "[ 7  9 10]\n",
            "965\n",
            "[2 6 8]\n",
            "966\n",
            "[6 1 4]\n",
            "967\n",
            "[7 4 5]\n",
            "968\n",
            "[7 9 5]\n",
            "969\n",
            "[ 6  4 10]\n",
            "970\n",
            "[7 9 1]\n",
            "971\n",
            "[5 8 3]\n",
            "972\n",
            "[7 2 5]\n",
            "973\n",
            "[4 7 1]\n",
            "974\n",
            "[6 8 3]\n",
            "975\n",
            "[10  4  5]\n",
            "976\n",
            "[1 7 8]\n",
            "977\n",
            "[9 2 1]\n",
            "978\n",
            "[ 9 10  6]\n",
            "979\n",
            "[10  3  6]\n",
            "980\n",
            "[1 5 5]\n",
            "981\n",
            "[1 4 3]\n",
            "982\n",
            "[6 6 7]\n",
            "983\n",
            "[1 8 6]\n",
            "984\n",
            "[5 7 4]\n",
            "985\n",
            "[ 5 10  6]\n",
            "986\n",
            "[8 6 2]\n",
            "987\n",
            "[2 2 7]\n",
            "988\n",
            "[8 7 9]\n",
            "988\n",
            "[ 1 10 10]\n",
            "989\n",
            "[8 3 6]\n",
            "990\n",
            "[7 1 4]\n",
            "991\n",
            "[1 6 9]\n",
            "992\n",
            "[8 9 8]\n",
            "993\n",
            "[2 1 4]\n",
            "994\n",
            "[3 8 2]\n",
            "995\n",
            "[4 8 9]\n",
            "996\n",
            "[2 1 5]\n",
            "997\n",
            "[9 4 3]\n",
            "998\n",
            "[7 6 3]\n",
            "999\n",
            "[9 6 2]\n",
            "1000\n",
            "[7 8 1]\n",
            "1001\n",
            "[4 4 6]\n",
            "1002\n",
            "[ 9  9 10]\n",
            "1003\n",
            "[6 8 4]\n",
            "1004\n",
            "[5 8 8]\n",
            "1004\n",
            "[8 4 6]\n",
            "1005\n",
            "[10  5  7]\n",
            "1006\n",
            "[9 3 2]\n",
            "1007\n",
            "[7 2 6]\n",
            "1008\n",
            "[2 2 9]\n",
            "1009\n",
            "[10  2  6]\n",
            "1010\n",
            "[ 7 10 10]\n",
            "1011\n",
            "[5 1 7]\n",
            "1012\n",
            "[2 2 8]\n",
            "1013\n",
            "[5 2 8]\n",
            "1014\n",
            "[ 5 10  1]\n",
            "1015\n",
            "[ 1  6 10]\n",
            "1016\n",
            "[9 3 2]\n",
            "1016\n",
            "[9 6 1]\n",
            "1016\n",
            "[9 9 1]\n",
            "1017\n",
            "[4 2 7]\n",
            "1018\n",
            "[1 8 2]\n",
            "1018\n",
            "[10  4  5]\n",
            "1019\n",
            "[6 7 6]\n",
            "1020\n",
            "[5 4 8]\n",
            "1021\n",
            "[5 9 6]\n",
            "1022\n",
            "[2 7 5]\n",
            "1023\n",
            "[4 8 2]\n",
            "1024\n",
            "[9 5 1]\n",
            "1024\n",
            "[8 5 1]\n",
            "1025\n",
            "[10  9  5]\n",
            "1026\n",
            "[3 6 3]\n",
            "1027\n",
            "[9 2 4]\n",
            "1028\n",
            "[2 8 1]\n",
            "1029\n",
            "[7 2 8]\n",
            "1030\n",
            "[5 4 8]\n",
            "1030\n",
            "[1 4 6]\n",
            "1031\n",
            "[4 2 5]\n",
            "1031\n",
            "[8 8 2]\n",
            "1032\n",
            "[8 7 9]\n",
            "1032\n",
            "[6 9 8]\n",
            "1033\n",
            "[ 3  2 10]\n",
            "1033\n",
            "[5 3 1]\n",
            "1034\n",
            "[ 5 10  5]\n",
            "1035\n",
            "[5 9 5]\n",
            "1036\n",
            "[2 7 4]\n",
            "1037\n",
            "[4 9 8]\n",
            "1038\n",
            "[3 2 5]\n",
            "1039\n",
            "[8 5 7]\n",
            "1040\n",
            "[ 4 10  8]\n",
            "1041\n",
            "[5 6 9]\n",
            "1042\n",
            "[7 9 6]\n",
            "1043\n",
            "[9 2 7]\n",
            "1044\n",
            "[1 3 5]\n",
            "1045\n",
            "[8 4 4]\n",
            "1046\n",
            "[4 5 4]\n",
            "1047\n",
            "[9 5 4]\n",
            "1048\n",
            "[3 2 2]\n",
            "1049\n",
            "[1 6 1]\n",
            "1050\n",
            "[1 8 6]\n",
            "1051\n",
            "[8 1 6]\n",
            "1052\n",
            "[6 9 7]\n",
            "1053\n",
            "[10  7  1]\n",
            "1054\n",
            "[10  2  2]\n",
            "1055\n",
            "[8 4 1]\n",
            "1056\n",
            "[10  9 10]\n",
            "1057\n",
            "[ 7 10  9]\n",
            "1058\n",
            "[10 10  5]\n",
            "1059\n",
            "[6 4 6]\n",
            "1060\n",
            "[5 8 5]\n",
            "1060\n",
            "[2 9 9]\n",
            "1061\n",
            "[3 7 5]\n",
            "1062\n",
            "[6 9 3]\n",
            "1063\n",
            "[ 3  4 10]\n",
            "1064\n",
            "[6 6 1]\n",
            "1065\n",
            "[3 1 2]\n",
            "1066\n",
            "[7 9 3]\n",
            "1067\n",
            "[4 6 5]\n",
            "1068\n",
            "[4 7 5]\n",
            "1069\n",
            "[1 2 4]\n",
            "1070\n",
            "[ 8 10  7]\n",
            "1071\n",
            "[4 2 5]\n",
            "1072\n",
            "[1 7 1]\n",
            "1073\n",
            "[ 4  7 10]\n",
            "1074\n",
            "[1 9 6]\n",
            "1075\n",
            "[2 5 7]\n",
            "1076\n",
            "[7 1 4]\n",
            "1077\n",
            "[10  1  6]\n",
            "1078\n",
            "[10  9  1]\n",
            "1079\n",
            "[5 1 1]\n",
            "1080\n",
            "[8 5 3]\n",
            "1081\n",
            "[ 6 10 10]\n",
            "1082\n",
            "[1 9 5]\n",
            "1083\n",
            "[4 9 9]\n",
            "1084\n",
            "[10  4  4]\n",
            "1085\n",
            "[8 9 9]\n",
            "1085\n",
            "[3 7 9]\n",
            "1086\n",
            "[6 5 2]\n",
            "1087\n",
            "[1 5 8]\n",
            "1088\n",
            "[3 8 5]\n",
            "1089\n",
            "[9 2 5]\n",
            "1090\n",
            "[5 6 2]\n",
            "1090\n",
            "[ 8  4 10]\n",
            "1091\n",
            "[3 2 1]\n",
            "1092\n",
            "[3 9 7]\n",
            "1093\n",
            "[3 7 4]\n",
            "1094\n",
            "[6 4 3]\n",
            "1095\n",
            "[9 3 5]\n",
            "1096\n",
            "[1 8 9]\n",
            "1097\n",
            "[9 5 1]\n",
            "1098\n",
            "[1 1 2]\n",
            "1099\n",
            "[ 4  1 10]\n",
            "1100\n",
            "[5 1 6]\n",
            "1101\n",
            "[2 7 1]\n",
            "1102\n",
            "[4 5 1]\n",
            "1103\n",
            "[1 1 3]\n",
            "1104\n",
            "[9 9 6]\n",
            "1105\n",
            "[ 9 10  2]\n",
            "1106\n",
            "[10  6  6]\n",
            "1106\n",
            "[1 9 5]\n",
            "1107\n",
            "[8 2 3]\n",
            "1107\n",
            "[8 3 6]\n",
            "1108\n",
            "[ 3 10  3]\n",
            "1109\n",
            "[ 8  7 10]\n",
            "1110\n",
            "[10  3  3]\n",
            "1111\n",
            "[2 7 8]\n",
            "1112\n",
            "[ 9 10  2]\n",
            "1113\n",
            "[8 3 2]\n",
            "1113\n",
            "[3 4 2]\n",
            "1114\n",
            "[1 9 9]\n",
            "1115\n",
            "[1 8 2]\n",
            "1116\n",
            "[2 9 4]\n",
            "1117\n",
            "[7 6 7]\n",
            "1118\n",
            "[9 8 7]\n",
            "1119\n",
            "[8 4 3]\n",
            "1120\n",
            "[5 2 4]\n",
            "1121\n",
            "[10  9  1]\n",
            "1122\n",
            "[4 3 2]\n",
            "1123\n",
            "[3 7 9]\n",
            "1124\n",
            "[8 9 6]\n",
            "1125\n",
            "[3 5 2]\n",
            "1126\n",
            "[10  2  1]\n",
            "1127\n",
            "[3 2 3]\n",
            "1128\n",
            "[2 1 8]\n",
            "1129\n",
            "[6 1 2]\n",
            "1130\n",
            "[ 5  7 10]\n",
            "1131\n",
            "[10  1  7]\n",
            "1132\n",
            "[ 5 10  7]\n",
            "1133\n",
            "[1 5 5]\n",
            "1134\n",
            "[4 2 5]\n",
            "1135\n",
            "[6 1 9]\n",
            "1135\n",
            "[4 8 4]\n",
            "1136\n",
            "[6 1 1]\n",
            "1137\n",
            "[7 1 8]\n",
            "1138\n",
            "[ 7 10  6]\n",
            "1139\n",
            "[4 6 5]\n",
            "1140\n",
            "[2 3 8]\n",
            "1141\n",
            "[ 2  3 10]\n",
            "1142\n",
            "[1 1 5]\n",
            "1143\n",
            "[ 2 10  1]\n",
            "1144\n",
            "[3 7 8]\n",
            "1145\n",
            "[4 2 8]\n",
            "1146\n",
            "[1 4 9]\n",
            "1147\n",
            "[ 5  5 10]\n",
            "1147\n",
            "[10 10  5]\n",
            "1148\n",
            "[6 6 4]\n",
            "1149\n",
            "[2 7 4]\n",
            "1149\n",
            "[9 7 5]\n",
            "1150\n",
            "[8 1 1]\n",
            "1151\n",
            "[3 5 4]\n",
            "1152\n",
            "[6 7 1]\n",
            "1153\n",
            "[ 8  1 10]\n",
            "1154\n",
            "[8 1 8]\n",
            "1155\n",
            "[7 5 7]\n",
            "1156\n",
            "[10  7  8]\n",
            "1157\n",
            "[10  7  6]\n",
            "1158\n",
            "[10  6  2]\n",
            "1159\n",
            "[8 8 4]\n",
            "1160\n",
            "[ 7 10  8]\n",
            "1161\n",
            "[ 7 10 10]\n",
            "1162\n",
            "[ 2  8 10]\n",
            "1163\n",
            "[4 9 7]\n",
            "1164\n",
            "[ 4  4 10]\n",
            "1164\n",
            "[3 7 9]\n",
            "1165\n",
            "[ 9 10  9]\n",
            "1166\n",
            "[5 4 3]\n",
            "1167\n",
            "[1 3 7]\n",
            "1168\n",
            "[3 3 5]\n",
            "1169\n",
            "[4 7 7]\n",
            "1169\n",
            "[6 6 6]\n",
            "1170\n",
            "[8 5 4]\n",
            "1171\n",
            "[4 6 6]\n",
            "1172\n",
            "[7 1 2]\n",
            "1172\n",
            "[5 5 7]\n",
            "1172\n",
            "[8 4 6]\n",
            "1173\n",
            "[8 8 8]\n",
            "1174\n",
            "[8 9 5]\n",
            "1174\n",
            "[ 9 10  7]\n",
            "1175\n",
            "[9 9 8]\n",
            "1175\n",
            "[3 6 2]\n",
            "1176\n",
            "[2 7 6]\n",
            "1177\n",
            "[ 5  6 10]\n",
            "1178\n",
            "[ 3 10  1]\n",
            "1179\n",
            "[4 5 6]\n",
            "1179\n",
            "[10 10  1]\n",
            "1180\n",
            "[6 6 2]\n",
            "1181\n",
            "[4 7 7]\n",
            "1182\n",
            "[ 3 10  9]\n",
            "1183\n",
            "[4 7 5]\n",
            "1184\n",
            "[ 1 10  3]\n",
            "1185\n",
            "[6 8 6]\n",
            "1186\n",
            "[2 9 6]\n",
            "1186\n",
            "[4 8 2]\n",
            "1186\n",
            "[5 2 5]\n",
            "1187\n",
            "[2 4 8]\n",
            "1188\n",
            "[9 3 1]\n",
            "1189\n",
            "[5 5 2]\n",
            "1190\n",
            "[ 8  8 10]\n",
            "1191\n",
            "[4 7 2]\n",
            "1192\n",
            "[3 6 8]\n",
            "1192\n",
            "[7 6 3]\n",
            "1193\n",
            "[9 8 8]\n",
            "1194\n",
            "[ 1 10  9]\n",
            "1195\n",
            "[9 8 8]\n",
            "1196\n",
            "[ 4  2 10]\n",
            "1197\n",
            "[5 1 6]\n",
            "1198\n",
            "[1 9 6]\n",
            "1199\n",
            "[8 5 6]\n",
            "1200\n",
            "[8 4 6]\n",
            "1201\n",
            "[ 9  1 10]\n",
            "1201\n",
            "[5 8 9]\n",
            "1202\n",
            "[4 6 3]\n",
            "1203\n",
            "[8 6 1]\n",
            "1204\n",
            "[10  8  7]\n",
            "1205\n",
            "[8 6 3]\n",
            "1206\n",
            "[7 4 1]\n",
            "1206\n",
            "[10  9  7]\n",
            "1207\n",
            "[9 3 2]\n",
            "1208\n",
            "[1 1 7]\n",
            "1209\n",
            "[2 9 1]\n",
            "1210\n",
            "[10  8  2]\n",
            "1211\n",
            "[6 6 4]\n",
            "1212\n",
            "[2 9 4]\n",
            "1213\n",
            "[ 6 10  4]\n",
            "1214\n",
            "[10 10  2]\n",
            "1214\n",
            "[6 7 6]\n",
            "1215\n",
            "[9 2 8]\n",
            "1216\n",
            "[10  4 10]\n",
            "1217\n",
            "[2 1 6]\n",
            "1218\n",
            "[7 6 6]\n",
            "1219\n",
            "[7 1 1]\n",
            "1220\n",
            "[3 1 2]\n",
            "1220\n",
            "[2 8 9]\n",
            "1221\n",
            "[10  9  3]\n",
            "1222\n",
            "[1 7 4]\n",
            "1223\n",
            "[6 4 4]\n",
            "1224\n",
            "[4 5 7]\n",
            "1225\n",
            "[5 6 4]\n",
            "1226\n",
            "[5 6 6]\n",
            "1227\n",
            "[3 6 2]\n",
            "1228\n",
            "[4 7 4]\n",
            "1228\n",
            "[ 9 10  7]\n",
            "1229\n",
            "[7 7 6]\n",
            "1230\n",
            "[ 3  8 10]\n",
            "1231\n",
            "[4 4 9]\n",
            "1232\n",
            "[4 9 4]\n",
            "1233\n",
            "[2 2 4]\n",
            "1233\n",
            "[ 1 10  6]\n",
            "1234\n",
            "[ 9  6 10]\n",
            "1235\n",
            "[ 7  4 10]\n",
            "1236\n",
            "[4 5 6]\n",
            "1237\n",
            "[7 2 5]\n",
            "1238\n",
            "[1 5 9]\n",
            "1239\n",
            "[1 7 5]\n",
            "1240\n",
            "[10  8  8]\n",
            "1241\n",
            "[3 5 8]\n",
            "1242\n",
            "[2 2 9]\n",
            "1243\n",
            "[6 1 3]\n",
            "1243\n",
            "[ 4  2 10]\n",
            "1244\n",
            "[10  4  4]\n",
            "1245\n",
            "[9 2 7]\n",
            "1246\n",
            "[ 5 10  9]\n",
            "1247\n",
            "[ 2  8 10]\n",
            "1248\n",
            "[2 4 5]\n",
            "1248\n",
            "[ 9  7 10]\n",
            "1249\n",
            "[7 3 9]\n",
            "1250\n",
            "[8 3 1]\n",
            "1251\n",
            "[ 5  4 10]\n",
            "1252\n",
            "[8 1 1]\n",
            "1253\n",
            "[10  9  4]\n",
            "1254\n",
            "[9 4 8]\n",
            "1255\n",
            "[6 8 2]\n",
            "1255\n",
            "[10 10  9]\n",
            "1256\n",
            "[5 3 7]\n",
            "1257\n",
            "[3 2 3]\n",
            "1258\n",
            "[7 2 4]\n",
            "1259\n",
            "[8 2 7]\n",
            "1260\n",
            "[7 1 9]\n",
            "1261\n",
            "[7 1 5]\n",
            "1262\n",
            "[6 2 8]\n",
            "1263\n",
            "[2 3 8]\n",
            "1264\n",
            "[4 4 4]\n",
            "1265\n",
            "[8 9 5]\n",
            "1266\n",
            "[4 2 6]\n",
            "1267\n",
            "[8 3 8]\n",
            "1268\n",
            "[9 4 5]\n",
            "1269\n",
            "[5 9 3]\n",
            "1270\n",
            "[7 7 6]\n",
            "1271\n",
            "[10  7  5]\n",
            "1272\n",
            "[ 2  7 10]\n",
            "1273\n",
            "[ 8 10  2]\n",
            "1274\n",
            "[10  7  2]\n",
            "1274\n",
            "[ 8  2 10]\n",
            "1275\n",
            "[8 2 2]\n",
            "1275\n",
            "[10  6  9]\n",
            "1276\n",
            "[3 8 8]\n",
            "1276\n",
            "[1 7 6]\n",
            "1277\n",
            "[9 9 4]\n",
            "1278\n",
            "[1 9 9]\n",
            "1278\n",
            "[4 4 9]\n",
            "1279\n",
            "[10  9  6]\n",
            "1280\n",
            "[10  4  7]\n",
            "1281\n",
            "[ 6 10  1]\n",
            "1282\n",
            "[ 4  9 10]\n",
            "1283\n",
            "[4 9 3]\n",
            "1284\n",
            "[7 8 8]\n",
            "1285\n",
            "[2 6 1]\n",
            "1286\n",
            "[10  4 10]\n",
            "1287\n",
            "[4 7 6]\n",
            "1287\n",
            "[4 9 3]\n",
            "1288\n",
            "[8 7 6]\n",
            "1289\n",
            "[ 1 10  8]\n",
            "1290\n",
            "[5 2 4]\n",
            "1290\n",
            "[2 1 1]\n",
            "1291\n",
            "[ 2  2 10]\n",
            "1292\n",
            "[3 6 2]\n",
            "1293\n",
            "[ 2  8 10]\n",
            "1294\n",
            "[2 5 5]\n",
            "1295\n",
            "[2 2 1]\n",
            "1296\n",
            "[6 8 4]\n",
            "1297\n",
            "[1 9 8]\n",
            "1298\n",
            "[6 8 4]\n",
            "1299\n",
            "[6 2 9]\n",
            "1300\n",
            "[1 9 4]\n",
            "1301\n",
            "[10  9  8]\n",
            "1302\n",
            "[9 5 8]\n",
            "1303\n",
            "[10  5  3]\n",
            "1304\n",
            "[9 9 6]\n",
            "1305\n",
            "[8 7 7]\n",
            "1305\n",
            "[ 5  4 10]\n",
            "1306\n",
            "[7 6 1]\n",
            "1307\n",
            "[1 2 5]\n",
            "1308\n",
            "[6 4 2]\n",
            "1309\n",
            "[6 9 9]\n",
            "1310\n",
            "[7 4 9]\n",
            "1311\n",
            "[9 5 4]\n",
            "1312\n",
            "[ 4  7 10]\n",
            "1313\n",
            "[9 8 6]\n",
            "1314\n",
            "[10  2  4]\n",
            "1315\n",
            "[2 5 2]\n",
            "1316\n",
            "[3 9 1]\n",
            "1317\n",
            "[9 8 1]\n",
            "1318\n",
            "[7 4 2]\n",
            "1319\n",
            "[ 7 10  2]\n",
            "1320\n",
            "[10  9  6]\n",
            "1321\n",
            "[10 10  3]\n",
            "1322\n",
            "[ 6  5 10]\n",
            "1323\n",
            "[10  1  4]\n",
            "1323\n",
            "[ 1  1 10]\n",
            "1324\n",
            "[ 7  9 10]\n",
            "1325\n",
            "[8 7 4]\n",
            "1326\n",
            "[4 4 4]\n",
            "1326\n",
            "[2 8 2]\n",
            "1326\n",
            "[ 9 10  6]\n",
            "1327\n",
            "[5 7 9]\n",
            "1328\n",
            "[7 8 3]\n",
            "1329\n",
            "[ 5  3 10]\n",
            "1330\n",
            "[1 9 2]\n",
            "1331\n",
            "[3 5 2]\n",
            "1331\n",
            "[10  9 10]\n",
            "1332\n",
            "[ 7  6 10]\n",
            "1333\n",
            "[9 2 3]\n",
            "1333\n",
            "[8 2 9]\n",
            "1334\n",
            "[10  8  9]\n",
            "1335\n",
            "[5 1 1]\n",
            "1335\n",
            "[7 1 7]\n",
            "1336\n",
            "[10  5  6]\n",
            "1336\n",
            "[2 9 2]\n",
            "1337\n",
            "[ 5  8 10]\n",
            "1338\n",
            "[3 9 9]\n",
            "1339\n",
            "[5 3 6]\n",
            "1340\n",
            "[3 2 4]\n",
            "1341\n",
            "[5 3 1]\n",
            "1342\n",
            "[10  5  5]\n",
            "1343\n",
            "[5 7 5]\n",
            "1344\n",
            "[5 7 3]\n",
            "1345\n",
            "[ 7  8 10]\n",
            "1346\n",
            "[4 9 9]\n",
            "1347\n",
            "[5 4 1]\n",
            "1348\n",
            "[5 6 1]\n",
            "1348\n",
            "[ 8 10  8]\n",
            "1348\n",
            "[5 5 5]\n",
            "1349\n",
            "[8 8 8]\n",
            "1349\n",
            "[1 7 9]\n",
            "1350\n",
            "[3 4 1]\n",
            "1351\n",
            "[5 8 5]\n",
            "1351\n",
            "[9 6 1]\n",
            "1352\n",
            "[2 8 8]\n",
            "1353\n",
            "[3 2 4]\n",
            "1354\n",
            "[8 6 6]\n",
            "1355\n",
            "[1 6 8]\n",
            "1356\n",
            "[4 4 9]\n",
            "1357\n",
            "[ 3 10  2]\n",
            "1358\n",
            "[4 5 5]\n",
            "1359\n",
            "[ 6 10  8]\n",
            "1360\n",
            "[ 6 10  5]\n",
            "1361\n",
            "[6 6 4]\n",
            "1362\n",
            "[2 8 7]\n",
            "1363\n",
            "[4 5 5]\n",
            "1363\n",
            "[9 6 4]\n",
            "1364\n",
            "[5 4 7]\n",
            "1365\n",
            "[5 2 3]\n",
            "1366\n",
            "[4 8 6]\n",
            "1367\n",
            "[3 3 2]\n",
            "1368\n",
            "[9 2 1]\n",
            "1369\n",
            "[8 4 4]\n",
            "1370\n",
            "[7 1 6]\n",
            "1371\n",
            "[6 7 1]\n",
            "1372\n",
            "[3 6 6]\n",
            "1373\n",
            "[8 4 8]\n",
            "1374\n",
            "[6 7 3]\n",
            "1375\n",
            "[10  6  1]\n",
            "1376\n",
            "[8 7 3]\n",
            "1377\n",
            "[ 7 10  5]\n",
            "1378\n",
            "[8 2 7]\n",
            "1379\n",
            "[10  8  3]\n",
            "1380\n",
            "[2 5 7]\n",
            "1381\n",
            "[ 1  2 10]\n",
            "1382\n",
            "[5 8 9]\n",
            "1383\n",
            "[ 7  4 10]\n",
            "1384\n",
            "[5 8 6]\n",
            "1385\n",
            "[10  6 10]\n",
            "1386\n",
            "[6 8 2]\n",
            "1387\n",
            "[5 6 9]\n",
            "1388\n",
            "[2 3 2]\n",
            "1389\n",
            "[7 6 6]\n",
            "1390\n",
            "[5 3 8]\n",
            "1391\n",
            "[4 8 8]\n",
            "1392\n",
            "[9 8 6]\n",
            "1393\n",
            "[10  7  6]\n",
            "1394\n",
            "[5 9 6]\n",
            "1395\n",
            "[ 7 10 10]\n",
            "1396\n",
            "[7 1 8]\n",
            "1397\n",
            "[7 2 5]\n",
            "1398\n",
            "[6 2 7]\n",
            "1399\n",
            "[3 6 6]\n",
            "1400\n",
            "[10  2  8]\n",
            "1400\n",
            "[7 2 2]\n",
            "1401\n",
            "[ 9  3 10]\n",
            "1402\n",
            "[1 6 9]\n",
            "1403\n",
            "[10  7  4]\n",
            "1404\n",
            "[3 2 7]\n",
            "1405\n",
            "[7 2 5]\n",
            "1406\n",
            "[1 8 1]\n",
            "1407\n",
            "[10 10  5]\n",
            "1407\n",
            "[9 2 5]\n",
            "1408\n",
            "[1 3 5]\n",
            "1409\n",
            "[10 10  1]\n",
            "1409\n",
            "[ 5 10  6]\n",
            "1409\n",
            "[ 6 10  6]\n",
            "1410\n",
            "[ 2 10  3]\n",
            "1411\n",
            "[ 3 10  9]\n",
            "1412\n",
            "[ 2 10  1]\n",
            "1413\n",
            "[7 6 8]\n",
            "1414\n",
            "[6 9 4]\n",
            "1414\n",
            "[ 4 10  4]\n",
            "1415\n",
            "[8 5 5]\n",
            "1416\n",
            "[9 2 5]\n",
            "1416\n",
            "[6 7 6]\n",
            "1417\n",
            "[ 2  8 10]\n",
            "1418\n",
            "[7 1 2]\n",
            "1419\n",
            "[1 5 3]\n",
            "1419\n",
            "[7 3 5]\n",
            "1420\n",
            "[2 1 6]\n",
            "1420\n",
            "[4 5 3]\n",
            "1421\n",
            "[9 5 6]\n",
            "1422\n",
            "[3 6 7]\n",
            "1423\n",
            "[1 2 9]\n",
            "1424\n",
            "[8 3 2]\n",
            "1425\n",
            "[1 7 2]\n",
            "1426\n",
            "[3 7 8]\n",
            "1427\n",
            "[6 6 1]\n",
            "1427\n",
            "[1 6 6]\n",
            "1428\n",
            "[10  3  9]\n",
            "1429\n",
            "[6 3 9]\n",
            "1430\n",
            "[ 8  8 10]\n",
            "1431\n",
            "[ 1  1 10]\n",
            "1432\n",
            "[2 1 7]\n",
            "1433\n",
            "[ 7  5 10]\n",
            "1434\n",
            "[9 9 1]\n",
            "1435\n",
            "[2 8 9]\n",
            "1436\n",
            "[5 3 7]\n",
            "1437\n",
            "[ 7 10 10]\n",
            "1437\n",
            "[10  2  2]\n",
            "1438\n",
            "[7 7 1]\n",
            "1438\n",
            "[ 4 10  4]\n",
            "1439\n",
            "[1 5 5]\n",
            "1439\n",
            "[1 7 2]\n",
            "1440\n",
            "[2 9 9]\n",
            "1441\n",
            "[7 8 7]\n",
            "1442\n",
            "[2 9 1]\n",
            "1443\n",
            "[2 1 6]\n",
            "1443\n",
            "[5 9 4]\n",
            "1444\n",
            "[1 6 2]\n",
            "1444\n",
            "[6 7 6]\n",
            "1445\n",
            "[7 6 4]\n",
            "1446\n",
            "[10  1  1]\n",
            "1447\n",
            "[ 3  4 10]\n",
            "1448\n",
            "[ 4  1 10]\n",
            "1449\n",
            "[ 6  5 10]\n",
            "1450\n",
            "[9 8 9]\n",
            "1450\n",
            "[8 3 4]\n",
            "1451\n",
            "[ 3 10  3]\n",
            "1452\n",
            "[10  9 10]\n",
            "1453\n",
            "[8 7 3]\n",
            "1454\n",
            "[5 3 4]\n",
            "1455\n",
            "[ 2  5 10]\n",
            "1456\n",
            "[2 3 4]\n",
            "1457\n",
            "[10  2  2]\n",
            "1458\n",
            "[3 9 1]\n",
            "1459\n",
            "[5 1 9]\n",
            "1460\n",
            "[8 5 7]\n",
            "1461\n",
            "[3 1 2]\n",
            "1461\n",
            "[4 8 4]\n",
            "1462\n",
            "[2 5 4]\n",
            "1463\n",
            "[3 5 4]\n",
            "1464\n",
            "[10  2  4]\n",
            "1465\n",
            "[1 9 8]\n",
            "1466\n",
            "[5 4 6]\n",
            "1466\n",
            "[7 9 4]\n",
            "1467\n",
            "[7 5 2]\n",
            "1467\n",
            "[8 1 6]\n",
            "1468\n",
            "[4 4 6]\n",
            "1469\n",
            "[6 5 9]\n",
            "1470\n",
            "[ 4  9 10]\n",
            "1471\n",
            "[2 3 5]\n",
            "1472\n",
            "[8 8 9]\n",
            "1473\n",
            "[5 4 6]\n",
            "1474\n",
            "[5 1 5]\n",
            "1474\n",
            "[2 9 4]\n",
            "1474\n",
            "[6 4 7]\n",
            "1475\n",
            "[1 6 9]\n",
            "1475\n",
            "[ 3  4 10]\n",
            "1476\n",
            "[3 8 4]\n",
            "1477\n",
            "[3 6 6]\n",
            "1478\n",
            "[ 7  4 10]\n",
            "1478\n",
            "[9 5 3]\n",
            "1479\n",
            "[8 1 8]\n",
            "1480\n",
            "[10  5  5]\n",
            "1481\n",
            "[6 3 1]\n",
            "1482\n",
            "[3 9 9]\n",
            "1483\n",
            "[8 5 2]\n",
            "1484\n",
            "[ 5 10  3]\n",
            "1485\n",
            "[ 2 10  5]\n",
            "1486\n",
            "[1 3 6]\n",
            "1487\n",
            "[10  5  2]\n",
            "1488\n",
            "[8 8 8]\n",
            "1489\n",
            "[3 2 2]\n",
            "1490\n",
            "[ 3  7 10]\n",
            "1491\n",
            "[7 2 9]\n",
            "1492\n",
            "[9 5 8]\n",
            "1493\n",
            "[9 3 3]\n",
            "1494\n",
            "[9 1 2]\n",
            "1495\n",
            "[5 6 5]\n",
            "1496\n",
            "[7 6 2]\n",
            "1497\n",
            "[1 5 7]\n",
            "1498\n",
            "[5 2 7]\n",
            "1498\n",
            "[ 2 10  5]\n",
            "1499\n",
            "[8 7 7]\n",
            "1500\n",
            "[1 2 1]\n",
            "1501\n",
            "[10 10  8]\n",
            "1502\n",
            "[4 1 2]\n",
            "1503\n",
            "[3 6 3]\n",
            "1504\n",
            "[4 5 2]\n",
            "1505\n",
            "[9 1 1]\n",
            "1506\n",
            "[ 4 10  9]\n",
            "1507\n",
            "[9 8 3]\n",
            "1508\n",
            "[10  1  1]\n",
            "1509\n",
            "[10  4  3]\n",
            "1510\n",
            "[10  6  6]\n",
            "1511\n",
            "[3 1 5]\n",
            "1512\n",
            "[1 4 6]\n",
            "1513\n",
            "[1 4 1]\n",
            "1514\n",
            "[4 5 2]\n",
            "1515\n",
            "[1 1 4]\n",
            "1516\n",
            "[6 9 6]\n",
            "1517\n",
            "[8 7 5]\n",
            "1517\n",
            "[3 5 7]\n",
            "1517\n",
            "[ 5  1 10]\n",
            "1518\n",
            "[ 4 10  3]\n",
            "1518\n",
            "[2 6 7]\n",
            "1519\n",
            "[8 3 8]\n",
            "1520\n",
            "[4 4 3]\n",
            "1521\n",
            "[ 4 10  1]\n",
            "1522\n",
            "[ 3  5 10]\n",
            "1523\n",
            "[ 6 10  4]\n",
            "1524\n",
            "[ 7 10  3]\n",
            "1525\n",
            "[9 1 9]\n",
            "1526\n",
            "[5 5 2]\n",
            "1527\n",
            "[9 9 2]\n",
            "1528\n",
            "[4 1 2]\n",
            "1529\n",
            "[9 5 4]\n",
            "1530\n",
            "[2 9 4]\n",
            "1530\n",
            "[2 8 9]\n",
            "1531\n",
            "[7 2 4]\n",
            "1532\n",
            "[3 4 1]\n",
            "1533\n",
            "[3 9 6]\n",
            "1534\n",
            "[7 4 3]\n",
            "1535\n",
            "[8 7 8]\n",
            "1536\n",
            "[ 3 10  1]\n",
            "1537\n",
            "[3 2 3]\n",
            "1538\n",
            "[ 6  2 10]\n",
            "1539\n",
            "[8 3 5]\n",
            "1540\n",
            "[5 1 7]\n",
            "1541\n",
            "[4 1 6]\n",
            "1542\n",
            "[10  4 10]\n",
            "1543\n",
            "[3 4 9]\n",
            "1544\n",
            "[4 3 3]\n",
            "1545\n",
            "[10  1  8]\n",
            "1545\n",
            "[ 9 10  2]\n",
            "1546\n",
            "[5 2 3]\n",
            "1547\n",
            "[1 4 4]\n",
            "1548\n",
            "[7 5 9]\n",
            "1549\n",
            "[5 7 8]\n",
            "1550\n",
            "[1 1 8]\n",
            "1551\n",
            "[2 6 6]\n",
            "1552\n",
            "[10  7  2]\n",
            "1553\n",
            "[3 6 4]\n",
            "1554\n",
            "[ 4 10  8]\n",
            "1555\n",
            "[10  8  8]\n",
            "1556\n",
            "[9 1 4]\n",
            "1557\n",
            "[5 4 6]\n",
            "1558\n",
            "[ 8 10  7]\n",
            "1558\n",
            "[2 5 4]\n",
            "1559\n",
            "[10  6  9]\n",
            "1560\n",
            "[3 8 3]\n",
            "1561\n",
            "[5 5 8]\n",
            "1562\n",
            "[5 9 8]\n",
            "1563\n",
            "[6 6 3]\n",
            "1564\n",
            "[3 2 2]\n",
            "1565\n",
            "[6 5 6]\n",
            "1566\n",
            "[4 3 5]\n",
            "1567\n",
            "[1 2 9]\n",
            "1568\n",
            "[9 6 5]\n",
            "1569\n",
            "[2 2 4]\n",
            "1570\n",
            "[6 8 3]\n",
            "1571\n",
            "[6 8 1]\n",
            "1572\n",
            "[4 8 4]\n",
            "1573\n",
            "[2 5 2]\n",
            "1574\n",
            "[4 7 3]\n",
            "1575\n",
            "[8 6 7]\n",
            "1576\n",
            "[9 6 9]\n",
            "1576\n",
            "[5 8 7]\n",
            "1577\n",
            "[9 8 9]\n",
            "1578\n",
            "[1 6 2]\n",
            "1578\n",
            "[7 3 6]\n",
            "1579\n",
            "[4 4 3]\n",
            "1580\n",
            "[ 9 10  4]\n",
            "1580\n",
            "[7 6 9]\n",
            "1580\n",
            "[10  2  5]\n",
            "1580\n",
            "[ 6 10  9]\n",
            "1581\n",
            "[3 4 5]\n",
            "1582\n",
            "[9 7 6]\n",
            "1582\n",
            "[7 1 8]\n",
            "1583\n",
            "[4 2 6]\n",
            "1584\n",
            "[6 2 2]\n",
            "1585\n",
            "[4 1 7]\n",
            "1586\n",
            "[ 5 10  3]\n",
            "1587\n",
            "[1 4 9]\n",
            "1588\n",
            "[6 3 6]\n",
            "1589\n",
            "[ 1 10  7]\n",
            "1590\n",
            "[9 4 9]\n",
            "1591\n",
            "[9 6 6]\n",
            "1592\n",
            "[ 9  5 10]\n",
            "1593\n",
            "[2 6 7]\n",
            "1594\n",
            "[7 8 1]\n",
            "1595\n",
            "[ 9  8 10]\n",
            "1596\n",
            "[4 7 5]\n",
            "1597\n",
            "[4 5 5]\n",
            "1598\n",
            "[6 9 1]\n",
            "1599\n",
            "[10  6  6]\n",
            "1600\n",
            "[7 6 9]\n",
            "1601\n",
            "[ 9 10  6]\n",
            "1602\n",
            "[10  4  7]\n",
            "1603\n",
            "[ 5  4 10]\n",
            "1604\n",
            "[2 6 2]\n",
            "1605\n",
            "[6 3 2]\n",
            "1606\n",
            "[2 1 4]\n",
            "1607\n",
            "[ 9  9 10]\n",
            "1608\n",
            "[9 8 6]\n",
            "1609\n",
            "[10  4  7]\n",
            "1610\n",
            "[8 3 4]\n",
            "1611\n",
            "[2 2 2]\n",
            "1612\n",
            "[2 3 1]\n",
            "1613\n",
            "[3 8 6]\n",
            "1614\n",
            "[3 9 9]\n",
            "1615\n",
            "[7 3 7]\n",
            "1616\n",
            "[8 4 2]\n",
            "1617\n",
            "[3 8 5]\n",
            "1617\n",
            "[5 7 5]\n",
            "1617\n",
            "[5 1 8]\n",
            "1618\n",
            "[1 8 9]\n",
            "1619\n",
            "[2 4 9]\n",
            "1620\n",
            "[6 7 5]\n",
            "1620\n",
            "[ 1 10  5]\n",
            "1621\n",
            "[6 5 8]\n",
            "1622\n",
            "[9 4 1]\n",
            "1623\n",
            "[4 9 5]\n",
            "1624\n",
            "[4 5 3]\n",
            "1625\n",
            "[3 9 8]\n",
            "1626\n",
            "[ 2 10  6]\n",
            "1627\n",
            "[4 4 5]\n",
            "1628\n",
            "[9 7 3]\n",
            "1629\n",
            "[6 5 6]\n",
            "1630\n",
            "[5 1 3]\n",
            "1631\n",
            "[4 6 4]\n",
            "1632\n",
            "[2 2 3]\n",
            "1633\n",
            "[7 3 7]\n",
            "1634\n",
            "[5 6 7]\n",
            "1635\n",
            "[2 1 1]\n",
            "1636\n",
            "[2 9 7]\n",
            "1636\n",
            "[ 6 10  3]\n",
            "1637\n",
            "[7 4 2]\n",
            "1638\n",
            "[6 8 8]\n",
            "1638\n",
            "[9 5 3]\n",
            "1639\n",
            "[3 5 4]\n",
            "1640\n",
            "[8 5 9]\n",
            "1641\n",
            "[4 9 7]\n",
            "1641\n",
            "[9 5 3]\n",
            "1642\n",
            "[3 4 5]\n",
            "1643\n",
            "[ 4 10  1]\n",
            "1644\n",
            "[10  7  1]\n",
            "1645\n",
            "[10  1  5]\n",
            "1646\n",
            "[ 1  3 10]\n",
            "1647\n",
            "[8 9 1]\n",
            "1648\n",
            "[ 3 10  7]\n",
            "1649\n",
            "[6 9 1]\n",
            "1649\n",
            "[8 6 2]\n",
            "1649\n",
            "[4 6 2]\n",
            "1650\n",
            "[5 2 4]\n",
            "1651\n",
            "[3 6 8]\n",
            "1652\n",
            "[ 4 10  7]\n",
            "1653\n",
            "[6 2 2]\n",
            "1654\n",
            "[7 4 7]\n",
            "1655\n",
            "[3 3 6]\n",
            "1656\n",
            "[2 2 1]\n",
            "1657\n",
            "[7 1 9]\n",
            "1658\n",
            "[5 8 3]\n",
            "1659\n",
            "[5 2 4]\n",
            "1659\n",
            "[ 5 10  6]\n",
            "1660\n",
            "[5 4 7]\n",
            "1660\n",
            "[6 4 7]\n",
            "1661\n",
            "[8 9 9]\n",
            "1662\n",
            "[1 6 2]\n",
            "1663\n",
            "[10  8  7]\n",
            "1664\n",
            "[ 9  6 10]\n",
            "1665\n",
            "[1 8 8]\n",
            "1666\n",
            "[2 6 9]\n",
            "1667\n",
            "[2 8 7]\n",
            "1667\n",
            "[3 8 2]\n",
            "1668\n",
            "[2 2 8]\n",
            "1669\n",
            "[3 6 4]\n",
            "1670\n",
            "[9 5 7]\n",
            "1671\n",
            "[7 6 8]\n",
            "1672\n",
            "[ 8 10 10]\n",
            "1672\n",
            "[7 3 1]\n",
            "1673\n",
            "[7 4 6]\n",
            "1674\n",
            "[3 8 1]\n",
            "1675\n",
            "[ 5 10 10]\n",
            "1676\n",
            "[1 1 8]\n",
            "1677\n",
            "[6 9 5]\n",
            "1678\n",
            "[ 2 10  5]\n",
            "1679\n",
            "[8 1 1]\n",
            "1680\n",
            "[8 8 8]\n",
            "1681\n",
            "[ 2 10  8]\n",
            "1681\n",
            "[6 3 6]\n",
            "1682\n",
            "[9 6 6]\n",
            "1683\n",
            "[4 5 1]\n",
            "1684\n",
            "[ 9  7 10]\n",
            "1685\n",
            "[10  2  5]\n",
            "1686\n",
            "[7 7 4]\n",
            "1687\n",
            "[9 8 6]\n",
            "1688\n",
            "[3 5 1]\n",
            "1689\n",
            "[6 5 8]\n",
            "1690\n",
            "[7 9 6]\n",
            "1691\n",
            "[1 4 1]\n",
            "1692\n",
            "[1 9 4]\n",
            "1693\n",
            "[2 6 4]\n",
            "1694\n",
            "[7 5 8]\n",
            "1695\n",
            "[8 3 5]\n",
            "1696\n",
            "[1 9 1]\n",
            "1697\n",
            "[1 7 2]\n",
            "1698\n",
            "[7 8 5]\n",
            "1699\n",
            "[5 6 2]\n",
            "1699\n",
            "[ 6  3 10]\n",
            "1700\n",
            "[3 1 6]\n",
            "1701\n",
            "[ 1  4 10]\n",
            "1702\n",
            "[6 7 1]\n",
            "1703\n",
            "[1 6 2]\n",
            "1704\n",
            "[4 4 4]\n",
            "1705\n",
            "[6 7 1]\n",
            "1706\n",
            "[ 7 10  5]\n",
            "1707\n",
            "[1 3 2]\n",
            "1708\n",
            "[10  2  6]\n",
            "1709\n",
            "[8 3 6]\n",
            "1709\n",
            "[4 4 6]\n",
            "1710\n",
            "[6 8 8]\n",
            "1711\n",
            "[9 4 2]\n",
            "1712\n",
            "[1 3 3]\n",
            "1713\n",
            "[6 6 5]\n",
            "1714\n",
            "[8 7 1]\n",
            "1715\n",
            "[9 7 4]\n",
            "1716\n",
            "[8 7 4]\n",
            "1717\n",
            "[3 3 6]\n",
            "1718\n",
            "[6 4 5]\n",
            "1719\n",
            "[3 8 1]\n",
            "1720\n",
            "[5 9 4]\n",
            "1721\n",
            "[1 8 5]\n",
            "1722\n",
            "[ 4  7 10]\n",
            "1723\n",
            "[6 7 7]\n",
            "1724\n",
            "[8 5 8]\n",
            "1725\n",
            "[1 4 4]\n",
            "1725\n",
            "[10  1  1]\n",
            "1726\n",
            "[3 5 4]\n",
            "1727\n",
            "[5 4 5]\n",
            "1728\n",
            "[10  4 10]\n",
            "1729\n",
            "[8 9 1]\n",
            "1729\n",
            "[5 5 3]\n",
            "1730\n",
            "[4 4 7]\n",
            "1731\n",
            "[ 2  3 10]\n",
            "1731\n",
            "[ 2  8 10]\n",
            "1732\n",
            "[3 5 6]\n",
            "1733\n",
            "[10  7  4]\n",
            "1734\n",
            "[3 1 1]\n",
            "1735\n",
            "[4 4 1]\n",
            "1736\n",
            "[5 6 5]\n",
            "1736\n",
            "[10  2  5]\n",
            "1737\n",
            "[5 7 3]\n",
            "1738\n",
            "[7 7 3]\n",
            "1739\n",
            "[ 9 10  7]\n",
            "1740\n",
            "[6 2 8]\n",
            "1741\n",
            "[3 4 3]\n",
            "1742\n",
            "[10  8  9]\n",
            "1743\n",
            "[9 2 4]\n",
            "1744\n",
            "[7 4 8]\n",
            "1745\n",
            "[6 1 4]\n",
            "1746\n",
            "[4 6 5]\n",
            "1747\n",
            "[2 6 2]\n",
            "1748\n",
            "[ 5 10  7]\n",
            "1749\n",
            "[3 2 9]\n",
            "1749\n",
            "[ 2 10  4]\n",
            "1750\n",
            "[ 5  2 10]\n",
            "1751\n",
            "[9 9 9]\n",
            "1752\n",
            "[ 9 10 10]\n",
            "1753\n",
            "[6 2 5]\n",
            "1754\n",
            "[ 2  7 10]\n",
            "1755\n",
            "[2 5 9]\n",
            "1756\n",
            "[10  4  6]\n",
            "1757\n",
            "[8 5 1]\n",
            "1758\n",
            "[ 8  8 10]\n",
            "1759\n",
            "[2 9 5]\n",
            "1760\n",
            "[8 1 2]\n",
            "1761\n",
            "[8 4 5]\n",
            "1762\n",
            "[ 3  6 10]\n",
            "1763\n",
            "[2 7 1]\n",
            "1764\n",
            "[2 3 5]\n",
            "1765\n",
            "[6 2 4]\n",
            "1765\n",
            "[5 3 8]\n",
            "1766\n",
            "[9 7 3]\n",
            "1767\n",
            "[10 10  1]\n",
            "1768\n",
            "[5 8 3]\n",
            "1769\n",
            "[1 5 3]\n",
            "1770\n",
            "[10 10  4]\n",
            "1771\n",
            "[4 8 2]\n",
            "1772\n",
            "[2 1 7]\n",
            "1772\n",
            "[1 3 1]\n",
            "1773\n",
            "[9 4 2]\n",
            "1774\n",
            "[ 8 10  4]\n",
            "1775\n",
            "[4 4 9]\n",
            "1776\n",
            "[3 5 8]\n",
            "1777\n",
            "[10  3  7]\n",
            "1778\n",
            "[3 9 1]\n",
            "1779\n",
            "[5 7 5]\n",
            "1780\n",
            "[8 4 4]\n",
            "1781\n",
            "[8 7 5]\n",
            "1782\n",
            "[3 4 4]\n",
            "1783\n",
            "[ 7  5 10]\n",
            "1784\n",
            "[9 6 4]\n",
            "1785\n",
            "[3 6 2]\n",
            "1786\n",
            "[10  7  8]\n",
            "1787\n",
            "[5 9 1]\n",
            "1788\n",
            "[7 4 3]\n",
            "1789\n",
            "[5 9 8]\n",
            "1790\n",
            "[4 4 7]\n",
            "1791\n",
            "[9 2 2]\n",
            "1792\n",
            "[7 1 4]\n",
            "1793\n",
            "[5 4 1]\n",
            "1794\n",
            "[5 5 4]\n",
            "1795\n",
            "[2 8 6]\n",
            "1795\n",
            "[10  7  8]\n",
            "1796\n",
            "[ 6  4 10]\n",
            "1796\n",
            "[8 4 3]\n",
            "1797\n",
            "[8 1 3]\n",
            "1798\n",
            "[6 1 6]\n",
            "1799\n",
            "[7 7 6]\n",
            "1800\n",
            "[2 2 6]\n",
            "1801\n",
            "[5 8 5]\n",
            "1802\n",
            "[10  5  8]\n",
            "1803\n",
            "[3 7 8]\n",
            "1804\n",
            "[ 5  1 10]\n",
            "1805\n",
            "[ 6  9 10]\n",
            "1806\n",
            "[ 1 10  4]\n",
            "1807\n",
            "[5 1 2]\n",
            "1807\n",
            "[10  4  4]\n",
            "1808\n",
            "[3 4 1]\n",
            "1809\n",
            "[1 1 1]\n",
            "1810\n",
            "[ 9  9 10]\n",
            "1811\n",
            "[9 1 3]\n",
            "1812\n",
            "[3 1 3]\n",
            "1813\n",
            "[7 5 7]\n",
            "1813\n",
            "[7 2 3]\n",
            "1814\n",
            "[10 10 10]\n",
            "1815\n",
            "[5 1 6]\n",
            "1816\n",
            "[5 5 5]\n",
            "1817\n",
            "[7 5 1]\n",
            "1818\n",
            "[1 8 4]\n",
            "1819\n",
            "[6 7 3]\n",
            "1820\n",
            "[3 6 8]\n",
            "1821\n",
            "[5 3 7]\n",
            "1822\n",
            "[6 3 8]\n",
            "1823\n",
            "[ 1 10 10]\n",
            "1824\n",
            "[7 8 4]\n",
            "1825\n",
            "[10  4  4]\n",
            "1826\n",
            "[4 2 6]\n",
            "1826\n",
            "[10  8  2]\n",
            "1826\n",
            "[3 4 1]\n",
            "1827\n",
            "[ 3  7 10]\n",
            "1828\n",
            "[3 2 8]\n",
            "1829\n",
            "[8 1 9]\n",
            "1829\n",
            "[7 4 9]\n",
            "1830\n",
            "[1 5 3]\n",
            "1831\n",
            "[ 3  3 10]\n",
            "1832\n",
            "[7 2 2]\n",
            "1833\n",
            "[2 8 4]\n",
            "1834\n",
            "[10  8  6]\n",
            "1835\n",
            "[1 9 7]\n",
            "1836\n",
            "[ 6  9 10]\n",
            "1837\n",
            "[1 7 9]\n",
            "1837\n",
            "[5 5 9]\n",
            "1838\n",
            "[5 9 9]\n",
            "1838\n",
            "[2 1 9]\n",
            "1839\n",
            "[8 1 1]\n",
            "1839\n",
            "[6 5 2]\n",
            "1839\n",
            "[10  7  3]\n",
            "1840\n",
            "[9 6 5]\n",
            "1841\n",
            "[9 5 5]\n",
            "1842\n",
            "[5 1 2]\n",
            "1843\n",
            "[7 7 5]\n",
            "1844\n",
            "[9 2 1]\n",
            "1844\n",
            "[8 6 2]\n",
            "1845\n",
            "[ 4  6 10]\n",
            "1846\n",
            "[3 1 6]\n",
            "1847\n",
            "[9 7 4]\n",
            "1848\n",
            "[5 9 1]\n",
            "1849\n",
            "[6 9 2]\n",
            "1850\n",
            "[1 9 3]\n",
            "1851\n",
            "[4 4 2]\n",
            "1851\n",
            "[9 3 8]\n",
            "1852\n",
            "[10  6  5]\n",
            "1853\n",
            "[10 10  1]\n",
            "1854\n",
            "[ 1 10  5]\n",
            "1855\n",
            "[3 8 8]\n",
            "1856\n",
            "[6 4 4]\n",
            "1857\n",
            "[5 7 2]\n",
            "1858\n",
            "[ 9  9 10]\n",
            "1859\n",
            "[1 5 7]\n",
            "1860\n",
            "[ 7 10  3]\n",
            "1861\n",
            "[7 8 4]\n",
            "1862\n",
            "[4 7 1]\n",
            "1863\n",
            "[5 2 8]\n",
            "1864\n",
            "[2 2 1]\n",
            "1864\n",
            "[10  3  9]\n",
            "1865\n",
            "[3 5 3]\n",
            "1866\n",
            "[ 8 10  8]\n",
            "1867\n",
            "[10  2  7]\n",
            "1868\n",
            "[10  3  1]\n",
            "1869\n",
            "[4 8 7]\n",
            "1870\n",
            "[5 9 5]\n",
            "1871\n",
            "[1 6 3]\n",
            "1872\n",
            "[10  1  7]\n",
            "1873\n",
            "[4 7 9]\n",
            "1874\n",
            "[1 4 2]\n",
            "1875\n",
            "[ 8  3 10]\n",
            "1875\n",
            "[8 1 7]\n",
            "1876\n",
            "[7 8 7]\n",
            "1877\n",
            "[5 2 3]\n",
            "1877\n",
            "[5 5 5]\n",
            "1878\n",
            "[7 6 3]\n",
            "1878\n",
            "[1 8 7]\n",
            "1879\n",
            "[5 2 4]\n",
            "1880\n",
            "[2 7 3]\n",
            "1880\n",
            "[10  4  2]\n",
            "1881\n",
            "[2 6 3]\n",
            "1882\n",
            "[6 6 3]\n",
            "1882\n",
            "[2 4 2]\n",
            "1883\n",
            "[2 4 9]\n",
            "1884\n",
            "[4 3 3]\n",
            "1885\n",
            "[5 4 8]\n",
            "1885\n",
            "[1 4 6]\n",
            "1886\n",
            "[5 9 8]\n",
            "1887\n",
            "[7 9 3]\n",
            "1888\n",
            "[10  3  9]\n",
            "1889\n",
            "[6 9 5]\n",
            "1890\n",
            "[ 1  2 10]\n",
            "1891\n",
            "[2 4 4]\n",
            "1892\n",
            "[ 8 10 10]\n",
            "1893\n",
            "[4 7 1]\n",
            "1894\n",
            "[ 8 10  5]\n",
            "1895\n",
            "[2 4 2]\n",
            "1896\n",
            "[5 5 6]\n",
            "1897\n",
            "[4 9 9]\n",
            "1897\n",
            "[8 3 4]\n",
            "1898\n",
            "[2 3 3]\n",
            "1898\n",
            "[6 3 5]\n",
            "1899\n",
            "[9 4 9]\n",
            "1900\n",
            "[10  8  4]\n",
            "1901\n",
            "[5 8 5]\n",
            "1902\n",
            "[6 8 7]\n",
            "1903\n",
            "[ 7 10  9]\n",
            "1903\n",
            "[3 9 4]\n",
            "1904\n",
            "[ 7 10  3]\n",
            "1904\n",
            "[ 1  2 10]\n",
            "1905\n",
            "[ 5 10  6]\n",
            "1906\n",
            "[ 4  4 10]\n",
            "1906\n",
            "[10  1  8]\n",
            "1907\n",
            "[5 5 2]\n",
            "1908\n",
            "[2 4 7]\n",
            "1909\n",
            "[2 2 3]\n",
            "1910\n",
            "[6 4 7]\n",
            "1911\n",
            "[3 4 6]\n",
            "1912\n",
            "[5 2 8]\n",
            "1913\n",
            "[10  5  4]\n",
            "1913\n",
            "[4 3 3]\n",
            "1913\n",
            "[7 7 4]\n",
            "1914\n",
            "[1 3 1]\n",
            "1915\n",
            "[9 6 1]\n",
            "1916\n",
            "[3 1 1]\n",
            "1917\n",
            "[3 3 8]\n",
            "1918\n",
            "[7 6 3]\n",
            "1919\n",
            "[4 4 8]\n",
            "1920\n",
            "[ 5  9 10]\n",
            "1921\n",
            "[3 9 7]\n",
            "1922\n",
            "[7 7 8]\n",
            "1923\n",
            "[ 7 10  9]\n",
            "1924\n",
            "[8 3 1]\n",
            "1925\n",
            "[ 1 10  8]\n",
            "1925\n",
            "[9 5 2]\n",
            "1925\n",
            "[8 9 3]\n",
            "1925\n",
            "[ 2 10  3]\n",
            "1926\n",
            "[5 7 1]\n",
            "1927\n",
            "[1 6 1]\n",
            "1928\n",
            "[ 3 10  6]\n",
            "1929\n",
            "[ 1 10  6]\n",
            "1930\n",
            "[7 2 3]\n",
            "1931\n",
            "[7 8 9]\n",
            "1932\n",
            "[8 6 3]\n",
            "1933\n",
            "[4 9 9]\n",
            "1934\n",
            "[8 1 3]\n",
            "1935\n",
            "[5 3 6]\n",
            "1936\n",
            "[1 9 5]\n",
            "1937\n",
            "[5 8 7]\n",
            "1938\n",
            "[7 5 7]\n",
            "1939\n",
            "[5 1 4]\n",
            "1940\n",
            "[ 4  7 10]\n",
            "1940\n",
            "[ 3 10  4]\n",
            "1940\n",
            "[9 8 5]\n",
            "1941\n",
            "[7 4 3]\n",
            "1942\n",
            "[10  2 10]\n",
            "1943\n",
            "[7 5 7]\n",
            "1944\n",
            "[ 8 10  9]\n",
            "1945\n",
            "[10 10  1]\n",
            "1946\n",
            "[10  3  5]\n",
            "1947\n",
            "[5 1 4]\n",
            "1948\n",
            "[2 3 1]\n",
            "1949\n",
            "[5 4 7]\n",
            "1950\n",
            "[ 5 10  3]\n",
            "1951\n",
            "[1 7 6]\n",
            "1952\n",
            "[9 7 3]\n",
            "1953\n",
            "[8 4 6]\n",
            "1954\n",
            "[1 9 1]\n",
            "1955\n",
            "[6 8 4]\n",
            "1956\n",
            "[ 8 10  1]\n",
            "1957\n",
            "[7 6 5]\n",
            "1958\n",
            "[10  2  1]\n",
            "1959\n",
            "[8 7 3]\n",
            "1959\n",
            "[ 1 10  4]\n",
            "1960\n",
            "[6 5 3]\n",
            "1961\n",
            "[9 3 5]\n",
            "1962\n",
            "[8 4 4]\n",
            "1962\n",
            "[3 3 7]\n",
            "1963\n",
            "[2 8 1]\n",
            "1964\n",
            "[10  4  5]\n",
            "1965\n",
            "[9 2 5]\n",
            "1966\n",
            "[2 6 5]\n",
            "1967\n",
            "[8 8 6]\n",
            "1968\n",
            "[4 7 9]\n",
            "1968\n",
            "[ 4 10  1]\n",
            "1969\n",
            "[ 9  7 10]\n",
            "1970\n",
            "[2 7 3]\n",
            "1971\n",
            "[8 5 5]\n",
            "1972\n",
            "[1 2 8]\n",
            "1973\n",
            "[ 6  7 10]\n",
            "1974\n",
            "[1 6 1]\n",
            "1975\n",
            "[2 4 7]\n",
            "1975\n",
            "[3 4 7]\n",
            "1976\n",
            "[7 6 2]\n",
            "1977\n",
            "[10  7  9]\n",
            "1978\n",
            "[1 5 9]\n",
            "1979\n",
            "[6 9 2]\n",
            "1980\n",
            "[ 8  9 10]\n",
            "1981\n",
            "[9 9 4]\n",
            "1982\n",
            "[9 8 1]\n",
            "1983\n",
            "[ 7  8 10]\n",
            "1984\n",
            "[1 1 2]\n",
            "1985\n",
            "[7 8 9]\n",
            "1986\n",
            "[10 10  6]\n",
            "1987\n",
            "[1 9 7]\n",
            "1988\n",
            "[3 1 6]\n",
            "1989\n",
            "[10  3  1]\n",
            "1990\n",
            "[10 10 10]\n",
            "1991\n",
            "[1 7 1]\n",
            "1991\n",
            "[6 4 7]\n",
            "1992\n",
            "[6 9 9]\n",
            "1993\n",
            "[1 2 1]\n",
            "1994\n",
            "[ 7  1 10]\n",
            "1995\n",
            "[ 7 10  9]\n",
            "1996\n",
            "[9 5 1]\n",
            "1997\n",
            "[9 5 5]\n",
            "1997\n",
            "[8 3 7]\n",
            "1998\n",
            "[2 1 5]\n",
            "1999\n",
            "[3 4 5]\n",
            "2000\n",
            "[7 7 9]\n",
            "2001\n",
            "[8 4 7]\n",
            "2001\n",
            "[ 3  1 10]\n",
            "2002\n",
            "[7 1 1]\n",
            "2003\n",
            "[5 8 2]\n",
            "2004\n",
            "[9 7 6]\n",
            "2005\n",
            "[2 1 9]\n",
            "2006\n",
            "[3 3 1]\n",
            "2006\n",
            "[ 9  9 10]\n",
            "2007\n",
            "[ 3 10  9]\n",
            "2008\n",
            "[7 7 7]\n",
            "2009\n",
            "[3 4 1]\n",
            "2010\n",
            "[3 3 6]\n",
            "2010\n",
            "[6 9 2]\n",
            "2011\n",
            "[ 1 10  2]\n",
            "2012\n",
            "[ 9 10  9]\n",
            "2013\n",
            "[3 1 9]\n",
            "2013\n",
            "[5 9 8]\n",
            "2014\n",
            "[5 9 6]\n",
            "2015\n",
            "[3 1 4]\n",
            "2016\n",
            "[ 5 10  3]\n",
            "2017\n",
            "[5 4 9]\n",
            "2018\n",
            "[8 5 3]\n",
            "2019\n",
            "[5 2 8]\n",
            "2019\n",
            "[ 2  2 10]\n",
            "2020\n",
            "[3 2 7]\n",
            "2021\n",
            "[2 7 5]\n",
            "2022\n",
            "[10  7  1]\n",
            "2023\n",
            "[ 4  8 10]\n",
            "2024\n",
            "[4 4 2]\n",
            "2024\n",
            "[4 9 9]\n",
            "2025\n",
            "[ 1  5 10]\n",
            "2026\n",
            "[9 3 9]\n",
            "2027\n",
            "[10  9  6]\n",
            "2028\n",
            "[4 4 5]\n",
            "2029\n",
            "[2 4 1]\n",
            "2029\n",
            "[ 5 10  6]\n",
            "2030\n",
            "[9 1 1]\n",
            "2031\n",
            "[9 4 5]\n",
            "2032\n",
            "[6 9 9]\n",
            "2033\n",
            "[8 3 9]\n",
            "2034\n",
            "[6 3 3]\n",
            "2035\n",
            "[1 1 2]\n",
            "2036\n",
            "[9 1 1]\n",
            "2037\n",
            "[7 5 1]\n",
            "2038\n",
            "[1 7 5]\n",
            "2039\n",
            "[ 5 10  3]\n",
            "2040\n",
            "[1 1 1]\n",
            "2041\n",
            "[8 1 2]\n",
            "2042\n",
            "[7 7 1]\n",
            "2043\n",
            "[4 7 7]\n",
            "2044\n",
            "[4 1 4]\n",
            "2045\n",
            "[1 8 6]\n",
            "2046\n",
            "[10  2  5]\n",
            "2047\n",
            "[1 3 3]\n",
            "2048\n",
            "[3 7 2]\n",
            "2049\n",
            "[7 7 7]\n",
            "2050\n",
            "[7 2 6]\n",
            "2051\n",
            "[10  6  3]\n",
            "2052\n",
            "[ 9  5 10]\n",
            "2052\n",
            "[5 4 7]\n",
            "2053\n",
            "[4 4 9]\n",
            "2054\n",
            "[ 6 10  4]\n",
            "2055\n",
            "[7 9 6]\n",
            "2056\n",
            "[ 5 10  6]\n",
            "2057\n",
            "[6 3 2]\n",
            "2058\n",
            "[6 8 8]\n",
            "2059\n",
            "[7 5 8]\n",
            "2060\n",
            "[3 7 2]\n",
            "2061\n",
            "[9 6 4]\n",
            "2062\n",
            "[10  2  5]\n",
            "2063\n",
            "[ 9  4 10]\n",
            "2064\n",
            "[4 6 3]\n",
            "2065\n",
            "[6 6 6]\n",
            "2066\n",
            "[5 6 6]\n",
            "2067\n",
            "[4 6 1]\n",
            "2068\n",
            "[1 4 5]\n",
            "2069\n",
            "[2 8 3]\n",
            "2070\n",
            "[9 5 7]\n",
            "2071\n",
            "[3 6 2]\n",
            "2072\n",
            "[4 7 4]\n",
            "2073\n",
            "[6 8 6]\n",
            "2074\n",
            "[7 2 3]\n",
            "2074\n",
            "[1 5 9]\n",
            "2075\n",
            "[3 1 6]\n",
            "2076\n",
            "[5 5 3]\n",
            "2077\n",
            "[2 9 7]\n",
            "2078\n",
            "[2 3 2]\n",
            "2079\n",
            "[5 8 1]\n",
            "2080\n",
            "[1 7 7]\n",
            "2081\n",
            "[8 5 8]\n",
            "2082\n",
            "[2 9 3]\n",
            "2083\n",
            "[10  4  6]\n",
            "2084\n",
            "[3 9 5]\n",
            "2085\n",
            "[7 1 1]\n",
            "2086\n",
            "[10  7  6]\n",
            "2087\n",
            "[ 7  8 10]\n",
            "2088\n",
            "[1 7 3]\n",
            "2089\n",
            "[3 5 6]\n",
            "2090\n",
            "[2 4 4]\n",
            "2091\n",
            "[3 8 4]\n",
            "2092\n",
            "[1 6 3]\n",
            "2093\n",
            "[2 4 4]\n",
            "2094\n",
            "[6 7 9]\n",
            "2095\n",
            "[9 3 4]\n",
            "2096\n",
            "[8 7 2]\n",
            "2097\n",
            "[6 7 2]\n",
            "2097\n",
            "[7 2 5]\n",
            "2098\n",
            "[10  2  7]\n",
            "2099\n",
            "[5 3 9]\n",
            "2100\n",
            "[7 2 2]\n",
            "2101\n",
            "[2 5 7]\n",
            "2102\n",
            "[9 1 5]\n",
            "2102\n",
            "[ 6 10 10]\n",
            "2103\n",
            "[8 3 1]\n",
            "2104\n",
            "[3 1 6]\n",
            "2105\n",
            "[8 4 5]\n",
            "2106\n",
            "[9 2 9]\n",
            "2107\n",
            "[10  3  5]\n",
            "2108\n",
            "[4 4 5]\n",
            "2109\n",
            "[3 8 4]\n",
            "2109\n",
            "[10  5 10]\n",
            "2110\n",
            "[5 7 7]\n",
            "2111\n",
            "[ 6  6 10]\n",
            "2112\n",
            "[5 5 8]\n",
            "2113\n",
            "[ 6  1 10]\n",
            "2113\n",
            "[10  1  7]\n",
            "2113\n",
            "[ 1 10  5]\n",
            "2114\n",
            "[10  1  4]\n",
            "2115\n",
            "[8 8 7]\n",
            "2116\n",
            "[8 1 2]\n",
            "2117\n",
            "[3 5 7]\n",
            "2117\n",
            "[8 5 6]\n",
            "2118\n",
            "[4 6 4]\n",
            "2119\n",
            "[2 3 1]\n",
            "2120\n",
            "[5 1 1]\n",
            "2121\n",
            "[5 8 4]\n",
            "2122\n",
            "[6 9 8]\n",
            "2123\n",
            "[10  4  5]\n",
            "2124\n",
            "[4 1 6]\n",
            "2125\n",
            "[ 4 10  7]\n",
            "2126\n",
            "[ 6 10  4]\n",
            "2127\n",
            "[10  3 10]\n",
            "2128\n",
            "[10  9  2]\n",
            "2129\n",
            "[8 7 7]\n",
            "2130\n",
            "[8 7 8]\n",
            "2131\n",
            "[3 2 5]\n",
            "2132\n",
            "[ 8 10  7]\n",
            "2133\n",
            "[5 4 4]\n",
            "2134\n",
            "[7 8 5]\n",
            "2135\n",
            "[6 2 9]\n",
            "2136\n",
            "[ 5 10  4]\n",
            "2137\n",
            "[9 7 4]\n",
            "2138\n",
            "[1 1 2]\n",
            "2139\n",
            "[10  9  1]\n",
            "2140\n",
            "[ 9  8 10]\n",
            "2141\n",
            "[ 5 10  1]\n",
            "2142\n",
            "[5 4 5]\n",
            "2143\n",
            "[9 5 5]\n",
            "2144\n",
            "[ 5  7 10]\n",
            "2145\n",
            "[10  7  3]\n",
            "2146\n",
            "[6 3 8]\n",
            "2147\n",
            "[10 10  4]\n",
            "2148\n",
            "[5 1 1]\n",
            "2149\n",
            "[ 2  1 10]\n",
            "2150\n",
            "[1 4 2]\n",
            "2151\n",
            "[7 8 5]\n",
            "2152\n",
            "[ 6  3 10]\n",
            "2153\n",
            "[2 2 4]\n",
            "2154\n",
            "[7 4 9]\n",
            "2155\n",
            "[6 5 4]\n",
            "2156\n",
            "[9 1 3]\n",
            "2157\n",
            "[9 4 2]\n",
            "2158\n",
            "[8 1 5]\n",
            "2159\n",
            "[1 4 9]\n",
            "2160\n",
            "[6 7 8]\n",
            "2161\n",
            "[9 7 4]\n",
            "2162\n",
            "[9 6 2]\n",
            "2163\n",
            "[6 8 7]\n",
            "2164\n",
            "[10  3  5]\n",
            "2165\n",
            "[6 6 5]\n",
            "2166\n",
            "[1 5 2]\n",
            "2167\n",
            "[ 4  5 10]\n",
            "2168\n",
            "[3 5 5]\n",
            "2168\n",
            "[10  8  3]\n",
            "2169\n",
            "[6 8 8]\n",
            "2169\n",
            "[6 2 3]\n",
            "2170\n",
            "[7 2 4]\n",
            "2171\n",
            "[9 1 2]\n",
            "2172\n",
            "[2 3 5]\n",
            "2173\n",
            "[ 4 10  1]\n",
            "2174\n",
            "[8 3 3]\n",
            "2175\n",
            "[4 3 4]\n",
            "2176\n",
            "[4 3 4]\n",
            "2177\n",
            "[2 6 7]\n",
            "2178\n",
            "[4 8 4]\n",
            "2179\n",
            "[ 4 10  4]\n",
            "2180\n",
            "[5 3 9]\n",
            "2181\n",
            "[3 7 7]\n",
            "2182\n",
            "[ 5  3 10]\n",
            "2183\n",
            "[4 3 6]\n",
            "2184\n",
            "[5 1 9]\n",
            "2185\n",
            "[3 6 5]\n",
            "2186\n",
            "[1 5 2]\n",
            "2187\n",
            "[ 9 10  6]\n",
            "2188\n",
            "[8 4 1]\n",
            "2189\n",
            "[8 3 1]\n",
            "2190\n",
            "[3 3 1]\n",
            "2191\n",
            "[10  2  5]\n",
            "2192\n",
            "[9 3 8]\n",
            "2193\n",
            "[ 8 10  6]\n",
            "2194\n",
            "[ 8  5 10]\n",
            "2194\n",
            "[6 9 1]\n",
            "2195\n",
            "[6 5 9]\n",
            "2196\n",
            "[10  2  9]\n",
            "2197\n",
            "[6 9 7]\n",
            "2198\n",
            "[1 6 4]\n",
            "2199\n",
            "[8 6 4]\n",
            "2200\n",
            "[5 3 8]\n",
            "2201\n",
            "[5 7 6]\n",
            "2202\n",
            "[10  5  2]\n",
            "2203\n",
            "[3 9 5]\n",
            "2204\n",
            "[ 5 10 10]\n",
            "2205\n",
            "[1 1 2]\n",
            "2206\n",
            "[7 8 1]\n",
            "2207\n",
            "[5 3 4]\n",
            "2208\n",
            "[ 3 10  2]\n",
            "2209\n",
            "[9 7 8]\n",
            "2210\n",
            "[8 5 5]\n",
            "2211\n",
            "[5 8 1]\n",
            "2212\n",
            "[10  7 10]\n",
            "2213\n",
            "[8 6 7]\n",
            "2214\n",
            "[ 7 10  5]\n",
            "2215\n",
            "[2 1 6]\n",
            "2216\n",
            "[3 7 5]\n",
            "2216\n",
            "[3 8 4]\n",
            "2217\n",
            "[4 7 1]\n",
            "2218\n",
            "[4 4 6]\n",
            "2219\n",
            "[9 5 6]\n",
            "2220\n",
            "[ 6  1 10]\n",
            "2221\n",
            "[5 1 1]\n",
            "2222\n",
            "[ 4  8 10]\n",
            "2223\n",
            "[5 5 5]\n",
            "2224\n",
            "[9 7 9]\n",
            "2225\n",
            "[1 9 9]\n",
            "2226\n",
            "[4 7 6]\n",
            "2227\n",
            "[8 6 8]\n",
            "2227\n",
            "[4 1 6]\n",
            "2228\n",
            "[ 2 10  6]\n",
            "2229\n",
            "[6 3 9]\n",
            "2230\n",
            "[4 9 8]\n",
            "2231\n",
            "[1 9 5]\n",
            "2232\n",
            "[ 5  7 10]\n",
            "2233\n",
            "[10  9  5]\n",
            "2233\n",
            "[7 4 4]\n",
            "2234\n",
            "[7 1 1]\n",
            "2235\n",
            "[10  4  3]\n",
            "2236\n",
            "[3 7 7]\n",
            "2237\n",
            "[2 6 3]\n",
            "2238\n",
            "[7 8 4]\n",
            "2239\n",
            "[9 8 6]\n",
            "2240\n",
            "[ 7 10  6]\n",
            "2241\n",
            "[ 4 10  7]\n",
            "2242\n",
            "[10  3  9]\n",
            "2243\n",
            "[10  6  7]\n",
            "2244\n",
            "[ 9  1 10]\n",
            "2245\n",
            "[10  2  4]\n",
            "2246\n",
            "[ 6  4 10]\n",
            "2247\n",
            "[2 9 8]\n",
            "2248\n",
            "[ 3 10  5]\n",
            "2249\n",
            "[9 3 9]\n",
            "2250\n",
            "[4 6 3]\n",
            "2250\n",
            "[7 9 6]\n",
            "2251\n",
            "[10  5  5]\n",
            "2252\n",
            "[4 6 3]\n",
            "2252\n",
            "[10  5  9]\n",
            "2252\n",
            "[2 9 8]\n",
            "2253\n",
            "[7 4 3]\n",
            "2254\n",
            "[ 4 10  4]\n",
            "2254\n",
            "[10  1  7]\n",
            "2255\n",
            "[ 4 10  8]\n",
            "2256\n",
            "[1 6 7]\n",
            "2257\n",
            "[ 3  4 10]\n",
            "2258\n",
            "[6 5 4]\n",
            "2258\n",
            "[4 2 2]\n",
            "2259\n",
            "[4 2 5]\n",
            "2259\n",
            "[8 1 4]\n",
            "2260\n",
            "[4 9 4]\n",
            "2261\n",
            "[6 8 5]\n",
            "2262\n",
            "[9 3 7]\n",
            "2263\n",
            "[ 9  4 10]\n",
            "2263\n",
            "[4 3 4]\n",
            "2264\n",
            "[ 2  1 10]\n",
            "2265\n",
            "[ 5 10  7]\n",
            "2266\n",
            "[3 5 2]\n",
            "2267\n",
            "[5 3 7]\n",
            "2268\n",
            "[ 1 10  9]\n",
            "2269\n",
            "[6 2 2]\n",
            "2270\n",
            "[9 5 8]\n",
            "2270\n",
            "[3 6 3]\n",
            "2271\n",
            "[5 4 2]\n",
            "2272\n",
            "[5 4 8]\n",
            "2273\n",
            "[7 5 9]\n",
            "2274\n",
            "[4 4 3]\n",
            "2275\n",
            "[6 5 8]\n",
            "2275\n",
            "[9 7 7]\n",
            "2275\n",
            "[1 3 9]\n",
            "2275\n",
            "[4 5 4]\n",
            "2276\n",
            "[10 10  1]\n",
            "2277\n",
            "[10 10  8]\n",
            "2278\n",
            "[ 3 10  6]\n",
            "2279\n",
            "[7 5 3]\n",
            "2280\n",
            "[ 3  2 10]\n",
            "2281\n",
            "[ 7  6 10]\n",
            "2282\n",
            "[8 4 6]\n",
            "2283\n",
            "[1 8 7]\n",
            "2284\n",
            "[7 9 8]\n",
            "2285\n",
            "[4 2 1]\n",
            "2286\n",
            "[4 8 4]\n",
            "2287\n",
            "[8 6 4]\n",
            "2288\n",
            "[6 2 6]\n",
            "2288\n",
            "[9 2 2]\n",
            "2289\n",
            "[8 5 4]\n",
            "2290\n",
            "[6 4 9]\n",
            "2291\n",
            "[9 2 7]\n",
            "2291\n",
            "[9 2 5]\n",
            "2292\n",
            "[ 7 10  5]\n",
            "2293\n",
            "[3 3 2]\n",
            "2293\n",
            "[6 4 2]\n",
            "2294\n",
            "[2 2 6]\n",
            "2295\n",
            "[5 4 1]\n",
            "2296\n",
            "[6 3 8]\n",
            "2297\n",
            "[5 8 6]\n",
            "2298\n",
            "[6 8 5]\n",
            "2299\n",
            "[7 3 3]\n",
            "2300\n",
            "[6 7 7]\n",
            "2301\n",
            "[9 3 3]\n",
            "2302\n",
            "[7 9 5]\n",
            "2303\n",
            "[8 6 2]\n",
            "2304\n",
            "[3 8 4]\n",
            "2305\n",
            "[1 9 6]\n",
            "2306\n",
            "[1 8 9]\n",
            "2306\n",
            "[5 9 4]\n",
            "2307\n",
            "[ 9  2 10]\n",
            "2308\n",
            "[3 1 8]\n",
            "2309\n",
            "[8 4 9]\n",
            "2310\n",
            "[1 2 2]\n",
            "2311\n",
            "[6 8 3]\n",
            "2312\n",
            "[10  4  1]\n",
            "2313\n",
            "[3 4 8]\n",
            "2314\n",
            "[1 5 2]\n",
            "2315\n",
            "[ 1  2 10]\n",
            "2316\n",
            "[5 6 7]\n",
            "2316\n",
            "[10  5 10]\n",
            "2316\n",
            "[10  7  9]\n",
            "2317\n",
            "[10  1  3]\n",
            "2318\n",
            "[1 2 8]\n",
            "2319\n",
            "[1 8 1]\n",
            "2320\n",
            "[2 4 5]\n",
            "2321\n",
            "[7 7 9]\n",
            "2321\n",
            "[ 2 10  5]\n",
            "2322\n",
            "[8 3 8]\n",
            "2323\n",
            "[ 1 10  4]\n",
            "2324\n",
            "[9 8 8]\n",
            "2325\n",
            "[ 9 10  7]\n",
            "2326\n",
            "[6 8 9]\n",
            "2327\n",
            "[ 5  8 10]\n",
            "2328\n",
            "[10  1  1]\n",
            "2329\n",
            "[5 6 8]\n",
            "2330\n",
            "[6 9 3]\n",
            "2331\n",
            "[7 4 7]\n",
            "2332\n",
            "[1 3 8]\n",
            "2332\n",
            "[3 6 5]\n",
            "2332\n",
            "[10  7  7]\n",
            "2333\n",
            "[ 1 10  9]\n",
            "2334\n",
            "[ 4  3 10]\n",
            "2335\n",
            "[5 8 3]\n",
            "2336\n",
            "[1 5 4]\n",
            "2337\n",
            "[ 8  2 10]\n",
            "2338\n",
            "[ 6 10  3]\n",
            "2338\n",
            "[1 5 2]\n",
            "2339\n",
            "[1 2 2]\n",
            "2340\n",
            "[1 6 5]\n",
            "2341\n",
            "[7 2 1]\n",
            "2342\n",
            "[7 4 3]\n",
            "2343\n",
            "[1 8 7]\n",
            "2344\n",
            "[8 5 4]\n",
            "2345\n",
            "[6 6 5]\n",
            "2346\n",
            "[7 8 2]\n",
            "2347\n",
            "[4 6 8]\n",
            "2348\n",
            "[ 6  7 10]\n",
            "2349\n",
            "[8 6 4]\n",
            "2349\n",
            "[1 6 6]\n",
            "2350\n",
            "[1 7 1]\n",
            "2351\n",
            "[ 5 10  8]\n",
            "2352\n",
            "[2 7 5]\n",
            "2353\n",
            "[5 7 3]\n",
            "2354\n",
            "[ 4 10  1]\n",
            "2355\n",
            "[4 3 3]\n",
            "2355\n",
            "[4 2 6]\n",
            "2356\n",
            "[3 1 4]\n",
            "2357\n",
            "[3 3 5]\n",
            "2358\n",
            "[6 3 7]\n",
            "2359\n",
            "[5 1 7]\n",
            "2360\n",
            "[2 9 8]\n",
            "2361\n",
            "[9 5 7]\n",
            "2362\n",
            "[9 7 7]\n",
            "2363\n",
            "[2 5 1]\n",
            "2364\n",
            "[6 2 2]\n",
            "2365\n",
            "[2 3 6]\n",
            "2366\n",
            "[ 4  4 10]\n",
            "2367\n",
            "[8 6 6]\n",
            "2368\n",
            "[3 4 5]\n",
            "2369\n",
            "[ 2 10  5]\n",
            "2370\n",
            "[8 5 3]\n",
            "2371\n",
            "[4 4 8]\n",
            "2372\n",
            "[1 4 6]\n",
            "2373\n",
            "[1 2 3]\n",
            "2374\n",
            "[ 4 10  8]\n",
            "2375\n",
            "[ 2 10  9]\n",
            "2376\n",
            "[10  1  6]\n",
            "2377\n",
            "[10  3  4]\n",
            "2378\n",
            "[3 6 8]\n",
            "2378\n",
            "[4 6 6]\n",
            "2379\n",
            "[ 9 10  7]\n",
            "2380\n",
            "[2 9 5]\n",
            "2381\n",
            "[10 10  7]\n",
            "2382\n",
            "[1 5 9]\n",
            "2383\n",
            "[ 5 10  6]\n",
            "2384\n",
            "[1 1 3]\n",
            "2385\n",
            "[9 6 3]\n",
            "2386\n",
            "[2 6 7]\n",
            "2386\n",
            "[ 3 10  8]\n",
            "2387\n",
            "[10  3  2]\n",
            "2388\n",
            "[ 8 10  6]\n",
            "2389\n",
            "[ 5 10  2]\n",
            "2390\n",
            "[ 3  3 10]\n",
            "2391\n",
            "[ 9 10  8]\n",
            "2392\n",
            "[4 2 7]\n",
            "2393\n",
            "[3 1 3]\n",
            "2394\n",
            "[4 2 3]\n",
            "2395\n",
            "[1 4 4]\n",
            "2396\n",
            "[1 3 8]\n",
            "2397\n",
            "[7 3 7]\n",
            "2398\n",
            "[4 8 2]\n",
            "2399\n",
            "[4 9 1]\n",
            "2400\n",
            "[2 3 9]\n",
            "2401\n",
            "[10 10  1]\n",
            "2402\n",
            "[ 9 10 10]\n",
            "2403\n",
            "[9 5 7]\n",
            "2404\n",
            "[4 3 1]\n",
            "2405\n",
            "[ 2 10  1]\n",
            "2406\n",
            "[1 8 7]\n",
            "2407\n",
            "[8 8 8]\n",
            "2407\n",
            "[1 9 6]\n",
            "2407\n",
            "[1 4 6]\n",
            "2408\n",
            "[8 7 2]\n",
            "2409\n",
            "[7 6 3]\n",
            "2410\n",
            "[1 6 8]\n",
            "2411\n",
            "[4 6 2]\n",
            "2412\n",
            "[7 1 6]\n",
            "2413\n",
            "[9 5 6]\n",
            "2413\n",
            "[ 6  8 10]\n",
            "2414\n",
            "[5 5 8]\n",
            "2415\n",
            "[6 6 9]\n",
            "2416\n",
            "[ 3  4 10]\n",
            "2417\n",
            "[2 1 5]\n",
            "2417\n",
            "[8 5 5]\n",
            "2418\n",
            "[4 5 1]\n",
            "2419\n",
            "[6 1 8]\n",
            "2420\n",
            "[ 4 10  2]\n",
            "2420\n",
            "[10  4  1]\n",
            "2421\n",
            "[5 6 3]\n",
            "2421\n",
            "[6 6 5]\n",
            "2422\n",
            "[8 1 3]\n",
            "2423\n",
            "[4 7 6]\n",
            "2424\n",
            "[1 6 8]\n",
            "2425\n",
            "[ 7 10  1]\n",
            "2426\n",
            "[6 1 3]\n",
            "2427\n",
            "[3 8 9]\n",
            "2427\n",
            "[10  1  5]\n",
            "2428\n",
            "[4 8 2]\n",
            "2429\n",
            "[4 6 1]\n",
            "2430\n",
            "[7 5 9]\n",
            "2431\n",
            "[ 4 10  8]\n",
            "2432\n",
            "[ 4 10  6]\n",
            "2432\n",
            "[6 9 9]\n",
            "2433\n",
            "[ 1  3 10]\n",
            "2434\n",
            "[1 8 1]\n",
            "2435\n",
            "[8 5 2]\n",
            "2436\n",
            "[1 4 7]\n",
            "2437\n",
            "[10  4  7]\n",
            "2438\n",
            "[7 9 3]\n",
            "2439\n",
            "[2 7 1]\n",
            "2440\n",
            "[2 4 6]\n",
            "2441\n",
            "[2 9 4]\n",
            "2442\n",
            "[ 5 10 10]\n",
            "2443\n",
            "[5 5 3]\n",
            "2444\n",
            "[6 8 7]\n",
            "2445\n",
            "[ 9  6 10]\n",
            "2446\n",
            "[6 5 4]\n",
            "2447\n",
            "[5 8 4]\n",
            "2448\n",
            "[10  3  3]\n",
            "2449\n",
            "[8 2 9]\n",
            "2450\n",
            "[9 5 6]\n",
            "2451\n",
            "[2 5 9]\n",
            "2452\n",
            "[6 1 6]\n",
            "2453\n",
            "[ 6  3 10]\n",
            "2454\n",
            "[2 5 8]\n",
            "2455\n",
            "[ 6  7 10]\n",
            "2456\n",
            "[8 3 6]\n",
            "2457\n",
            "[9 1 3]\n",
            "2458\n",
            "[6 3 5]\n",
            "2459\n",
            "[2 9 4]\n",
            "2460\n",
            "[5 7 8]\n",
            "2461\n",
            "[8 3 4]\n",
            "2462\n",
            "[5 5 9]\n",
            "2463\n",
            "[10  6  3]\n",
            "2464\n",
            "[4 2 1]\n",
            "2464\n",
            "[9 6 8]\n",
            "2465\n",
            "[2 1 4]\n",
            "2466\n",
            "[8 2 8]\n",
            "2467\n",
            "[3 8 8]\n",
            "2468\n",
            "[10  4  5]\n",
            "2469\n",
            "[8 3 4]\n",
            "2470\n",
            "[6 6 2]\n",
            "2471\n",
            "[10  7  6]\n",
            "2472\n",
            "[8 3 4]\n",
            "2473\n",
            "[1 9 7]\n",
            "2474\n",
            "[6 3 7]\n",
            "2475\n",
            "[5 4 4]\n",
            "2475\n",
            "[4 5 3]\n",
            "2476\n",
            "[ 2  4 10]\n",
            "2477\n",
            "[5 9 9]\n",
            "2478\n",
            "[4 3 8]\n",
            "2479\n",
            "[8 9 9]\n",
            "2480\n",
            "[ 6 10  5]\n",
            "2481\n",
            "[1 4 4]\n",
            "2482\n",
            "[ 5  2 10]\n",
            "2483\n",
            "[3 9 4]\n",
            "2484\n",
            "[5 7 6]\n",
            "2485\n",
            "[5 9 1]\n",
            "2486\n",
            "[1 5 6]\n",
            "2487\n",
            "[6 1 3]\n",
            "2488\n",
            "[4 1 8]\n",
            "2489\n",
            "[10  9  4]\n",
            "2490\n",
            "[2 4 6]\n",
            "2491\n",
            "[1 4 7]\n",
            "2492\n",
            "[2 2 6]\n",
            "2493\n",
            "[ 2  1 10]\n",
            "2494\n",
            "[9 3 5]\n",
            "2495\n",
            "[7 9 4]\n",
            "2496\n",
            "[2 6 2]\n",
            "2497\n",
            "[5 2 6]\n",
            "2498\n",
            "[4 8 4]\n",
            "2499\n",
            "[7 7 9]\n",
            "2500\n",
            "[ 5 10  4]\n",
            "2501\n",
            "[8 7 1]\n",
            "2502\n",
            "[10  8  7]\n",
            "2503\n",
            "[9 3 4]\n",
            "2504\n",
            "[10  4  6]\n",
            "2505\n",
            "[ 7 10  6]\n",
            "2506\n",
            "[9 1 4]\n",
            "2507\n",
            "[4 3 4]\n",
            "2508\n",
            "[ 3  9 10]\n",
            "2509\n",
            "[2 5 5]\n",
            "2509\n",
            "[9 4 5]\n",
            "2510\n",
            "[ 8  8 10]\n",
            "2511\n",
            "[9 2 8]\n",
            "2512\n",
            "[5 2 4]\n",
            "2512\n",
            "[ 9  9 10]\n",
            "2513\n",
            "[ 8 10  8]\n",
            "2514\n",
            "[1 4 2]\n",
            "2514\n",
            "[4 9 9]\n",
            "2515\n",
            "[6 5 8]\n",
            "2516\n",
            "[1 6 8]\n",
            "2517\n",
            "[2 1 8]\n",
            "2518\n",
            "[3 5 2]\n",
            "2519\n",
            "[10  8  3]\n",
            "2520\n",
            "[2 9 8]\n",
            "2521\n",
            "[4 5 7]\n",
            "2522\n",
            "[9 8 1]\n",
            "2523\n",
            "[6 3 3]\n",
            "2524\n",
            "[7 9 3]\n",
            "2525\n",
            "[2 8 4]\n",
            "2526\n",
            "[ 4 10  2]\n",
            "2527\n",
            "[6 7 9]\n",
            "2528\n",
            "[6 2 8]\n",
            "2529\n",
            "[6 7 2]\n",
            "2529\n",
            "[4 1 1]\n",
            "2529\n",
            "[3 3 3]\n",
            "2530\n",
            "[2 2 1]\n",
            "2531\n",
            "[10  1  2]\n",
            "2532\n",
            "[5 1 6]\n",
            "2532\n",
            "[ 3 10  7]\n",
            "2533\n",
            "[3 7 3]\n",
            "2534\n",
            "[3 7 7]\n",
            "2535\n",
            "[2 3 4]\n",
            "2536\n",
            "[ 1  1 10]\n",
            "2537\n",
            "[7 3 3]\n",
            "2538\n",
            "[ 2 10  2]\n",
            "2539\n",
            "[8 9 6]\n",
            "2540\n",
            "[2 8 9]\n",
            "2541\n",
            "[6 3 2]\n",
            "2542\n",
            "[5 3 7]\n",
            "2543\n",
            "[3 8 5]\n",
            "2543\n",
            "[1 6 1]\n",
            "2544\n",
            "[10  2  5]\n",
            "2545\n",
            "[1 2 9]\n",
            "2546\n",
            "[ 8 10  9]\n",
            "2547\n",
            "[8 3 6]\n",
            "2548\n",
            "[ 8  9 10]\n",
            "2549\n",
            "[3 3 6]\n",
            "2550\n",
            "[4 4 4]\n",
            "2551\n",
            "[ 2  1 10]\n",
            "2552\n",
            "[8 5 4]\n",
            "2553\n",
            "[1 1 4]\n",
            "2554\n",
            "[4 2 7]\n",
            "2555\n",
            "[7 6 2]\n",
            "2556\n",
            "[ 1  4 10]\n",
            "2557\n",
            "[9 4 2]\n",
            "2558\n",
            "[5 8 8]\n",
            "2559\n",
            "[7 9 4]\n",
            "2560\n",
            "[9 5 1]\n",
            "2561\n",
            "[10  2  6]\n",
            "2562\n",
            "[5 5 8]\n",
            "2563\n",
            "[9 7 8]\n",
            "2564\n",
            "[6 2 1]\n",
            "2565\n",
            "[ 7  4 10]\n",
            "2566\n",
            "[4 7 5]\n",
            "2567\n",
            "[3 9 2]\n",
            "2568\n",
            "[10  4 10]\n",
            "2569\n",
            "[10  4  3]\n",
            "2570\n",
            "[ 1  1 10]\n",
            "2571\n",
            "[5 5 1]\n",
            "2572\n",
            "[9 2 6]\n",
            "2573\n",
            "[9 1 7]\n",
            "2574\n",
            "[4 4 9]\n",
            "2575\n",
            "[ 9  7 10]\n",
            "2576\n",
            "[7 6 7]\n",
            "2577\n",
            "[9 5 7]\n",
            "2578\n",
            "[ 6 10  7]\n",
            "2579\n",
            "[8 3 2]\n",
            "2580\n",
            "[4 9 5]\n",
            "2581\n",
            "[10  5  1]\n",
            "2582\n",
            "[ 5 10  1]\n",
            "2583\n",
            "[ 1 10 10]\n",
            "2584\n",
            "[9 2 5]\n",
            "2585\n",
            "[2 4 4]\n",
            "2586\n",
            "[8 2 8]\n",
            "2587\n",
            "[ 1  1 10]\n",
            "2588\n",
            "[3 8 6]\n",
            "2588\n",
            "[10  2  3]\n",
            "2588\n",
            "[7 6 5]\n",
            "2589\n",
            "[4 4 4]\n",
            "2589\n",
            "[4 1 4]\n",
            "2590\n",
            "[7 6 8]\n",
            "2591\n",
            "[9 6 3]\n",
            "2592\n",
            "[2 3 2]\n",
            "2592\n",
            "[1 5 6]\n",
            "2593\n",
            "[4 3 5]\n",
            "2594\n",
            "[ 5 10 10]\n",
            "2595\n",
            "[3 5 3]\n",
            "2596\n",
            "[6 5 9]\n",
            "2596\n",
            "[ 8 10  8]\n",
            "2597\n",
            "[ 7 10  3]\n",
            "2598\n",
            "[1 9 2]\n",
            "2598\n",
            "[8 6 7]\n",
            "2599\n",
            "[2 5 4]\n",
            "2600\n",
            "[9 1 4]\n",
            "2601\n",
            "[10  4 10]\n",
            "2602\n",
            "[1 5 6]\n",
            "2603\n",
            "[2 8 3]\n",
            "2604\n",
            "[8 2 7]\n",
            "2605\n",
            "[1 7 3]\n",
            "2606\n",
            "[6 5 8]\n",
            "2607\n",
            "[3 7 5]\n",
            "2608\n",
            "[5 9 7]\n",
            "2609\n",
            "[ 8 10  6]\n",
            "2610\n",
            "[ 7  2 10]\n",
            "2611\n",
            "[2 2 6]\n",
            "2612\n",
            "[3 7 4]\n",
            "2613\n",
            "[ 9 10  4]\n",
            "2614\n",
            "[1 3 7]\n",
            "2615\n",
            "[10  7  2]\n",
            "2616\n",
            "[4 3 8]\n",
            "2616\n",
            "[ 4 10 10]\n",
            "2616\n",
            "[9 5 7]\n",
            "2617\n",
            "[3 4 3]\n",
            "2618\n",
            "[6 1 4]\n",
            "2619\n",
            "[ 5  5 10]\n",
            "2620\n",
            "[7 8 5]\n",
            "2621\n",
            "[1 5 9]\n",
            "2622\n",
            "[8 3 8]\n",
            "2623\n",
            "[1 2 7]\n",
            "2624\n",
            "[5 9 5]\n",
            "2624\n",
            "[ 4  4 10]\n",
            "2625\n",
            "[6 7 3]\n",
            "2625\n",
            "[ 2 10  4]\n",
            "2626\n",
            "[8 1 4]\n",
            "2627\n",
            "[2 5 1]\n",
            "2628\n",
            "[ 8 10  7]\n",
            "2628\n",
            "[2 4 6]\n",
            "2629\n",
            "[5 1 8]\n",
            "2630\n",
            "[9 3 8]\n",
            "2631\n",
            "[ 2 10  7]\n",
            "2632\n"
          ]
        }
      ],
      "source": [
        "# your code goes here\n",
        "np.random.randint(1,11, 3)\n",
        "counter = 0\n",
        "for i in range(3000):\n",
        "  print(np.random.randint(1,11, 3))\n",
        "  # if there exist value > 5 in the array then add a counter\n",
        "  if np.any(np.random.randint(1,11, 3) > 5):\n",
        "    counter += 1\n",
        "  print(counter)"
      ]
    },
    {
      "cell_type": "code",
      "execution_count": 23,
      "metadata": {
        "cell_type": "solution",
        "colab": {
          "base_uri": "https://localhost:8080/"
        },
        "id": "o5pM0s1Rtj7Z",
        "outputId": "5c31102c-3ce3-4b9b-dbbc-fa7d28230d45"
      },
      "outputs": [
        {
          "output_type": "execute_result",
          "data": {
            "text/plain": [
              "array([6, 0, 6])"
            ]
          },
          "metadata": {},
          "execution_count": 23
        }
      ],
      "source": [
        "\n",
        "np.random.randint(10, size=3)"
      ]
    },
    {
      "cell_type": "markdown",
      "metadata": {
        "id": "WFv1Xp0otj7a"
      },
      "source": [
        "![green-divider](https://user-images.githubusercontent.com/7065401/52071924-c003ad80-2562-11e9-8297-1c6595f8a7ff.png)\n",
        "\n",
        "### Create a 3\\*3\\*3 numpy matrix, filled with random float values."
      ]
    },
    {
      "cell_type": "code",
      "execution_count": 24,
      "metadata": {
        "colab": {
          "base_uri": "https://localhost:8080/"
        },
        "id": "7_kzYKMetj7a",
        "outputId": "13d6ffd2-5550-4e9e-90fd-16f589b036b1"
      },
      "outputs": [
        {
          "output_type": "execute_result",
          "data": {
            "text/plain": [
              "array([[[0.55633103, 0.86080477, 0.23666695],\n",
              "        [0.98738289, 0.48730458, 0.06532078],\n",
              "        [0.32575901, 0.23846037, 0.52463295]],\n",
              "\n",
              "       [[0.79815472, 0.26785543, 0.7844696 ],\n",
              "        [0.62176594, 0.03547205, 0.32110039],\n",
              "        [0.23306675, 0.82979682, 0.83831689]],\n",
              "\n",
              "       [[0.34795145, 0.24178396, 0.16011917],\n",
              "        [0.40105739, 0.93209813, 0.50919457],\n",
              "        [0.28646944, 0.4128759 , 0.39204267]]])"
            ]
          },
          "metadata": {},
          "execution_count": 24
        }
      ],
      "source": [
        "# your code goes here\n",
        "# columm, row, amount of matrix\n",
        "np.random.random((3,3,3))"
      ]
    },
    {
      "cell_type": "code",
      "execution_count": 25,
      "metadata": {
        "cell_type": "solution",
        "colab": {
          "base_uri": "https://localhost:8080/"
        },
        "id": "n05nMpIAtj7a",
        "outputId": "b89d2bb1-0b9d-4914-d459-c3b91303a02e"
      },
      "outputs": [
        {
          "output_type": "execute_result",
          "data": {
            "text/plain": [
              "array([[[-0.33938128,  1.34423777, -1.10235288],\n",
              "        [-1.77482555, -0.32503768,  0.3744751 ],\n",
              "        [ 0.11683105,  0.65986422,  0.44689152]],\n",
              "\n",
              "       [[-0.82441203,  0.67335231,  0.81012504],\n",
              "        [-0.63727091,  0.58309946,  0.72851046],\n",
              "        [ 0.81851039, -1.30586553,  0.56309052]],\n",
              "\n",
              "       [[-1.73910108, -1.06670971, -1.21363144],\n",
              "        [-2.25187243,  0.10695701, -1.57266288],\n",
              "        [-2.19805343,  0.45170104, -1.38781236]]])"
            ]
          },
          "metadata": {},
          "execution_count": 25
        }
      ],
      "source": [
        "#np.random.random((3,3,3))\n",
        "np.random.randn(3,3,3) # 0 to 1 floats"
      ]
    },
    {
      "cell_type": "code",
      "source": [
        "A = np.array([\n",
        "    ['a', 'b', 'c'],\n",
        "    ['d', 'e', 'f'],\n",
        "    ['g', 'h', 'i']\n",
        "])\n",
        "print(A[:, :3])\n"
      ],
      "metadata": {
        "id": "nSRmN_e3KN-A",
        "outputId": "67e7f373-42d0-4d01-f289-5d306bc75503",
        "colab": {
          "base_uri": "https://localhost:8080/"
        }
      },
      "execution_count": 26,
      "outputs": [
        {
          "output_type": "stream",
          "name": "stdout",
          "text": [
            "[['a' 'b' 'c']\n",
            " ['d' 'e' 'f']\n",
            " ['g' 'h' 'i']]\n"
          ]
        }
      ]
    },
    {
      "cell_type": "markdown",
      "metadata": {
        "id": "Hpf4xW_Dtj7a"
      },
      "source": [
        "![green-divider](https://user-images.githubusercontent.com/7065401/52071924-c003ad80-2562-11e9-8297-1c6595f8a7ff.png)\n",
        "\n",
        "### Given the X python list convert it to an Y numpy array"
      ]
    },
    {
      "cell_type": "code",
      "execution_count": 27,
      "metadata": {
        "colab": {
          "base_uri": "https://localhost:8080/"
        },
        "id": "4x45bIuktj7b",
        "outputId": "9f94f16e-32a4-4cd6-f5cc-77e3dad734d5"
      },
      "outputs": [
        {
          "output_type": "stream",
          "name": "stdout",
          "text": [
            "[1, 2, 3] <class 'list'>\n",
            "[1 2 3] <class 'numpy.ndarray'>\n"
          ]
        }
      ],
      "source": [
        "# your code goes here\n",
        "X = [1,2,3]\n",
        "print(X, type(X))\n",
        "# .array convert list into array\n",
        "Y = np.array(X)\n",
        "print(Y, type(Y))\n",
        "# array and list have a different type and array is more efficient and more scalable if the data amount is really big"
      ]
    },
    {
      "cell_type": "code",
      "execution_count": 28,
      "metadata": {
        "cell_type": "solution",
        "colab": {
          "base_uri": "https://localhost:8080/"
        },
        "id": "9UuIIbSVtj7b",
        "outputId": "a85f35d0-97db-4f71-b47b-b003228855af"
      },
      "outputs": [
        {
          "output_type": "stream",
          "name": "stdout",
          "text": [
            "[1, 2, 3] <class 'list'>\n",
            "[1 2 3] <class 'numpy.ndarray'>\n"
          ]
        }
      ],
      "source": [
        "X = [1, 2, 3]\n",
        "print(X, type(X))\n",
        "\n",
        "Y = np.array(X)\n",
        "print(Y, type(Y)) # different type"
      ]
    },
    {
      "cell_type": "markdown",
      "metadata": {
        "id": "XO4LZ468tj7b"
      },
      "source": [
        "![green-divider](https://user-images.githubusercontent.com/7065401/52071924-c003ad80-2562-11e9-8297-1c6595f8a7ff.png)\n",
        "\n",
        "### Given the X numpy array, make a copy and store it on Y."
      ]
    },
    {
      "cell_type": "code",
      "execution_count": 29,
      "metadata": {
        "colab": {
          "base_uri": "https://localhost:8080/"
        },
        "id": "9umSA91stj7c",
        "outputId": "adc54732-de61-43b4-e964-05ca3b3865ff"
      },
      "outputs": [
        {
          "output_type": "stream",
          "name": "stdout",
          "text": [
            "[[5 2 3]\n",
            " [1 2 3]] 133146672752144\n",
            "[[5 2 3]\n",
            " [1 2 3]] 133146672746960\n"
          ]
        }
      ],
      "source": [
        "# your code goes here\n",
        "X = np.array([[5,2,3],[1,2,3]], dtype=int)\n",
        "print(X, id(X))\n",
        "# if copy then the id is stored in memory elsewhere\n",
        "Y = np.copy(X)\n",
        "print(Y, id(Y))"
      ]
    },
    {
      "cell_type": "code",
      "execution_count": 30,
      "metadata": {
        "cell_type": "solution",
        "colab": {
          "base_uri": "https://localhost:8080/"
        },
        "id": "sQXsLsF1tj7c",
        "outputId": "aac5b21c-819e-4263-de6c-456e6ca13af0"
      },
      "outputs": [
        {
          "output_type": "stream",
          "name": "stdout",
          "text": [
            "[5 2 3] 133146672749360\n",
            "[5 2 3] 133146672752144\n"
          ]
        }
      ],
      "source": [
        "X = np.array([5,2,3], dtype=int)\n",
        "print(X, id(X))\n",
        "\n",
        "Y = np.copy(X)\n",
        "print(Y, id(Y)) # different id"
      ]
    },
    {
      "cell_type": "markdown",
      "metadata": {
        "id": "C5hVHh2ntj7c"
      },
      "source": [
        "![green-divider](https://user-images.githubusercontent.com/7065401/52071924-c003ad80-2562-11e9-8297-1c6595f8a7ff.png)\n",
        "\n",
        "### Create a numpy array with numbers from 1 to 10"
      ]
    },
    {
      "cell_type": "code",
      "execution_count": 31,
      "metadata": {
        "colab": {
          "base_uri": "https://localhost:8080/"
        },
        "id": "WcEJLbUPtj7c",
        "outputId": "3ff9b506-16e5-4b44-d4fc-fa2e7ace390d"
      },
      "outputs": [
        {
          "output_type": "execute_result",
          "data": {
            "text/plain": [
              "array([ 1,  2,  3,  4,  5,  6,  7,  8,  9, 10])"
            ]
          },
          "metadata": {},
          "execution_count": 31
        }
      ],
      "source": [
        "# your code goes here\n",
        "np.arange(1,11)\n"
      ]
    },
    {
      "cell_type": "code",
      "execution_count": 32,
      "metadata": {
        "cell_type": "solution",
        "colab": {
          "base_uri": "https://localhost:8080/"
        },
        "id": "r3G6_-Sctj7d",
        "outputId": "2f30ad06-e886-4d9a-dbde-5abfc0fa6926"
      },
      "outputs": [
        {
          "output_type": "execute_result",
          "data": {
            "text/plain": [
              "array([ 1,  2,  3,  4,  5,  6,  7,  8,  9, 10])"
            ]
          },
          "metadata": {},
          "execution_count": 32
        }
      ],
      "source": [
        "np.arange(1, 11)"
      ]
    },
    {
      "cell_type": "markdown",
      "metadata": {
        "id": "_EUrkQE5tj7d"
      },
      "source": [
        "![green-divider](https://user-images.githubusercontent.com/7065401/52071924-c003ad80-2562-11e9-8297-1c6595f8a7ff.png)\n",
        "\n",
        "### Create a numpy array with the odd numbers between 1 to 10"
      ]
    },
    {
      "cell_type": "code",
      "execution_count": 33,
      "metadata": {
        "colab": {
          "base_uri": "https://localhost:8080/"
        },
        "id": "CwQ6M15Itj7d",
        "outputId": "d779b580-1900-478e-8186-e4313dab6dd2"
      },
      "outputs": [
        {
          "output_type": "execute_result",
          "data": {
            "text/plain": [
              "array([1, 3, 5, 7, 9])"
            ]
          },
          "metadata": {},
          "execution_count": 33
        }
      ],
      "source": [
        "# your code goes here\n",
        "np.arange(1, 11, 2)"
      ]
    },
    {
      "cell_type": "code",
      "execution_count": 34,
      "metadata": {
        "cell_type": "solution",
        "colab": {
          "base_uri": "https://localhost:8080/"
        },
        "id": "n3UT6jGmtj7d",
        "outputId": "1462b61a-ba89-4853-83ee-ffb40d15e82c"
      },
      "outputs": [
        {
          "output_type": "execute_result",
          "data": {
            "text/plain": [
              "array([1, 3, 5, 7, 9])"
            ]
          },
          "metadata": {},
          "execution_count": 34
        }
      ],
      "source": [
        "np.arange(1, 11, 2)"
      ]
    },
    {
      "cell_type": "markdown",
      "metadata": {
        "id": "o1PuKbC6tj7d"
      },
      "source": [
        "![green-divider](https://user-images.githubusercontent.com/7065401/52071924-c003ad80-2562-11e9-8297-1c6595f8a7ff.png)\n",
        "\n",
        "### Create a numpy array with numbers from 1 to 10, in descending order."
      ]
    },
    {
      "cell_type": "code",
      "execution_count": 35,
      "metadata": {
        "colab": {
          "base_uri": "https://localhost:8080/"
        },
        "id": "_nJeHQj3tj7e",
        "outputId": "241b84a0-91a3-4fd9-f6da-f239f479c970"
      },
      "outputs": [
        {
          "output_type": "execute_result",
          "data": {
            "text/plain": [
              "array([10,  9,  8,  7,  6,  5,  4,  3,  2,  1])"
            ]
          },
          "metadata": {},
          "execution_count": 35
        }
      ],
      "source": [
        "# your code goes here\n",
        "np.arange(1, 11)[::-1]\n"
      ]
    },
    {
      "cell_type": "code",
      "execution_count": 36,
      "metadata": {
        "cell_type": "solution",
        "colab": {
          "base_uri": "https://localhost:8080/"
        },
        "id": "Fe2cccDmtj7e",
        "outputId": "f9b8a923-1d99-4c60-e7fe-19a0b01e398c"
      },
      "outputs": [
        {
          "output_type": "execute_result",
          "data": {
            "text/plain": [
              "array([10,  9,  8,  7,  6,  5,  4,  3,  2,  1])"
            ]
          },
          "metadata": {},
          "execution_count": 36
        }
      ],
      "source": [
        "np.arange(1, 11)[::-1]"
      ]
    },
    {
      "cell_type": "markdown",
      "metadata": {
        "id": "o-KRHim8tj7e"
      },
      "source": [
        "![green-divider](https://user-images.githubusercontent.com/7065401/52071924-c003ad80-2562-11e9-8297-1c6595f8a7ff.png)\n",
        "\n",
        "### Create a 3*3 numpy matrix, filled with values ranging from 0 to 8"
      ]
    },
    {
      "cell_type": "code",
      "execution_count": 37,
      "metadata": {
        "colab": {
          "base_uri": "https://localhost:8080/"
        },
        "id": "JSu6AbURtj7f",
        "outputId": "2bcd131b-c65d-459b-fa9e-be1daa3f8587"
      },
      "outputs": [
        {
          "output_type": "execute_result",
          "data": {
            "text/plain": [
              "array([[0, 1, 2],\n",
              "       [3, 4, 5],\n",
              "       [6, 7, 8]])"
            ]
          },
          "metadata": {},
          "execution_count": 37
        }
      ],
      "source": [
        "# your code goes here\n",
        "np.arange(9).reshape(3,3)"
      ]
    },
    {
      "cell_type": "code",
      "execution_count": 38,
      "metadata": {
        "cell_type": "solution",
        "colab": {
          "base_uri": "https://localhost:8080/"
        },
        "id": "gitmKvsztj7f",
        "outputId": "2ca735ad-e9a3-4c1c-cb94-f3877fd025d6"
      },
      "outputs": [
        {
          "output_type": "execute_result",
          "data": {
            "text/plain": [
              "array([[0, 1, 2],\n",
              "       [3, 4, 5],\n",
              "       [6, 7, 8]])"
            ]
          },
          "metadata": {},
          "execution_count": 38
        }
      ],
      "source": [
        "\n",
        "np.arange(9).reshape(3,3)"
      ]
    },
    {
      "cell_type": "markdown",
      "metadata": {
        "id": "prsFlA8Wtj7f"
      },
      "source": [
        "![green-divider](https://user-images.githubusercontent.com/7065401/52071924-c003ad80-2562-11e9-8297-1c6595f8a7ff.png)\n",
        "\n",
        "### Show the memory size of the given Z numpy matrix"
      ]
    },
    {
      "cell_type": "code",
      "execution_count": 39,
      "metadata": {
        "colab": {
          "base_uri": "https://localhost:8080/"
        },
        "id": "KvVEoMbvtj7f",
        "outputId": "a63bc3df-c73e-4d06-f527-51fd49d9a586"
      },
      "outputs": [
        {
          "output_type": "stream",
          "name": "stdout",
          "text": [
            "800 bytes\n",
            "[[0. 0. 0. 0. 0. 0. 0. 0. 0. 0.]\n",
            " [0. 0. 0. 0. 0. 0. 0. 0. 0. 0.]\n",
            " [0. 0. 0. 0. 0. 0. 0. 0. 0. 0.]\n",
            " [0. 0. 0. 0. 0. 0. 0. 0. 0. 0.]\n",
            " [0. 0. 0. 0. 0. 0. 0. 0. 0. 0.]\n",
            " [0. 0. 0. 0. 0. 0. 0. 0. 0. 0.]\n",
            " [0. 0. 0. 0. 0. 0. 0. 0. 0. 0.]\n",
            " [0. 0. 0. 0. 0. 0. 0. 0. 0. 0.]\n",
            " [0. 0. 0. 0. 0. 0. 0. 0. 0. 0.]\n",
            " [0. 0. 0. 0. 0. 0. 0. 0. 0. 0.]]\n"
          ]
        }
      ],
      "source": [
        "# your code goes here\n",
        "Z = np.zeros((10,10))\n",
        "print(\"%d bytes\" % (Z.size * Z.itemsize))\n",
        "print(Z)"
      ]
    },
    {
      "cell_type": "code",
      "execution_count": 40,
      "metadata": {
        "cell_type": "solution",
        "scrolled": true,
        "colab": {
          "base_uri": "https://localhost:8080/"
        },
        "id": "hEJK5Lpqtj7g",
        "outputId": "9ffdcc25-836d-4f73-c426-8ea3519c1237"
      },
      "outputs": [
        {
          "output_type": "stream",
          "name": "stdout",
          "text": [
            "800 bytes\n"
          ]
        }
      ],
      "source": [
        "Z = np.zeros((10,10))\n",
        "\n",
        "print(\"%d bytes\" % (Z.size * Z.itemsize))"
      ]
    },
    {
      "cell_type": "markdown",
      "metadata": {
        "id": "iAYo1iZCtj7g"
      },
      "source": [
        "![purple-divider](https://user-images.githubusercontent.com/7065401/52071927-c1cd7100-2562-11e9-908a-dde91ba14e59.png)\n",
        "\n",
        "## Array indexation\n"
      ]
    },
    {
      "cell_type": "markdown",
      "metadata": {
        "id": "a7a9zwv4tj7g"
      },
      "source": [
        "### Given the X numpy array, show it's first element"
      ]
    },
    {
      "cell_type": "code",
      "execution_count": 41,
      "metadata": {
        "colab": {
          "base_uri": "https://localhost:8080/"
        },
        "id": "GWdNwBhxtj7g",
        "outputId": "7777f04b-feb6-4b63-f216-5ee026543624"
      },
      "outputs": [
        {
          "output_type": "execute_result",
          "data": {
            "text/plain": [
              "1"
            ]
          },
          "metadata": {},
          "execution_count": 41
        }
      ],
      "source": [
        "# your code goes here\n",
        "X = np.array([1,3,4,5,6,7,8])\n",
        "X[0]"
      ]
    },
    {
      "cell_type": "code",
      "execution_count": 42,
      "metadata": {
        "cell_type": "solution",
        "colab": {
          "base_uri": "https://localhost:8080/",
          "height": 35
        },
        "id": "gmHz8v3ktj7h",
        "outputId": "721feb82-8ff3-497d-8b79-316a9fe712a3"
      },
      "outputs": [
        {
          "output_type": "execute_result",
          "data": {
            "text/plain": [
              "'A'"
            ],
            "application/vnd.google.colaboratory.intrinsic+json": {
              "type": "string"
            }
          },
          "metadata": {},
          "execution_count": 42
        }
      ],
      "source": [
        "X = np.array(['A','B','C','D','E'])\n",
        "\n",
        "X[0]"
      ]
    },
    {
      "cell_type": "markdown",
      "metadata": {
        "id": "xIqnCl5mtj7h"
      },
      "source": [
        "![green-divider](https://user-images.githubusercontent.com/7065401/52071924-c003ad80-2562-11e9-8297-1c6595f8a7ff.png)\n",
        "\n",
        "### Given the X numpy array, show it's last element"
      ]
    },
    {
      "cell_type": "code",
      "execution_count": 43,
      "metadata": {
        "colab": {
          "base_uri": "https://localhost:8080/",
          "height": 35
        },
        "id": "VekUyK1mtj7h",
        "outputId": "49726b9e-cfc6-4c3c-ad68-03f7efe24646"
      },
      "outputs": [
        {
          "output_type": "execute_result",
          "data": {
            "text/plain": [
              "'E'"
            ],
            "application/vnd.google.colaboratory.intrinsic+json": {
              "type": "string"
            }
          },
          "metadata": {},
          "execution_count": 43
        }
      ],
      "source": [
        "X = np.array(['A','B','C','D','E'])\n",
        "\n",
        "X[-1]"
      ]
    },
    {
      "cell_type": "code",
      "execution_count": 44,
      "metadata": {
        "cell_type": "solution",
        "colab": {
          "base_uri": "https://localhost:8080/",
          "height": 35
        },
        "id": "8DL-iPBxtj7h",
        "outputId": "4353db29-701d-453a-9096-f9f81ac59f55"
      },
      "outputs": [
        {
          "output_type": "execute_result",
          "data": {
            "text/plain": [
              "'E'"
            ],
            "application/vnd.google.colaboratory.intrinsic+json": {
              "type": "string"
            }
          },
          "metadata": {},
          "execution_count": 44
        }
      ],
      "source": [
        "X = np.array(['A','B','C','D','E'])\n",
        "\n",
        "#X[len(X)-1]\n",
        "X[-1]"
      ]
    },
    {
      "cell_type": "markdown",
      "metadata": {
        "id": "LmXCEllEtj7i"
      },
      "source": [
        "![green-divider](https://user-images.githubusercontent.com/7065401/52071924-c003ad80-2562-11e9-8297-1c6595f8a7ff.png)\n",
        "\n",
        "### Given the X numpy array, show it's first three elements"
      ]
    },
    {
      "cell_type": "code",
      "execution_count": 45,
      "metadata": {
        "colab": {
          "base_uri": "https://localhost:8080/"
        },
        "id": "uwiA5GbDtj7i",
        "outputId": "0d0be985-6a03-4576-d075-7adc5e0e3433"
      },
      "outputs": [
        {
          "output_type": "execute_result",
          "data": {
            "text/plain": [
              "array(['A', 'B', 'C'], dtype='<U1')"
            ]
          },
          "metadata": {},
          "execution_count": 45
        }
      ],
      "source": [
        "X = np.array(['A','B','C','D','E'])\n",
        "X[:3]# your code goes here\n"
      ]
    },
    {
      "cell_type": "code",
      "execution_count": 46,
      "metadata": {
        "cell_type": "solution",
        "colab": {
          "base_uri": "https://localhost:8080/"
        },
        "id": "wbZZEAs_tj7i",
        "outputId": "21778f56-52a3-48ae-de2b-390b10cc49fa"
      },
      "outputs": [
        {
          "output_type": "execute_result",
          "data": {
            "text/plain": [
              "array(['A', 'B', 'C'], dtype='<U1')"
            ]
          },
          "metadata": {},
          "execution_count": 46
        }
      ],
      "source": [
        "X = np.array(['A','B','C','D','E'])\n",
        "\n",
        "X[0:3] # remember! elements start at zero index"
      ]
    },
    {
      "cell_type": "markdown",
      "metadata": {
        "id": "-EZ8v__qtj7i"
      },
      "source": [
        "![green-divider](https://user-images.githubusercontent.com/7065401/52071924-c003ad80-2562-11e9-8297-1c6595f8a7ff.png)\n",
        "\n",
        "### Given the X numpy array, show all middle elements"
      ]
    },
    {
      "cell_type": "code",
      "execution_count": 47,
      "metadata": {
        "id": "fk3VvuTNtj7j"
      },
      "outputs": [],
      "source": [
        "# your code goes here\n",
        "X = np.array(['A','B','C','D','E'])"
      ]
    },
    {
      "cell_type": "code",
      "execution_count": 48,
      "metadata": {
        "cell_type": "solution",
        "colab": {
          "base_uri": "https://localhost:8080/"
        },
        "id": "s0wb7XLNtj7j",
        "outputId": "aef06aa8-787c-492b-d4a4-33389ea436d8"
      },
      "outputs": [
        {
          "output_type": "execute_result",
          "data": {
            "text/plain": [
              "array(['B', 'C', 'D'], dtype='<U1')"
            ]
          },
          "metadata": {},
          "execution_count": 48
        }
      ],
      "source": [
        "X = np.array(['A','B','C','D','E'])\n",
        "\n",
        "X[1:-1]"
      ]
    },
    {
      "cell_type": "markdown",
      "metadata": {
        "id": "3BeGCd7ntj7j"
      },
      "source": [
        "![green-divider](https://user-images.githubusercontent.com/7065401/52071924-c003ad80-2562-11e9-8297-1c6595f8a7ff.png)\n",
        "\n",
        "### Given the X numpy array, show the elements in reverse position"
      ]
    },
    {
      "cell_type": "code",
      "execution_count": 49,
      "metadata": {
        "id": "Oz5rX3wFtj7k"
      },
      "outputs": [],
      "source": [
        "# your code goes here\n"
      ]
    },
    {
      "cell_type": "code",
      "execution_count": 50,
      "metadata": {
        "cell_type": "solution",
        "colab": {
          "base_uri": "https://localhost:8080/"
        },
        "id": "e3mWUiYEtj7k",
        "outputId": "e3670a36-2b8c-4c9f-8d80-4ef120959a17"
      },
      "outputs": [
        {
          "output_type": "execute_result",
          "data": {
            "text/plain": [
              "array(['E', 'D', 'C', 'B', 'A'], dtype='<U1')"
            ]
          },
          "metadata": {},
          "execution_count": 50
        }
      ],
      "source": [
        "X = np.array(['A','B','C','D','E'])\n",
        "\n",
        "X[::-1]"
      ]
    },
    {
      "cell_type": "markdown",
      "metadata": {
        "id": "GDB8CUebtj7k"
      },
      "source": [
        "![green-divider](https://user-images.githubusercontent.com/7065401/52071924-c003ad80-2562-11e9-8297-1c6595f8a7ff.png)\n",
        "\n",
        "### Given the X numpy array, show the elements in an odd position"
      ]
    },
    {
      "cell_type": "code",
      "execution_count": 51,
      "metadata": {
        "id": "_ku6t4Bmtj7k"
      },
      "outputs": [],
      "source": [
        "# your code goes here\n"
      ]
    },
    {
      "cell_type": "code",
      "execution_count": 52,
      "metadata": {
        "cell_type": "solution",
        "colab": {
          "base_uri": "https://localhost:8080/"
        },
        "id": "fB8E9y9ttj7l",
        "outputId": "66454fa6-0bfa-4b8d-f70e-ffb111e4c2e9"
      },
      "outputs": [
        {
          "output_type": "execute_result",
          "data": {
            "text/plain": [
              "array(['A', 'C', 'E'], dtype='<U1')"
            ]
          },
          "metadata": {},
          "execution_count": 52
        }
      ],
      "source": [
        "X = np.array(['A','B','C','D','E'])\n",
        "\n",
        "#X[[0, 2, -1]]\n",
        "X[::2]"
      ]
    },
    {
      "cell_type": "markdown",
      "metadata": {
        "id": "07wmNEUItj7l"
      },
      "source": [
        "![green-divider](https://user-images.githubusercontent.com/7065401/52071924-c003ad80-2562-11e9-8297-1c6595f8a7ff.png)\n",
        "\n",
        "### Given the X numpy matrix, show the first row elements"
      ]
    },
    {
      "cell_type": "code",
      "execution_count": 53,
      "metadata": {
        "colab": {
          "base_uri": "https://localhost:8080/"
        },
        "id": "_VFeWf-atj7l",
        "outputId": "f364d2e1-d9ae-487d-95d6-6ef38857e684"
      },
      "outputs": [
        {
          "output_type": "execute_result",
          "data": {
            "text/plain": [
              "array([1, 2, 3, 4])"
            ]
          },
          "metadata": {},
          "execution_count": 53
        }
      ],
      "source": [
        "# your code goes here\n",
        "X = np.array([\n",
        "    [1,   2,  3,  4],\n",
        "    [5,   6,  7,  8],\n",
        "    [9,  10, 11, 12],\n",
        "    [13, 14, 15, 16]\n",
        "])\n",
        "X[0]"
      ]
    },
    {
      "cell_type": "code",
      "execution_count": 54,
      "metadata": {
        "cell_type": "solution",
        "colab": {
          "base_uri": "https://localhost:8080/"
        },
        "id": "fL2HxtyKtj7l",
        "outputId": "9452a0c2-6b37-4575-8acc-87d2fbaa5eac"
      },
      "outputs": [
        {
          "output_type": "execute_result",
          "data": {
            "text/plain": [
              "array([1, 2, 3, 4])"
            ]
          },
          "metadata": {},
          "execution_count": 54
        }
      ],
      "source": [
        "X = np.array([\n",
        "    [1,   2,  3,  4],\n",
        "    [5,   6,  7,  8],\n",
        "    [9,  10, 11, 12],\n",
        "    [13, 14, 15, 16]\n",
        "])\n",
        "\n",
        "X[0]"
      ]
    },
    {
      "cell_type": "markdown",
      "metadata": {
        "id": "3vQAEDE1tj7m"
      },
      "source": [
        "![green-divider](https://user-images.githubusercontent.com/7065401/52071924-c003ad80-2562-11e9-8297-1c6595f8a7ff.png)\n",
        "\n",
        "### Given the X numpy matrix, show the last row elements"
      ]
    },
    {
      "cell_type": "code",
      "execution_count": 55,
      "metadata": {
        "id": "GbQiAkBmtj7m"
      },
      "outputs": [],
      "source": [
        "# your code goes here\n"
      ]
    },
    {
      "cell_type": "code",
      "execution_count": 56,
      "metadata": {
        "cell_type": "solution",
        "colab": {
          "base_uri": "https://localhost:8080/"
        },
        "id": "4-ViSbfrtj7m",
        "outputId": "8b1eaeff-f1dc-4e7a-b663-f2ddac14eb85"
      },
      "outputs": [
        {
          "output_type": "execute_result",
          "data": {
            "text/plain": [
              "array([13, 14, 15, 16])"
            ]
          },
          "metadata": {},
          "execution_count": 56
        }
      ],
      "source": [
        "# get the last element in array X\n",
        "X = np.array([\n",
        "    [1,   2,  3,  4],\n",
        "    [5,   6,  7,  8],\n",
        "    [9,  10, 11, 12],\n",
        "    [13, 14, 15, 16]\n",
        "])\n",
        "\n",
        "X[-1]"
      ]
    },
    {
      "cell_type": "markdown",
      "metadata": {
        "id": "VeUvWIgBtj7m"
      },
      "source": [
        "![green-divider](https://user-images.githubusercontent.com/7065401/52071924-c003ad80-2562-11e9-8297-1c6595f8a7ff.png)\n",
        "\n",
        "### Given the X numpy matrix, show the first element on first row"
      ]
    },
    {
      "cell_type": "code",
      "execution_count": 93,
      "metadata": {
        "colab": {
          "base_uri": "https://localhost:8080/"
        },
        "id": "xFZQ8cT5tj7n",
        "outputId": "f76da4b4-c6a9-4ae9-82cf-878a0648db11"
      },
      "outputs": [
        {
          "output_type": "execute_result",
          "data": {
            "text/plain": [
              "2"
            ]
          },
          "metadata": {},
          "execution_count": 93
        }
      ],
      "source": [
        "# your code goes here\n",
        "X = np.array([\n",
        "    [1,   2,  3,  4],\n",
        "    [5,   6,  7,  8],\n",
        "    [9,  10, 11, 12],\n",
        "    [13, 14, 15, 16]\n",
        "])\n",
        "\n",
        "X[0][1]"
      ]
    },
    {
      "cell_type": "code",
      "execution_count": 58,
      "metadata": {
        "cell_type": "solution",
        "colab": {
          "base_uri": "https://localhost:8080/"
        },
        "id": "kDQqbTC6tj7n",
        "outputId": "282b07cb-76d6-4853-9226-c082a6572e7d"
      },
      "outputs": [
        {
          "output_type": "execute_result",
          "data": {
            "text/plain": [
              "1"
            ]
          },
          "metadata": {},
          "execution_count": 58
        }
      ],
      "source": [
        "X = np.array([\n",
        "    [1,   2,  3,  4],\n",
        "    [5,   6,  7,  8],\n",
        "    [9,  10, 11, 12],\n",
        "    [13, 14, 15, 16]\n",
        "])\n",
        "\n",
        "#X[0][0]\n",
        "X[0, 0]"
      ]
    },
    {
      "cell_type": "markdown",
      "metadata": {
        "id": "XYsLKf-otj7n"
      },
      "source": [
        "![green-divider](https://user-images.githubusercontent.com/7065401/52071924-c003ad80-2562-11e9-8297-1c6595f8a7ff.png)\n",
        "\n",
        "### Given the X numpy matrix, show the last element on last row"
      ]
    },
    {
      "cell_type": "code",
      "execution_count": 59,
      "metadata": {
        "id": "VibJZ61Ftj7n"
      },
      "outputs": [],
      "source": [
        "# your code goes here\n"
      ]
    },
    {
      "cell_type": "code",
      "execution_count": 60,
      "metadata": {
        "cell_type": "solution",
        "colab": {
          "base_uri": "https://localhost:8080/"
        },
        "id": "NTuePLxetj7o",
        "outputId": "74b7a800-807a-445f-922e-2b5f8d34f2b0"
      },
      "outputs": [
        {
          "output_type": "execute_result",
          "data": {
            "text/plain": [
              "16"
            ]
          },
          "metadata": {},
          "execution_count": 60
        }
      ],
      "source": [
        "X = np.array([\n",
        "    [1,   2,  3,  4],\n",
        "    [5,   6,  7,  8],\n",
        "    [9,  10, 11, 12],\n",
        "    [13, 14, 15, 16]\n",
        "])\n",
        "\n",
        "#X[-1][-1]\n",
        "X[-1, -1]"
      ]
    },
    {
      "cell_type": "markdown",
      "metadata": {
        "id": "wY6aOFz0tj7o"
      },
      "source": [
        "![green-divider](https://user-images.githubusercontent.com/7065401/52071924-c003ad80-2562-11e9-8297-1c6595f8a7ff.png)\n",
        "\n",
        "### Given the X numpy matrix, show the middle row elements"
      ]
    },
    {
      "cell_type": "code",
      "execution_count": 61,
      "metadata": {
        "id": "2TnvIhR1tj7o"
      },
      "outputs": [],
      "source": [
        "# your code goes here\n"
      ]
    },
    {
      "cell_type": "code",
      "execution_count": 62,
      "metadata": {
        "cell_type": "solution",
        "colab": {
          "base_uri": "https://localhost:8080/"
        },
        "id": "ofLwK8Aatj7o",
        "outputId": "265e8664-9da4-4f3f-ca84-90a14bc61c11"
      },
      "outputs": [
        {
          "output_type": "execute_result",
          "data": {
            "text/plain": [
              "array([[ 6,  7],\n",
              "       [10, 11]])"
            ]
          },
          "metadata": {},
          "execution_count": 62
        }
      ],
      "source": [
        "X = np.array([\n",
        "    [1,   2,  3,  4],\n",
        "    [5,   6,  7,  8],\n",
        "    [9,  10, 11, 12],\n",
        "    [13, 14, 15, 16]\n",
        "])\n",
        "\n",
        "#X[1:-1][1:-1] wrong!\n",
        "X[1:-1, 1:-1]"
      ]
    },
    {
      "cell_type": "markdown",
      "metadata": {
        "id": "vw7qSyMetj7p"
      },
      "source": [
        "![green-divider](https://user-images.githubusercontent.com/7065401/52071924-c003ad80-2562-11e9-8297-1c6595f8a7ff.png)\n",
        "\n",
        "### Given the X numpy matrix, show the first two elements on the first two rows"
      ]
    },
    {
      "cell_type": "code",
      "execution_count": 63,
      "metadata": {
        "id": "6WXIgtw2tj7p"
      },
      "outputs": [],
      "source": [
        "# your code goes here\n"
      ]
    },
    {
      "cell_type": "code",
      "execution_count": 64,
      "metadata": {
        "cell_type": "solution",
        "colab": {
          "base_uri": "https://localhost:8080/"
        },
        "id": "Av27FpBVtj7p",
        "outputId": "c98d7c3d-fb0b-4d06-af4f-57a69cdd8ce1"
      },
      "outputs": [
        {
          "output_type": "execute_result",
          "data": {
            "text/plain": [
              "array([[1, 2],\n",
              "       [5, 6]])"
            ]
          },
          "metadata": {},
          "execution_count": 64
        }
      ],
      "source": [
        "X = np.array([\n",
        "    [1,   2,  3,  4],\n",
        "    [5,   6,  7,  8],\n",
        "    [9,  10, 11, 12],\n",
        "    [13, 14, 15, 16]\n",
        "])\n",
        "\n",
        "#X[:2][:2] wrong!\n",
        "#X[0:2, 0:2]\n",
        "X[:2, :2]"
      ]
    },
    {
      "cell_type": "markdown",
      "metadata": {
        "id": "7y_CKRwytj7p"
      },
      "source": [
        "![green-divider](https://user-images.githubusercontent.com/7065401/52071924-c003ad80-2562-11e9-8297-1c6595f8a7ff.png)\n",
        "\n",
        "### Given the X numpy matrix, show the last two elements on the last two rows"
      ]
    },
    {
      "cell_type": "code",
      "execution_count": 77,
      "metadata": {
        "colab": {
          "base_uri": "https://localhost:8080/"
        },
        "id": "R1N4SZi8tj7q",
        "outputId": "96d09a21-8fff-4c1f-f78d-b2183f5ae231"
      },
      "outputs": [
        {
          "output_type": "execute_result",
          "data": {
            "text/plain": [
              "array([[11, 12],\n",
              "       [15, 16]])"
            ]
          },
          "metadata": {},
          "execution_count": 77
        }
      ],
      "source": [
        "# your code goes here\n",
        "X = np.array([\n",
        "    [1,   2,  3,  4],\n",
        "    [5,   6,  7,  8],\n",
        "    [9,  10, 11, 12],\n",
        "    [13, 14, 15, 16]\n",
        "])\n",
        "\n",
        "X[2:, 2:]"
      ]
    },
    {
      "cell_type": "code",
      "execution_count": 66,
      "metadata": {
        "cell_type": "solution",
        "colab": {
          "base_uri": "https://localhost:8080/"
        },
        "id": "GudgUuy_tj7q",
        "outputId": "9bb8f1a9-e557-4e71-9c33-e1e61cfd4ab1"
      },
      "outputs": [
        {
          "output_type": "execute_result",
          "data": {
            "text/plain": [
              "array([[11, 12],\n",
              "       [15, 16]])"
            ]
          },
          "metadata": {},
          "execution_count": 66
        }
      ],
      "source": [
        "X = np.array([\n",
        "    [1,   2,  3,  4],\n",
        "    [5,   6,  7,  8],\n",
        "    [9,  10, 11, 12],\n",
        "    [13, 14, 15, 16]\n",
        "])\n",
        "\n",
        "X[2:, 2:]"
      ]
    },
    {
      "cell_type": "markdown",
      "metadata": {
        "id": "z_-w3m3Otj7q"
      },
      "source": [
        "![purple-divider](https://user-images.githubusercontent.com/7065401/52071927-c1cd7100-2562-11e9-908a-dde91ba14e59.png)\n",
        "\n",
        "## Array manipulation\n"
      ]
    },
    {
      "cell_type": "markdown",
      "metadata": {
        "id": "UgeNbMrytj7q"
      },
      "source": [
        "### Convert the given integer numpy array to float"
      ]
    },
    {
      "cell_type": "code",
      "execution_count": 79,
      "metadata": {
        "id": "7UXV7kAktj7r"
      },
      "outputs": [],
      "source": [
        "# your code goes here\n",
        "X = [-5, -3, 0, 10, 40]"
      ]
    },
    {
      "cell_type": "code",
      "execution_count": 80,
      "metadata": {
        "cell_type": "solution",
        "colab": {
          "base_uri": "https://localhost:8080/"
        },
        "id": "VSsisesKtj7r",
        "outputId": "8fdfc274-96aa-43f3-a7a6-c862caa82d9a"
      },
      "outputs": [
        {
          "output_type": "execute_result",
          "data": {
            "text/plain": [
              "array([-5, -3,  0, 10, 40])"
            ]
          },
          "metadata": {},
          "execution_count": 80
        }
      ],
      "source": [
        "X = [-5, -3, 0, 10, 40]\n",
        "\n",
        "np.array(X, dtype = np.int64)"
      ]
    },
    {
      "cell_type": "markdown",
      "metadata": {
        "id": "U3GH9LMjtj7r"
      },
      "source": [
        "![green-divider](https://user-images.githubusercontent.com/7065401/52071924-c003ad80-2562-11e9-8297-1c6595f8a7ff.png)\n",
        "\n",
        "### Reverse the given numpy array (first element becomes last)"
      ]
    },
    {
      "cell_type": "code",
      "execution_count": 94,
      "metadata": {
        "colab": {
          "base_uri": "https://localhost:8080/"
        },
        "id": "R09SqssTtj7r",
        "outputId": "54c1b0f5-729a-4166-a60e-bcaf2e5f0384"
      },
      "outputs": [
        {
          "output_type": "execute_result",
          "data": {
            "text/plain": [
              "[40, 10, 0, -3, -5]"
            ]
          },
          "metadata": {},
          "execution_count": 94
        }
      ],
      "source": [
        "# your code goes here\n",
        "X = [-5, -3, 0, 10, 40]\n",
        "X[::-1]"
      ]
    },
    {
      "cell_type": "code",
      "execution_count": null,
      "metadata": {
        "cell_type": "solution",
        "id": "gcD8QRPNtj7s"
      },
      "outputs": [],
      "source": [
        "X = [-5, -3, 0, 10, 40]\n",
        "\n",
        "X[::-1]"
      ]
    },
    {
      "cell_type": "markdown",
      "metadata": {
        "id": "qZnOzydKtj7s"
      },
      "source": [
        "![green-divider](https://user-images.githubusercontent.com/7065401/52071924-c003ad80-2562-11e9-8297-1c6595f8a7ff.png)\n",
        "\n",
        "### Order (sort) the given numpy array"
      ]
    },
    {
      "cell_type": "code",
      "execution_count": 97,
      "metadata": {
        "colab": {
          "base_uri": "https://localhost:8080/"
        },
        "id": "aVQ343GPtj7s",
        "outputId": "de229a3b-5903-49c5-e055-846be9072d76"
      },
      "outputs": [
        {
          "output_type": "execute_result",
          "data": {
            "text/plain": [
              "[-5, -3, 0, 10, 40]"
            ]
          },
          "metadata": {},
          "execution_count": 97
        }
      ],
      "source": [
        "# your code goes here\n",
        "X = [0 , 10, -5, 40, -3]\n",
        "X.sort()\n",
        "X\n"
      ]
    },
    {
      "cell_type": "code",
      "execution_count": null,
      "metadata": {
        "cell_type": "solution",
        "id": "8Hf6p1Udtj7s"
      },
      "outputs": [],
      "source": [
        "X = [0, 10, -5, 40, -3]\n",
        "\n",
        "X.sort()\n",
        "X"
      ]
    },
    {
      "cell_type": "markdown",
      "metadata": {
        "id": "wmBwLlQVtj7t"
      },
      "source": [
        "![green-divider](https://user-images.githubusercontent.com/7065401/52071924-c003ad80-2562-11e9-8297-1c6595f8a7ff.png)\n",
        "\n",
        "### Given the X numpy array, set the fifth element equal to 1"
      ]
    },
    {
      "cell_type": "code",
      "execution_count": null,
      "metadata": {
        "id": "d71jtYm_tj7t"
      },
      "outputs": [],
      "source": [
        "# your code goes here\n"
      ]
    },
    {
      "cell_type": "code",
      "execution_count": 82,
      "metadata": {
        "cell_type": "solution",
        "colab": {
          "base_uri": "https://localhost:8080/"
        },
        "id": "NqjE_MOGtj7t",
        "outputId": "12247254-e234-4087-feae-c78872484a5a"
      },
      "outputs": [
        {
          "output_type": "execute_result",
          "data": {
            "text/plain": [
              "array([0., 0., 0., 0., 1., 0., 0., 0., 0., 0.])"
            ]
          },
          "metadata": {},
          "execution_count": 82
        }
      ],
      "source": [
        "X = np.zeros(10)\n",
        "\n",
        "X[4] = 1\n",
        "X"
      ]
    },
    {
      "cell_type": "markdown",
      "metadata": {
        "id": "PfDdZRO1tj7t"
      },
      "source": [
        "![green-divider](https://user-images.githubusercontent.com/7065401/52071924-c003ad80-2562-11e9-8297-1c6595f8a7ff.png)\n",
        "\n",
        "### Given the X numpy array, change the 50 with a 40"
      ]
    },
    {
      "cell_type": "code",
      "execution_count": null,
      "metadata": {
        "id": "9ndCM6s6tj7t"
      },
      "outputs": [],
      "source": [
        "# your code goes here\n"
      ]
    },
    {
      "cell_type": "code",
      "execution_count": null,
      "metadata": {
        "cell_type": "solution",
        "id": "9vB2oaQqtj7u"
      },
      "outputs": [],
      "source": [
        "X = np.array([10, 20, 30, 50])\n",
        "\n",
        "X[3] = 40\n",
        "X"
      ]
    },
    {
      "cell_type": "markdown",
      "metadata": {
        "id": "u9V79aCDtj7u"
      },
      "source": [
        "![green-divider](https://user-images.githubusercontent.com/7065401/52071924-c003ad80-2562-11e9-8297-1c6595f8a7ff.png)\n",
        "\n",
        "### Given the X numpy matrix, change the last row with all 1"
      ]
    },
    {
      "cell_type": "code",
      "execution_count": null,
      "metadata": {
        "id": "HXCT00Lbtj7u"
      },
      "outputs": [],
      "source": [
        "# your code goes here\n"
      ]
    },
    {
      "cell_type": "code",
      "execution_count": 81,
      "metadata": {
        "cell_type": "solution",
        "colab": {
          "base_uri": "https://localhost:8080/"
        },
        "id": "hA6j9z5Htj7u",
        "outputId": "36ad1df9-76de-4d5b-bf65-d0881d1155b0"
      },
      "outputs": [
        {
          "output_type": "execute_result",
          "data": {
            "text/plain": [
              "array([[ 1,  2,  3,  4],\n",
              "       [ 5,  6,  7,  8],\n",
              "       [ 9, 10, 11, 12],\n",
              "       [ 1,  1,  1,  1]])"
            ]
          },
          "metadata": {},
          "execution_count": 81
        }
      ],
      "source": [
        "X = np.array([\n",
        "    [1,   2,  3,  4],\n",
        "    [5,   6,  7,  8],\n",
        "    [9,  10, 11, 12],\n",
        "    [13, 14, 15, 16]\n",
        "])\n",
        "\n",
        "X[-1] = np.array([1, 1, 1, 1])\n",
        "X"
      ]
    },
    {
      "cell_type": "markdown",
      "metadata": {
        "id": "uSxiG4C7tj7v"
      },
      "source": [
        "![green-divider](https://user-images.githubusercontent.com/7065401/52071924-c003ad80-2562-11e9-8297-1c6595f8a7ff.png)\n",
        "\n",
        "### Given the X numpy matrix, change the last item on the last row with a 0"
      ]
    },
    {
      "cell_type": "code",
      "execution_count": 76,
      "metadata": {
        "colab": {
          "base_uri": "https://localhost:8080/"
        },
        "id": "lTKAuVt8tj7v",
        "outputId": "9817ba04-535b-4a5e-f2d2-b2366304e166"
      },
      "outputs": [
        {
          "output_type": "execute_result",
          "data": {
            "text/plain": [
              "array([[ 1,  2,  3,  4],\n",
              "       [ 5,  6,  7,  8],\n",
              "       [ 9, 10, 11, 12],\n",
              "       [13, 14,  0, 16]])"
            ]
          },
          "metadata": {},
          "execution_count": 76
        }
      ],
      "source": [
        "# your code goes here\n",
        "X = np.array([\n",
        "    [1,   2,  3,  4],\n",
        "    [5,   6,  7,  8],\n",
        "    [9,  10, 11, 12],\n",
        "    [13, 14, 15, 16]\n",
        "])\n",
        "X[-1, -1] = 0\n",
        "X"
      ]
    },
    {
      "cell_type": "code",
      "execution_count": null,
      "metadata": {
        "cell_type": "solution",
        "id": "-9bdhiWmtj7v"
      },
      "outputs": [],
      "source": [
        "X = np.array([\n",
        "    [1,   2,  3,  4],\n",
        "    [5,   6,  7,  8],\n",
        "    [9,  10, 11, 12],\n",
        "    [13, 14, 15, 16]\n",
        "])\n",
        "\n",
        "X[-1, -1] = 0\n",
        "X"
      ]
    },
    {
      "cell_type": "markdown",
      "metadata": {
        "id": "CY41IY8btj7v"
      },
      "source": [
        "![green-divider](https://user-images.githubusercontent.com/7065401/52071924-c003ad80-2562-11e9-8297-1c6595f8a7ff.png)\n",
        "\n",
        "### Given the X numpy matrix, add 5 to every element"
      ]
    },
    {
      "cell_type": "code",
      "execution_count": 85,
      "metadata": {
        "colab": {
          "base_uri": "https://localhost:8080/"
        },
        "id": "6AwbHgNGtj7w",
        "outputId": "90741be1-1bc3-46bf-e3ed-eeec44227e3a"
      },
      "outputs": [
        {
          "output_type": "execute_result",
          "data": {
            "text/plain": [
              "array([[ 6,  7,  8,  9],\n",
              "       [10, 11, 12, 13],\n",
              "       [14, 15, 16, 17],\n",
              "       [18, 19, 20, 21]])"
            ]
          },
          "metadata": {},
          "execution_count": 85
        }
      ],
      "source": [
        "# your code goes here\n",
        "X = np.array([\n",
        "    [1,   2,  3,  4],\n",
        "    [5,   6,  7,  8],\n",
        "    [9,  10, 11, 12],\n",
        "    [13, 14, 15, 16]\n",
        "])\n",
        "\n",
        "X += 5\n",
        "X"
      ]
    },
    {
      "cell_type": "code",
      "execution_count": null,
      "metadata": {
        "cell_type": "solution",
        "id": "CHlgGdK-tj7w"
      },
      "outputs": [],
      "source": [
        "X = np.array([\n",
        "    [1,   2,  3,  4],\n",
        "    [5,   6,  7,  8],\n",
        "    [9,  10, 11, 12],\n",
        "    [13, 14, 15, 16]\n",
        "])\n",
        "\n",
        "X + 5"
      ]
    },
    {
      "cell_type": "markdown",
      "metadata": {
        "id": "47fG9xUBtj7w"
      },
      "source": [
        "![purple-divider](https://user-images.githubusercontent.com/7065401/52071927-c1cd7100-2562-11e9-908a-dde91ba14e59.png)\n",
        "\n",
        "## Boolean arrays _(also called masks)_\n"
      ]
    },
    {
      "cell_type": "markdown",
      "metadata": {
        "id": "Q9Cg6r10tj7w"
      },
      "source": [
        "### Given the X numpy array, make a mask showing negative elements"
      ]
    },
    {
      "cell_type": "code",
      "execution_count": 86,
      "metadata": {
        "colab": {
          "base_uri": "https://localhost:8080/"
        },
        "id": "nftzpymytj7x",
        "outputId": "1faf658e-9df2-4552-9589-f5e34ed28697"
      },
      "outputs": [
        {
          "output_type": "execute_result",
          "data": {
            "text/plain": [
              "array([ True, False,  True,  True, False, False,  True,  True,  True,\n",
              "       False])"
            ]
          },
          "metadata": {},
          "execution_count": 86
        }
      ],
      "source": [
        "# your code goes here\n",
        "X = np.array([-1,2,0,-4,5,6,0,0,-9,10])\n",
        "# if the value of x is less than or  0 then return true\n",
        "mask = X <= 0\n",
        "mask"
      ]
    },
    {
      "cell_type": "code",
      "execution_count": 87,
      "metadata": {
        "cell_type": "solution",
        "colab": {
          "base_uri": "https://localhost:8080/"
        },
        "id": "mfuFB3WHtj7x",
        "outputId": "00374f4e-8dd6-4f77-dfc0-fc844f06a9f6"
      },
      "outputs": [
        {
          "output_type": "execute_result",
          "data": {
            "text/plain": [
              "array([ True, False,  True,  True, False, False,  True,  True,  True,\n",
              "       False])"
            ]
          },
          "metadata": {},
          "execution_count": 87
        }
      ],
      "source": [
        "X = np.array([-1,2,0,-4,5,6,0,0,-9,10])\n",
        "\n",
        "mask = X <= 0\n",
        "mask"
      ]
    },
    {
      "cell_type": "markdown",
      "metadata": {
        "id": "XwAtiAEFtj7x"
      },
      "source": [
        "![green-divider](https://user-images.githubusercontent.com/7065401/52071924-c003ad80-2562-11e9-8297-1c6595f8a7ff.png)\n",
        "\n",
        "### Given the X numpy array, get the negative elements"
      ]
    },
    {
      "cell_type": "code",
      "execution_count": 89,
      "metadata": {
        "colab": {
          "base_uri": "https://localhost:8080/"
        },
        "id": "6U5dovGftj7x",
        "outputId": "1db299a2-ee3e-47db-820a-0c938f843504"
      },
      "outputs": [
        {
          "output_type": "execute_result",
          "data": {
            "text/plain": [
              "array([-1, -4, -9])"
            ]
          },
          "metadata": {},
          "execution_count": 89
        }
      ],
      "source": [
        "# your code goes here\n",
        "X = np.array([-1, 2, 0, -4, 5, 6, 0, 0, -9, 10])\n",
        "# Mask  X is less than 0\n",
        "mask = X < 0\n",
        "X[mask]"
      ]
    },
    {
      "cell_type": "code",
      "execution_count": 90,
      "metadata": {
        "cell_type": "solution",
        "colab": {
          "base_uri": "https://localhost:8080/"
        },
        "id": "0t2ZW6cFtj7y",
        "outputId": "08956fa9-408d-4d1b-9bf2-3308e83c915f"
      },
      "outputs": [
        {
          "output_type": "execute_result",
          "data": {
            "text/plain": [
              "array([-1,  0, -4,  0,  0, -9])"
            ]
          },
          "metadata": {},
          "execution_count": 90
        }
      ],
      "source": [
        "X = np.array([-1, 2, 0, -4, 5, 6, 0, 0, -9, 10])\n",
        "\n",
        "mask = X <= 0\n",
        "X[mask]"
      ]
    },
    {
      "cell_type": "markdown",
      "metadata": {
        "id": "LWFG29x9tj7y"
      },
      "source": [
        "![green-divider](https://user-images.githubusercontent.com/7065401/52071924-c003ad80-2562-11e9-8297-1c6595f8a7ff.png)\n",
        "\n",
        "### Given the X numpy array, get numbers higher than 5"
      ]
    },
    {
      "cell_type": "code",
      "execution_count": 100,
      "metadata": {
        "colab": {
          "base_uri": "https://localhost:8080/"
        },
        "id": "JIXjDqFNtj7y",
        "outputId": "746b98ed-9f20-41f8-d60f-8f1fe774fa37"
      },
      "outputs": [
        {
          "output_type": "execute_result",
          "data": {
            "text/plain": [
              "array([ 6, 10])"
            ]
          },
          "metadata": {},
          "execution_count": 100
        }
      ],
      "source": [
        "# your code goes here\n",
        "X = np.array([-1,2,0,-4,5,6,0,0,-9,10])\n",
        "mask = X > 5\n",
        "X[mask]"
      ]
    },
    {
      "cell_type": "code",
      "execution_count": 99,
      "metadata": {
        "cell_type": "solution",
        "colab": {
          "base_uri": "https://localhost:8080/"
        },
        "id": "Z_F6G0n2tj7z",
        "outputId": "ef83ab8d-2aac-4acd-bfd1-a79d91ae4fd1"
      },
      "outputs": [
        {
          "output_type": "execute_result",
          "data": {
            "text/plain": [
              "array([ 6, 10])"
            ]
          },
          "metadata": {},
          "execution_count": 99
        }
      ],
      "source": [
        "X = np.array([-1, 2, 0, -4, 5, 6, 0, 0, -9, 10])\n",
        "\n",
        "mask = X > 5\n",
        "X[mask]"
      ]
    },
    {
      "cell_type": "markdown",
      "metadata": {
        "id": "eGALBTuttj7z"
      },
      "source": [
        "![green-divider](https://user-images.githubusercontent.com/7065401/52071924-c003ad80-2562-11e9-8297-1c6595f8a7ff.png)\n",
        "\n",
        "### Given the X numpy array, get numbers higher than the elements mean"
      ]
    },
    {
      "cell_type": "code",
      "execution_count": 103,
      "metadata": {
        "colab": {
          "base_uri": "https://localhost:8080/"
        },
        "id": "EXjAqm_vtj7z",
        "outputId": "b0beb68a-288c-478c-fea2-cc629da5be4d"
      },
      "outputs": [
        {
          "output_type": "stream",
          "name": "stdout",
          "text": [
            "0.9\n"
          ]
        },
        {
          "output_type": "execute_result",
          "data": {
            "text/plain": [
              "array([ 2,  5,  6, 10])"
            ]
          },
          "metadata": {},
          "execution_count": 103
        }
      ],
      "source": [
        "# your code goes here\n",
        "X = np.array([-1,2,0,-4,5,6,0,0,-9,10])\n",
        "\n",
        "mask = X > X.mean()\n",
        "print(X.mean())\n",
        "X[mask]"
      ]
    },
    {
      "cell_type": "code",
      "execution_count": 102,
      "metadata": {
        "cell_type": "solution",
        "colab": {
          "base_uri": "https://localhost:8080/"
        },
        "id": "F0NiBpBwtj7z",
        "outputId": "7f220fca-8e8e-4b97-ca6c-f6b3ad06ca86"
      },
      "outputs": [
        {
          "output_type": "execute_result",
          "data": {
            "text/plain": [
              "array([ 2,  5,  6, 10])"
            ]
          },
          "metadata": {},
          "execution_count": 102
        }
      ],
      "source": [
        "X = np.array([-1, 2, 0, -4, 5, 6, 0, 0, -9, 10])\n",
        "\n",
        "mask = X > X.mean()\n",
        "X[mask]"
      ]
    },
    {
      "cell_type": "markdown",
      "metadata": {
        "id": "BVUgJn3itj70"
      },
      "source": [
        "![green-divider](https://user-images.githubusercontent.com/7065401/52071924-c003ad80-2562-11e9-8297-1c6595f8a7ff.png)\n",
        "\n",
        "### Given the X numpy array, get numbers equal to 2 or 10"
      ]
    },
    {
      "cell_type": "code",
      "execution_count": 105,
      "metadata": {
        "colab": {
          "base_uri": "https://localhost:8080/"
        },
        "id": "6BQnv9YGtj70",
        "outputId": "e75cae91-11cd-4e3f-ba3c-f77747ab4596"
      },
      "outputs": [
        {
          "output_type": "stream",
          "name": "stdout",
          "text": [
            "[False  True False False False False False False False  True]\n"
          ]
        },
        {
          "output_type": "execute_result",
          "data": {
            "text/plain": [
              "array([ 2, 10])"
            ]
          },
          "metadata": {},
          "execution_count": 105
        }
      ],
      "source": [
        "# your code goes here\n",
        "X = np.array([-1, 2, 0, -4, 5, 6, 0, 0 , -9, 10])\n",
        "# this return a boolean\n",
        "mask = (X == 2) | (X == 10)\n",
        "print(mask)\n",
        "X[mask]"
      ]
    },
    {
      "cell_type": "code",
      "execution_count": null,
      "metadata": {
        "cell_type": "solution",
        "scrolled": true,
        "id": "XQN_F07Atj70"
      },
      "outputs": [],
      "source": [
        "X = np.array([-1, 2, 0, -4, 5, 6, 0, 0, -9, 10])\n",
        "\n",
        "mask = (X == 2) | (X == 10)\n",
        "X[mask]"
      ]
    },
    {
      "cell_type": "markdown",
      "metadata": {
        "id": "iyTzTsR9tj70"
      },
      "source": [
        "![purple-divider](https://user-images.githubusercontent.com/7065401/52071927-c1cd7100-2562-11e9-908a-dde91ba14e59.png)\n",
        "\n",
        "## Logic functions\n"
      ]
    },
    {
      "cell_type": "markdown",
      "metadata": {
        "id": "UgDHf1gGtj71"
      },
      "source": [
        "### Given the X numpy array, return True if none of its elements is zero"
      ]
    },
    {
      "cell_type": "code",
      "execution_count": 106,
      "metadata": {
        "colab": {
          "base_uri": "https://localhost:8080/"
        },
        "id": "xEUo_4Mwtj71",
        "outputId": "cd0615d1-6f29-488c-a03a-bd93b2b81e80"
      },
      "outputs": [
        {
          "output_type": "execute_result",
          "data": {
            "text/plain": [
              "False"
            ]
          },
          "metadata": {},
          "execution_count": 106
        }
      ],
      "source": [
        "# your code goes here\n",
        "X = np.array([-1,2,0,-4,5,6,0,-9,10])\n",
        "# .all will check if the array has a value 0\n",
        "X.all()"
      ]
    },
    {
      "cell_type": "code",
      "execution_count": 107,
      "metadata": {
        "cell_type": "solution",
        "colab": {
          "base_uri": "https://localhost:8080/"
        },
        "id": "4_XtYyBqtj71",
        "outputId": "52a2a217-f516-402f-a92f-12594c9247e7"
      },
      "outputs": [
        {
          "output_type": "execute_result",
          "data": {
            "text/plain": [
              "False"
            ]
          },
          "metadata": {},
          "execution_count": 107
        }
      ],
      "source": [
        "X = np.array([-1, 2, 0, -4, 5, 6, 0, 0, -9, 10])\n",
        "\n",
        "X.all()"
      ]
    },
    {
      "cell_type": "markdown",
      "metadata": {
        "id": "U71B5jqNtj71"
      },
      "source": [
        "![green-divider](https://user-images.githubusercontent.com/7065401/52071924-c003ad80-2562-11e9-8297-1c6595f8a7ff.png)\n",
        "\n",
        "### Given the X numpy array, return True if any of its elements is zero"
      ]
    },
    {
      "cell_type": "code",
      "execution_count": 108,
      "metadata": {
        "colab": {
          "base_uri": "https://localhost:8080/"
        },
        "id": "pNnpRPgUtj71",
        "outputId": "13c8eb92-c611-418b-beed-8c1435d24398"
      },
      "outputs": [
        {
          "output_type": "execute_result",
          "data": {
            "text/plain": [
              "True"
            ]
          },
          "metadata": {},
          "execution_count": 108
        }
      ],
      "source": [
        "# your code goes here\n",
        "X = np.array([-1, 2, 0, -4, 5, 6, 0, 0, -9, 10])\n",
        "\n",
        "X.any()"
      ]
    },
    {
      "cell_type": "code",
      "execution_count": null,
      "metadata": {
        "cell_type": "solution",
        "id": "EvXinV0ftj72"
      },
      "outputs": [],
      "source": [
        "X = np.array([-1, 2, 0, -4, 5, 6, 0, 0, -9, 10])\n",
        "\n",
        "X.any()"
      ]
    },
    {
      "cell_type": "markdown",
      "metadata": {
        "id": "Hy0JSYWytj72"
      },
      "source": [
        "![purple-divider](https://user-images.githubusercontent.com/7065401/52071927-c1cd7100-2562-11e9-908a-dde91ba14e59.png)\n",
        "\n",
        "## Summary statistics"
      ]
    },
    {
      "cell_type": "markdown",
      "metadata": {
        "id": "2vVLKoQUtj72"
      },
      "source": [
        "### Given the X numpy array, show the sum of its elements"
      ]
    },
    {
      "cell_type": "code",
      "execution_count": 109,
      "metadata": {
        "colab": {
          "base_uri": "https://localhost:8080/"
        },
        "id": "-Au_PEaZtj72",
        "outputId": "58fb42c7-8da8-4826-f84d-07d2ac0fd8f5"
      },
      "outputs": [
        {
          "output_type": "execute_result",
          "data": {
            "text/plain": [
              "43"
            ]
          },
          "metadata": {},
          "execution_count": 109
        }
      ],
      "source": [
        "# your code goes here\n",
        "X = np.array([3, 5, 6, 7, 2, 3, 4, 9, 4])\n",
        "# sum of all element in the array\n",
        "X.sum()"
      ]
    },
    {
      "cell_type": "code",
      "execution_count": null,
      "metadata": {
        "cell_type": "solution",
        "id": "dd2afh_Atj73"
      },
      "outputs": [],
      "source": [
        "X = np.array([3, 5, 6, 7, 2, 3, 4, 9, 4])\n",
        "\n",
        "#np.sum(X)\n",
        "X.sum()"
      ]
    },
    {
      "cell_type": "markdown",
      "metadata": {
        "id": "Hmrd6Ybztj73"
      },
      "source": [
        "![green-divider](https://user-images.githubusercontent.com/7065401/52071924-c003ad80-2562-11e9-8297-1c6595f8a7ff.png)\n",
        "\n",
        "### Given the X numpy array, show the mean value of its elements"
      ]
    },
    {
      "cell_type": "code",
      "execution_count": 71,
      "metadata": {
        "colab": {
          "base_uri": "https://localhost:8080/"
        },
        "id": "veOsQOIUtj73",
        "outputId": "b3551a11-6e2b-42c4-bed1-e744be17954e"
      },
      "outputs": [
        {
          "output_type": "execute_result",
          "data": {
            "text/plain": [
              "3.7"
            ]
          },
          "metadata": {},
          "execution_count": 71
        }
      ],
      "source": [
        "# your code goes here\n",
        "X = np.array([1, 2, 0, 4, 5, 6, 0, 0, 9, 10])\n",
        "X.mean()"
      ]
    },
    {
      "cell_type": "code",
      "execution_count": 70,
      "metadata": {
        "cell_type": "solution",
        "colab": {
          "base_uri": "https://localhost:8080/"
        },
        "id": "b6z6bgXHtj73",
        "outputId": "2fcdbf27-6a8e-4b2f-975a-3e96ea9ec80a"
      },
      "outputs": [
        {
          "output_type": "execute_result",
          "data": {
            "text/plain": [
              "3.7"
            ]
          },
          "metadata": {},
          "execution_count": 70
        }
      ],
      "source": [
        "X = np.array([1, 2, 0, 4, 5, 6, 0, 0, 9, 10])\n",
        "\n",
        "#np.mean(X)\n",
        "X.mean()"
      ]
    },
    {
      "cell_type": "markdown",
      "metadata": {
        "id": "Mnl00JLxtj74"
      },
      "source": [
        "![green-divider](https://user-images.githubusercontent.com/7065401/52071924-c003ad80-2562-11e9-8297-1c6595f8a7ff.png)\n",
        "\n",
        "### Given the X numpy matrix, show the sum of its columns"
      ]
    },
    {
      "cell_type": "code",
      "execution_count": 74,
      "metadata": {
        "colab": {
          "base_uri": "https://localhost:8080/"
        },
        "id": "dlA05vcytj74",
        "outputId": "a6c85665-3720-4159-afee-5e2e8a1c836b"
      },
      "outputs": [
        {
          "output_type": "execute_result",
          "data": {
            "text/plain": [
              "array([28, 32, 36, 40])"
            ]
          },
          "metadata": {},
          "execution_count": 74
        }
      ],
      "source": [
        "# your code goes here\n",
        "X = np.array([\n",
        "    [1,   2,  3,  4],\n",
        "    [5,   6,  7,  8],\n",
        "    [9,  10, 11, 12],\n",
        "    [13, 14, 15, 16]\n",
        "])\n",
        "X.sum(axis=0)"
      ]
    },
    {
      "cell_type": "code",
      "execution_count": null,
      "metadata": {
        "cell_type": "solution",
        "id": "83DwSIebtj74"
      },
      "outputs": [],
      "source": [
        "X = np.array([\n",
        "    [1,   2,  3,  4],\n",
        "    [5,   6,  7,  8],\n",
        "    [9,  10, 11, 12],\n",
        "    [13, 14, 15, 16]\n",
        "])\n",
        "\n",
        "X.sum(axis=0) # remember: axis=0 columns; axis=1 rows"
      ]
    },
    {
      "cell_type": "markdown",
      "metadata": {
        "id": "UAisAhuJtj74"
      },
      "source": [
        "![green-divider](https://user-images.githubusercontent.com/7065401/52071924-c003ad80-2562-11e9-8297-1c6595f8a7ff.png)\n",
        "\n",
        "### Given the X numpy matrix, show the mean value of its rows"
      ]
    },
    {
      "cell_type": "code",
      "execution_count": null,
      "metadata": {
        "id": "gedKSQ8jtj75"
      },
      "outputs": [],
      "source": [
        "# your code goes here\n"
      ]
    },
    {
      "cell_type": "code",
      "execution_count": null,
      "metadata": {
        "cell_type": "solution",
        "id": "rI7R3Pxutj75"
      },
      "outputs": [],
      "source": [
        "X = np.array([\n",
        "    [1,   2,  3,  4],\n",
        "    [5,   6,  7,  8],\n",
        "    [9,  10, 11, 12],\n",
        "    [13, 14, 15, 16]\n",
        "])\n",
        "\n",
        "X.mean(axis=1) # remember: axis=0 columns; axis=1 rows"
      ]
    },
    {
      "cell_type": "markdown",
      "metadata": {
        "id": "lY3gnkj1tj75"
      },
      "source": [
        "![green-divider](https://user-images.githubusercontent.com/7065401/52071924-c003ad80-2562-11e9-8297-1c6595f8a7ff.png)\n",
        "\n",
        "### Given the X numpy array, show the max value of its elements"
      ]
    },
    {
      "cell_type": "code",
      "execution_count": null,
      "metadata": {
        "id": "L1w-4Zxktj75"
      },
      "outputs": [],
      "source": [
        "# your code goes here\n"
      ]
    },
    {
      "cell_type": "code",
      "execution_count": 110,
      "metadata": {
        "cell_type": "solution",
        "colab": {
          "base_uri": "https://localhost:8080/"
        },
        "id": "ti850-Cjtj76",
        "outputId": "3c4b3d5c-f237-478e-98c4-a4fd4310611f"
      },
      "outputs": [
        {
          "output_type": "execute_result",
          "data": {
            "text/plain": [
              "10"
            ]
          },
          "metadata": {},
          "execution_count": 110
        }
      ],
      "source": [
        "X = np.array([1, 2, 0, 4, 5, 6, 0, 0, 9, 10])\n",
        "# This will return max value\n",
        "#np.max(X)\n",
        "X.max()"
      ]
    },
    {
      "cell_type": "markdown",
      "metadata": {
        "id": "TUIv_TeStj76"
      },
      "source": [
        "![purple-divider](https://user-images.githubusercontent.com/7065401/52071927-c1cd7100-2562-11e9-908a-dde91ba14e59.png)"
      ]
    }
  ],
  "metadata": {
    "kernelspec": {
      "display_name": "Python 3",
      "language": "python",
      "name": "python3"
    },
    "language_info": {
      "codemirror_mode": {
        "name": "ipython",
        "version": 3
      },
      "file_extension": ".py",
      "mimetype": "text/x-python",
      "name": "python",
      "nbconvert_exporter": "python",
      "pygments_lexer": "ipython3",
      "version": "3.8.1"
    },
    "colab": {
      "provenance": []
    }
  },
  "nbformat": 4,
  "nbformat_minor": 0
}